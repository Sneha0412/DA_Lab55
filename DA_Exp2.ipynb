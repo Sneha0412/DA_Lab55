{
  "nbformat": 4,
  "nbformat_minor": 0,
  "metadata": {
    "colab": {
      "name": "DA_Exp2.ipynb",
      "provenance": [],
      "collapsed_sections": [],
      "authorship_tag": "ABX9TyMcMy27fLKK1arpHvz5lnZo",
      "include_colab_link": true
    },
    "kernelspec": {
      "name": "python3",
      "display_name": "Python 3"
    },
    "language_info": {
      "name": "python"
    }
  },
  "cells": [
    {
      "cell_type": "markdown",
      "metadata": {
        "id": "view-in-github",
        "colab_type": "text"
      },
      "source": [
        "<a href=\"https://colab.research.google.com/github/Sneha0412/DA_Lab55/blob/main/DA_Exp2.ipynb\" target=\"_parent\"><img src=\"https://colab.research.google.com/assets/colab-badge.svg\" alt=\"Open In Colab\"/></a>"
      ]
    },
    {
      "cell_type": "code",
      "execution_count": null,
      "metadata": {
        "colab": {
          "base_uri": "https://localhost:8080/"
        },
        "id": "7NblxJmuYyJT",
        "outputId": "9f5866f4-9a43-47cc-b5b8-7ba5d96416ca"
      },
      "outputs": [
        {
          "output_type": "stream",
          "name": "stdout",
          "text": [
            "Requirement already satisfied: seaborn in /usr/local/lib/python3.7/dist-packages (0.11.2)\n",
            "Requirement already satisfied: numpy>=1.15 in /usr/local/lib/python3.7/dist-packages (from seaborn) (1.21.5)\n",
            "Requirement already satisfied: matplotlib>=2.2 in /usr/local/lib/python3.7/dist-packages (from seaborn) (3.2.2)\n",
            "Requirement already satisfied: pandas>=0.23 in /usr/local/lib/python3.7/dist-packages (from seaborn) (1.3.5)\n",
            "Requirement already satisfied: scipy>=1.0 in /usr/local/lib/python3.7/dist-packages (from seaborn) (1.4.1)\n",
            "Requirement already satisfied: kiwisolver>=1.0.1 in /usr/local/lib/python3.7/dist-packages (from matplotlib>=2.2->seaborn) (1.3.2)\n",
            "Requirement already satisfied: pyparsing!=2.0.4,!=2.1.2,!=2.1.6,>=2.0.1 in /usr/local/lib/python3.7/dist-packages (from matplotlib>=2.2->seaborn) (3.0.7)\n",
            "Requirement already satisfied: cycler>=0.10 in /usr/local/lib/python3.7/dist-packages (from matplotlib>=2.2->seaborn) (0.11.0)\n",
            "Requirement already satisfied: python-dateutil>=2.1 in /usr/local/lib/python3.7/dist-packages (from matplotlib>=2.2->seaborn) (2.8.2)\n",
            "Requirement already satisfied: pytz>=2017.3 in /usr/local/lib/python3.7/dist-packages (from pandas>=0.23->seaborn) (2018.9)\n",
            "Requirement already satisfied: six>=1.5 in /usr/local/lib/python3.7/dist-packages (from python-dateutil>=2.1->matplotlib>=2.2->seaborn) (1.15.0)\n",
            "Requirement already satisfied: numpy in /usr/local/lib/python3.7/dist-packages (1.21.5)\n",
            "Requirement already satisfied: pandas in /usr/local/lib/python3.7/dist-packages (1.3.5)\n",
            "Requirement already satisfied: numpy>=1.17.3 in /usr/local/lib/python3.7/dist-packages (from pandas) (1.21.5)\n",
            "Requirement already satisfied: pytz>=2017.3 in /usr/local/lib/python3.7/dist-packages (from pandas) (2018.9)\n",
            "Requirement already satisfied: python-dateutil>=2.7.3 in /usr/local/lib/python3.7/dist-packages (from pandas) (2.8.2)\n",
            "Requirement already satisfied: six>=1.5 in /usr/local/lib/python3.7/dist-packages (from python-dateutil>=2.7.3->pandas) (1.15.0)\n",
            "Requirement already satisfied: plotly in /usr/local/lib/python3.7/dist-packages (5.5.0)\n",
            "Requirement already satisfied: tenacity>=6.2.0 in /usr/local/lib/python3.7/dist-packages (from plotly) (8.0.1)\n",
            "Requirement already satisfied: six in /usr/local/lib/python3.7/dist-packages (from plotly) (1.15.0)\n",
            "Requirement already satisfied: scipy in /usr/local/lib/python3.7/dist-packages (1.4.1)\n",
            "Requirement already satisfied: numpy>=1.13.3 in /usr/local/lib/python3.7/dist-packages (from scipy) (1.21.5)\n"
          ]
        }
      ],
      "source": [
        "# Installing libraries\n",
        "!pip install seaborn\n",
        "!pip install numpy\n",
        "!pip install pandas\n",
        "!pip install plotly\n",
        "!pip install scipy"
      ]
    },
    {
      "cell_type": "code",
      "source": [
        "import seaborn as sns\n",
        "import numpy as np\n",
        "import pandas as pd\n",
        "import scipy as sp\n",
        "import plotly.express as px\n",
        "import plotly.graph_objects as go\n",
        "import plotly.figure_factory as ff"
      ],
      "metadata": {
        "id": "ksPlKsHjZA5b"
      },
      "execution_count": null,
      "outputs": []
    },
    {
      "cell_type": "code",
      "source": [
        "df = pd.read_csv('data.csv')\n",
        "df.shape"
      ],
      "metadata": {
        "colab": {
          "base_uri": "https://localhost:8080/"
        },
        "id": "7jF89fqWZI_W",
        "outputId": "5a8cee49-772d-4df3-f0fa-9d2d313dcd00"
      },
      "execution_count": null,
      "outputs": [
        {
          "output_type": "execute_result",
          "data": {
            "text/plain": [
              "(5440, 6)"
            ]
          },
          "metadata": {},
          "execution_count": 6
        }
      ]
    },
    {
      "cell_type": "code",
      "source": [
        "df.head()"
      ],
      "metadata": {
        "colab": {
          "base_uri": "https://localhost:8080/",
          "height": 206
        },
        "id": "ANV36YviZbiU",
        "outputId": "9a9bcd54-8da9-45a7-9c4f-47188671fd7c"
      },
      "execution_count": null,
      "outputs": [
        {
          "output_type": "execute_result",
          "data": {
            "text/html": [
              "\n",
              "  <div id=\"df-2deb0a60-5ad5-4a26-823a-5c49bf54e665\">\n",
              "    <div class=\"colab-df-container\">\n",
              "      <div>\n",
              "<style scoped>\n",
              "    .dataframe tbody tr th:only-of-type {\n",
              "        vertical-align: middle;\n",
              "    }\n",
              "\n",
              "    .dataframe tbody tr th {\n",
              "        vertical-align: top;\n",
              "    }\n",
              "\n",
              "    .dataframe thead th {\n",
              "        text-align: right;\n",
              "    }\n",
              "</style>\n",
              "<table border=\"1\" class=\"dataframe\">\n",
              "  <thead>\n",
              "    <tr style=\"text-align: right;\">\n",
              "      <th></th>\n",
              "      <th>title</th>\n",
              "      <th>author</th>\n",
              "      <th>date</th>\n",
              "      <th>views</th>\n",
              "      <th>likes</th>\n",
              "      <th>link</th>\n",
              "    </tr>\n",
              "  </thead>\n",
              "  <tbody>\n",
              "    <tr>\n",
              "      <th>0</th>\n",
              "      <td>Climate action needs new frontline leadership</td>\n",
              "      <td>Ozawa Bineshi Albert</td>\n",
              "      <td>December 2021</td>\n",
              "      <td>404000</td>\n",
              "      <td>12000</td>\n",
              "      <td>https://ted.com/talks/ozawa_bineshi_albert_cli...</td>\n",
              "    </tr>\n",
              "    <tr>\n",
              "      <th>1</th>\n",
              "      <td>The dark history of the overthrow of Hawaii</td>\n",
              "      <td>Sydney Iaukea</td>\n",
              "      <td>February 2022</td>\n",
              "      <td>214000</td>\n",
              "      <td>6400</td>\n",
              "      <td>https://ted.com/talks/sydney_iaukea_the_dark_h...</td>\n",
              "    </tr>\n",
              "    <tr>\n",
              "      <th>2</th>\n",
              "      <td>How play can spark new ideas for your business</td>\n",
              "      <td>Martin Reeves</td>\n",
              "      <td>September 2021</td>\n",
              "      <td>412000</td>\n",
              "      <td>12000</td>\n",
              "      <td>https://ted.com/talks/martin_reeves_how_play_c...</td>\n",
              "    </tr>\n",
              "    <tr>\n",
              "      <th>3</th>\n",
              "      <td>Why is China appointing judges to combat clima...</td>\n",
              "      <td>James K. Thornton</td>\n",
              "      <td>October 2021</td>\n",
              "      <td>427000</td>\n",
              "      <td>12000</td>\n",
              "      <td>https://ted.com/talks/james_k_thornton_why_is_...</td>\n",
              "    </tr>\n",
              "    <tr>\n",
              "      <th>4</th>\n",
              "      <td>Cement's carbon problem — and 2 ways to fix it</td>\n",
              "      <td>Mahendra Singhi</td>\n",
              "      <td>October 2021</td>\n",
              "      <td>2400</td>\n",
              "      <td>72</td>\n",
              "      <td>https://ted.com/talks/mahendra_singhi_cement_s...</td>\n",
              "    </tr>\n",
              "  </tbody>\n",
              "</table>\n",
              "</div>\n",
              "      <button class=\"colab-df-convert\" onclick=\"convertToInteractive('df-2deb0a60-5ad5-4a26-823a-5c49bf54e665')\"\n",
              "              title=\"Convert this dataframe to an interactive table.\"\n",
              "              style=\"display:none;\">\n",
              "        \n",
              "  <svg xmlns=\"http://www.w3.org/2000/svg\" height=\"24px\"viewBox=\"0 0 24 24\"\n",
              "       width=\"24px\">\n",
              "    <path d=\"M0 0h24v24H0V0z\" fill=\"none\"/>\n",
              "    <path d=\"M18.56 5.44l.94 2.06.94-2.06 2.06-.94-2.06-.94-.94-2.06-.94 2.06-2.06.94zm-11 1L8.5 8.5l.94-2.06 2.06-.94-2.06-.94L8.5 2.5l-.94 2.06-2.06.94zm10 10l.94 2.06.94-2.06 2.06-.94-2.06-.94-.94-2.06-.94 2.06-2.06.94z\"/><path d=\"M17.41 7.96l-1.37-1.37c-.4-.4-.92-.59-1.43-.59-.52 0-1.04.2-1.43.59L10.3 9.45l-7.72 7.72c-.78.78-.78 2.05 0 2.83L4 21.41c.39.39.9.59 1.41.59.51 0 1.02-.2 1.41-.59l7.78-7.78 2.81-2.81c.8-.78.8-2.07 0-2.86zM5.41 20L4 18.59l7.72-7.72 1.47 1.35L5.41 20z\"/>\n",
              "  </svg>\n",
              "      </button>\n",
              "      \n",
              "  <style>\n",
              "    .colab-df-container {\n",
              "      display:flex;\n",
              "      flex-wrap:wrap;\n",
              "      gap: 12px;\n",
              "    }\n",
              "\n",
              "    .colab-df-convert {\n",
              "      background-color: #E8F0FE;\n",
              "      border: none;\n",
              "      border-radius: 50%;\n",
              "      cursor: pointer;\n",
              "      display: none;\n",
              "      fill: #1967D2;\n",
              "      height: 32px;\n",
              "      padding: 0 0 0 0;\n",
              "      width: 32px;\n",
              "    }\n",
              "\n",
              "    .colab-df-convert:hover {\n",
              "      background-color: #E2EBFA;\n",
              "      box-shadow: 0px 1px 2px rgba(60, 64, 67, 0.3), 0px 1px 3px 1px rgba(60, 64, 67, 0.15);\n",
              "      fill: #174EA6;\n",
              "    }\n",
              "\n",
              "    [theme=dark] .colab-df-convert {\n",
              "      background-color: #3B4455;\n",
              "      fill: #D2E3FC;\n",
              "    }\n",
              "\n",
              "    [theme=dark] .colab-df-convert:hover {\n",
              "      background-color: #434B5C;\n",
              "      box-shadow: 0px 1px 3px 1px rgba(0, 0, 0, 0.15);\n",
              "      filter: drop-shadow(0px 1px 2px rgba(0, 0, 0, 0.3));\n",
              "      fill: #FFFFFF;\n",
              "    }\n",
              "  </style>\n",
              "\n",
              "      <script>\n",
              "        const buttonEl =\n",
              "          document.querySelector('#df-2deb0a60-5ad5-4a26-823a-5c49bf54e665 button.colab-df-convert');\n",
              "        buttonEl.style.display =\n",
              "          google.colab.kernel.accessAllowed ? 'block' : 'none';\n",
              "\n",
              "        async function convertToInteractive(key) {\n",
              "          const element = document.querySelector('#df-2deb0a60-5ad5-4a26-823a-5c49bf54e665');\n",
              "          const dataTable =\n",
              "            await google.colab.kernel.invokeFunction('convertToInteractive',\n",
              "                                                     [key], {});\n",
              "          if (!dataTable) return;\n",
              "\n",
              "          const docLinkHtml = 'Like what you see? Visit the ' +\n",
              "            '<a target=\"_blank\" href=https://colab.research.google.com/notebooks/data_table.ipynb>data table notebook</a>'\n",
              "            + ' to learn more about interactive tables.';\n",
              "          element.innerHTML = '';\n",
              "          dataTable['output_type'] = 'display_data';\n",
              "          await google.colab.output.renderOutput(dataTable, element);\n",
              "          const docLink = document.createElement('div');\n",
              "          docLink.innerHTML = docLinkHtml;\n",
              "          element.appendChild(docLink);\n",
              "        }\n",
              "      </script>\n",
              "    </div>\n",
              "  </div>\n",
              "  "
            ],
            "text/plain": [
              "                                               title  ...                                               link\n",
              "0      Climate action needs new frontline leadership  ...  https://ted.com/talks/ozawa_bineshi_albert_cli...\n",
              "1        The dark history of the overthrow of Hawaii  ...  https://ted.com/talks/sydney_iaukea_the_dark_h...\n",
              "2     How play can spark new ideas for your business  ...  https://ted.com/talks/martin_reeves_how_play_c...\n",
              "3  Why is China appointing judges to combat clima...  ...  https://ted.com/talks/james_k_thornton_why_is_...\n",
              "4     Cement's carbon problem — and 2 ways to fix it  ...  https://ted.com/talks/mahendra_singhi_cement_s...\n",
              "\n",
              "[5 rows x 6 columns]"
            ]
          },
          "metadata": {},
          "execution_count": 7
        }
      ]
    },
    {
      "cell_type": "code",
      "source": [
        "df = df.drop(columns=['link'], axis=1)\n",
        "df.info()"
      ],
      "metadata": {
        "colab": {
          "base_uri": "https://localhost:8080/"
        },
        "id": "jH2IPOb4ZpUA",
        "outputId": "9d3c860b-ac50-4411-c815-973ce85257fe"
      },
      "execution_count": null,
      "outputs": [
        {
          "output_type": "stream",
          "name": "stdout",
          "text": [
            "<class 'pandas.core.frame.DataFrame'>\n",
            "RangeIndex: 5440 entries, 0 to 5439\n",
            "Data columns (total 5 columns):\n",
            " #   Column  Non-Null Count  Dtype \n",
            "---  ------  --------------  ----- \n",
            " 0   title   5440 non-null   object\n",
            " 1   author  5439 non-null   object\n",
            " 2   date    5440 non-null   object\n",
            " 3   views   5440 non-null   int64 \n",
            " 4   likes   5440 non-null   int64 \n",
            "dtypes: int64(2), object(3)\n",
            "memory usage: 212.6+ KB\n"
          ]
        }
      ]
    },
    {
      "cell_type": "code",
      "source": [
        "df.count()"
      ],
      "metadata": {
        "colab": {
          "base_uri": "https://localhost:8080/"
        },
        "id": "u1VnxrfYalaA",
        "outputId": "e2f84ed0-a54c-460e-fd93-c481d7a71d56"
      },
      "execution_count": null,
      "outputs": [
        {
          "output_type": "execute_result",
          "data": {
            "text/plain": [
              "title     5440\n",
              "author    5439\n",
              "date      5440\n",
              "views     5440\n",
              "likes     5440\n",
              "dtype: int64"
            ]
          },
          "metadata": {},
          "execution_count": 11
        }
      ]
    },
    {
      "cell_type": "code",
      "source": [
        "df.isnull().sum()"
      ],
      "metadata": {
        "colab": {
          "base_uri": "https://localhost:8080/"
        },
        "id": "GD5rl7VtaXOc",
        "outputId": "39929469-6818-439b-9973-bf3ffde0529c"
      },
      "execution_count": null,
      "outputs": [
        {
          "output_type": "execute_result",
          "data": {
            "text/plain": [
              "title     0\n",
              "author    1\n",
              "date      0\n",
              "views     0\n",
              "likes     0\n",
              "dtype: int64"
            ]
          },
          "metadata": {},
          "execution_count": 12
        }
      ]
    },
    {
      "cell_type": "code",
      "source": [
        "df=df.dropna()\n",
        "df.count()"
      ],
      "metadata": {
        "colab": {
          "base_uri": "https://localhost:8080/"
        },
        "id": "saiX9lunawuX",
        "outputId": "15f54d4a-6bb7-4f3a-d8d1-fa3636334a22"
      },
      "execution_count": null,
      "outputs": [
        {
          "output_type": "execute_result",
          "data": {
            "text/plain": [
              "title     5439\n",
              "author    5439\n",
              "date      5439\n",
              "views     5439\n",
              "likes     5439\n",
              "dtype: int64"
            ]
          },
          "metadata": {},
          "execution_count": 13
        }
      ]
    },
    {
      "cell_type": "code",
      "source": [
        "df.describe()"
      ],
      "metadata": {
        "colab": {
          "base_uri": "https://localhost:8080/",
          "height": 300
        },
        "id": "zilBTP7AbdWS",
        "outputId": "8555555e-0074-47c5-9efe-a79d16fb6770"
      },
      "execution_count": null,
      "outputs": [
        {
          "output_type": "execute_result",
          "data": {
            "text/html": [
              "\n",
              "  <div id=\"df-f1807bec-1795-4b95-b37f-85bfa4e59964\">\n",
              "    <div class=\"colab-df-container\">\n",
              "      <div>\n",
              "<style scoped>\n",
              "    .dataframe tbody tr th:only-of-type {\n",
              "        vertical-align: middle;\n",
              "    }\n",
              "\n",
              "    .dataframe tbody tr th {\n",
              "        vertical-align: top;\n",
              "    }\n",
              "\n",
              "    .dataframe thead th {\n",
              "        text-align: right;\n",
              "    }\n",
              "</style>\n",
              "<table border=\"1\" class=\"dataframe\">\n",
              "  <thead>\n",
              "    <tr style=\"text-align: right;\">\n",
              "      <th></th>\n",
              "      <th>views</th>\n",
              "      <th>likes</th>\n",
              "    </tr>\n",
              "  </thead>\n",
              "  <tbody>\n",
              "    <tr>\n",
              "      <th>count</th>\n",
              "      <td>5.439000e+03</td>\n",
              "      <td>5.439000e+03</td>\n",
              "    </tr>\n",
              "    <tr>\n",
              "      <th>mean</th>\n",
              "      <td>2.061955e+06</td>\n",
              "      <td>6.261912e+04</td>\n",
              "    </tr>\n",
              "    <tr>\n",
              "      <th>std</th>\n",
              "      <td>3.567316e+06</td>\n",
              "      <td>1.076533e+05</td>\n",
              "    </tr>\n",
              "    <tr>\n",
              "      <th>min</th>\n",
              "      <td>1.200000e+03</td>\n",
              "      <td>3.700000e+01</td>\n",
              "    </tr>\n",
              "    <tr>\n",
              "      <th>25%</th>\n",
              "      <td>6.710000e+05</td>\n",
              "      <td>2.000000e+04</td>\n",
              "    </tr>\n",
              "    <tr>\n",
              "      <th>50%</th>\n",
              "      <td>1.300000e+06</td>\n",
              "      <td>4.100000e+04</td>\n",
              "    </tr>\n",
              "    <tr>\n",
              "      <th>75%</th>\n",
              "      <td>2.100000e+06</td>\n",
              "      <td>6.500000e+04</td>\n",
              "    </tr>\n",
              "    <tr>\n",
              "      <th>max</th>\n",
              "      <td>7.200000e+07</td>\n",
              "      <td>2.100000e+06</td>\n",
              "    </tr>\n",
              "  </tbody>\n",
              "</table>\n",
              "</div>\n",
              "      <button class=\"colab-df-convert\" onclick=\"convertToInteractive('df-f1807bec-1795-4b95-b37f-85bfa4e59964')\"\n",
              "              title=\"Convert this dataframe to an interactive table.\"\n",
              "              style=\"display:none;\">\n",
              "        \n",
              "  <svg xmlns=\"http://www.w3.org/2000/svg\" height=\"24px\"viewBox=\"0 0 24 24\"\n",
              "       width=\"24px\">\n",
              "    <path d=\"M0 0h24v24H0V0z\" fill=\"none\"/>\n",
              "    <path d=\"M18.56 5.44l.94 2.06.94-2.06 2.06-.94-2.06-.94-.94-2.06-.94 2.06-2.06.94zm-11 1L8.5 8.5l.94-2.06 2.06-.94-2.06-.94L8.5 2.5l-.94 2.06-2.06.94zm10 10l.94 2.06.94-2.06 2.06-.94-2.06-.94-.94-2.06-.94 2.06-2.06.94z\"/><path d=\"M17.41 7.96l-1.37-1.37c-.4-.4-.92-.59-1.43-.59-.52 0-1.04.2-1.43.59L10.3 9.45l-7.72 7.72c-.78.78-.78 2.05 0 2.83L4 21.41c.39.39.9.59 1.41.59.51 0 1.02-.2 1.41-.59l7.78-7.78 2.81-2.81c.8-.78.8-2.07 0-2.86zM5.41 20L4 18.59l7.72-7.72 1.47 1.35L5.41 20z\"/>\n",
              "  </svg>\n",
              "      </button>\n",
              "      \n",
              "  <style>\n",
              "    .colab-df-container {\n",
              "      display:flex;\n",
              "      flex-wrap:wrap;\n",
              "      gap: 12px;\n",
              "    }\n",
              "\n",
              "    .colab-df-convert {\n",
              "      background-color: #E8F0FE;\n",
              "      border: none;\n",
              "      border-radius: 50%;\n",
              "      cursor: pointer;\n",
              "      display: none;\n",
              "      fill: #1967D2;\n",
              "      height: 32px;\n",
              "      padding: 0 0 0 0;\n",
              "      width: 32px;\n",
              "    }\n",
              "\n",
              "    .colab-df-convert:hover {\n",
              "      background-color: #E2EBFA;\n",
              "      box-shadow: 0px 1px 2px rgba(60, 64, 67, 0.3), 0px 1px 3px 1px rgba(60, 64, 67, 0.15);\n",
              "      fill: #174EA6;\n",
              "    }\n",
              "\n",
              "    [theme=dark] .colab-df-convert {\n",
              "      background-color: #3B4455;\n",
              "      fill: #D2E3FC;\n",
              "    }\n",
              "\n",
              "    [theme=dark] .colab-df-convert:hover {\n",
              "      background-color: #434B5C;\n",
              "      box-shadow: 0px 1px 3px 1px rgba(0, 0, 0, 0.15);\n",
              "      filter: drop-shadow(0px 1px 2px rgba(0, 0, 0, 0.3));\n",
              "      fill: #FFFFFF;\n",
              "    }\n",
              "  </style>\n",
              "\n",
              "      <script>\n",
              "        const buttonEl =\n",
              "          document.querySelector('#df-f1807bec-1795-4b95-b37f-85bfa4e59964 button.colab-df-convert');\n",
              "        buttonEl.style.display =\n",
              "          google.colab.kernel.accessAllowed ? 'block' : 'none';\n",
              "\n",
              "        async function convertToInteractive(key) {\n",
              "          const element = document.querySelector('#df-f1807bec-1795-4b95-b37f-85bfa4e59964');\n",
              "          const dataTable =\n",
              "            await google.colab.kernel.invokeFunction('convertToInteractive',\n",
              "                                                     [key], {});\n",
              "          if (!dataTable) return;\n",
              "\n",
              "          const docLinkHtml = 'Like what you see? Visit the ' +\n",
              "            '<a target=\"_blank\" href=https://colab.research.google.com/notebooks/data_table.ipynb>data table notebook</a>'\n",
              "            + ' to learn more about interactive tables.';\n",
              "          element.innerHTML = '';\n",
              "          dataTable['output_type'] = 'display_data';\n",
              "          await google.colab.output.renderOutput(dataTable, element);\n",
              "          const docLink = document.createElement('div');\n",
              "          docLink.innerHTML = docLinkHtml;\n",
              "          element.appendChild(docLink);\n",
              "        }\n",
              "      </script>\n",
              "    </div>\n",
              "  </div>\n",
              "  "
            ],
            "text/plain": [
              "              views         likes\n",
              "count  5.439000e+03  5.439000e+03\n",
              "mean   2.061955e+06  6.261912e+04\n",
              "std    3.567316e+06  1.076533e+05\n",
              "min    1.200000e+03  3.700000e+01\n",
              "25%    6.710000e+05  2.000000e+04\n",
              "50%    1.300000e+06  4.100000e+04\n",
              "75%    2.100000e+06  6.500000e+04\n",
              "max    7.200000e+07  2.100000e+06"
            ]
          },
          "metadata": {},
          "execution_count": 16
        }
      ]
    },
    {
      "cell_type": "code",
      "source": [
        "hist_data = [df['views']]\n",
        "\n",
        "group_labels = ['views']\n",
        "\n",
        "fig = ff.create_distplot(hist_data, group_labels, show_hist=False, curve_type='normal', bin_size=0.5, show_rug=False)\n",
        "fig.show()"
      ],
      "metadata": {
        "colab": {
          "base_uri": "https://localhost:8080/",
          "height": 542
        },
        "id": "jt6sOIffbqEQ",
        "outputId": "539ea56e-2b9b-489c-9d08-f0a092dfc5be"
      },
      "execution_count": null,
      "outputs": [
        {
          "output_type": "display_data",
          "data": {
            "text/html": [
              "<html>\n",
              "<head><meta charset=\"utf-8\" /></head>\n",
              "<body>\n",
              "    <div>            <script src=\"https://cdnjs.cloudflare.com/ajax/libs/mathjax/2.7.5/MathJax.js?config=TeX-AMS-MML_SVG\"></script><script type=\"text/javascript\">if (window.MathJax) {MathJax.Hub.Config({SVG: {font: \"STIX-Web\"}});}</script>                <script type=\"text/javascript\">window.PlotlyConfig = {MathJaxConfig: 'local'};</script>\n",
              "        <script src=\"https://cdn.plot.ly/plotly-2.8.3.min.js\"></script>                <div id=\"0e6ef7ae-42fa-4666-aaf5-e30ab3d7cd5c\" class=\"plotly-graph-div\" style=\"height:525px; width:100%;\"></div>            <script type=\"text/javascript\">                                    window.PLOTLYENV=window.PLOTLYENV || {};                                    if (document.getElementById(\"0e6ef7ae-42fa-4666-aaf5-e30ab3d7cd5c\")) {                    Plotly.newPlot(                        \"0e6ef7ae-42fa-4666-aaf5-e30ab3d7cd5c\",                        [{\"legendgroup\":\"views\",\"marker\":{\"color\":\"rgb(31, 119, 180)\"},\"mode\":\"lines\",\"name\":\"views\",\"showlegend\":true,\"x\":[1200.0,145197.6,289195.2,433192.8,577190.4,721188.0,865185.6,1009183.2,1153180.8,1297178.4,1441176.0,1585173.6,1729171.2,1873168.8,2017166.4,2161164.0,2305161.6,2449159.2,2593156.8,2737154.4,2881152.0,3025149.6,3169147.2,3313144.8,3457142.4,3601140.0,3745137.6,3889135.2,4033132.8,4177130.4,4321128.0,4465125.6,4609123.2,4753120.8,4897118.4,5041116.0,5185113.6,5329111.2,5473108.8,5617106.4,5761104.0,5905101.6,6049099.2,6193096.8,6337094.4,6481092.0,6625089.6,6769087.2,6913084.8,7057082.4,7201080.0,7345077.6,7489075.2,7633072.8,7777070.4,7921068.0,8065065.6,8209063.2,8353060.8,8497058.4,8641056.0,8785053.6,8929051.2,9073048.8,9217046.4,9361044.0,9505041.6,9649039.2,9793036.8,9937034.4,10081032.0,10225029.6,10369027.2,10513024.8,10657022.4,10801020.0,10945017.6,11089015.2,11233012.8,11377010.4,11521008.0,11665005.6,11809003.2,11953000.8,12096998.4,12240996.0,12384993.6,12528991.2,12672988.8,12816986.4,12960984.0,13104981.6,13248979.2,13392976.8,13536974.4,13680972.0,13824969.6,13968967.2,14112964.8,14256962.4,14400960.0,14544957.6,14688955.2,14832952.8,14976950.4,15120948.0,15264945.6,15408943.2,15552940.8,15696938.4,15840936.0,15984933.6,16128931.2,16272928.8,16416926.4,16560924.0,16704921.6,16848919.2,16992916.8,17136914.4,17280912.0,17424909.6,17568907.2,17712904.8,17856902.4,18000900.0,18144897.6,18288895.2,18432892.8,18576890.4,18720888.0,18864885.6,19008883.2,19152880.8,19296878.4,19440876.0,19584873.6,19728871.2,19872868.8,20016866.4,20160864.0,20304861.6,20448859.2,20592856.8,20736854.4,20880852.0,21024849.6,21168847.2,21312844.8,21456842.4,21600840.0,21744837.6,21888835.2,22032832.8,22176830.4,22320828.0,22464825.6,22608823.2,22752820.8,22896818.4,23040816.0,23184813.6,23328811.2,23472808.8,23616806.4,23760804.0,23904801.6,24048799.2,24192796.8,24336794.4,24480792.0,24624789.6,24768787.2,24912784.8,25056782.4,25200780.0,25344777.6,25488775.2,25632772.8,25776770.4,25920768.0,26064765.6,26208763.2,26352760.8,26496758.4,26640756.0,26784753.6,26928751.2,27072748.8,27216746.4,27360744.0,27504741.6,27648739.2,27792736.8,27936734.4,28080732.0,28224729.6,28368727.2,28512724.8,28656722.4,28800720.0,28944717.6,29088715.2,29232712.8,29376710.4,29520708.0,29664705.6,29808703.2,29952700.8,30096698.4,30240696.0,30384693.6,30528691.2,30672688.8,30816686.4,30960684.0,31104681.6,31248679.2,31392676.8,31536674.4,31680672.0,31824669.6,31968667.2,32112664.8,32256662.4,32400660.0,32544657.6,32688655.2,32832652.8,32976650.4,33120648.0,33264645.6,33408643.2,33552640.8,33696638.4,33840636.0,33984633.6,34128631.2,34272628.8,34416626.4,34560624.0,34704621.6,34848619.2,34992616.8,35136614.4,35280612.0,35424609.6,35568607.2,35712604.8,35856602.4,36000600.0,36144597.6,36288595.2,36432592.8,36576590.4,36720588.0,36864585.6,37008583.2,37152580.8,37296578.4,37440576.0,37584573.6,37728571.2,37872568.8,38016566.4,38160564.0,38304561.6,38448559.2,38592556.8,38736554.4,38880552.0,39024549.6,39168547.2,39312544.8,39456542.4,39600540.0,39744537.6,39888535.2,40032532.8,40176530.4,40320528.0,40464525.6,40608523.2,40752520.8,40896518.4,41040516.0,41184513.6,41328511.2,41472508.8,41616506.4,41760504.0,41904501.6,42048499.2,42192496.8,42336494.4,42480492.0,42624489.6,42768487.2,42912484.8,43056482.4,43200480.0,43344477.6,43488475.2,43632472.8,43776470.4,43920468.0,44064465.6,44208463.2,44352460.8,44496458.4,44640456.0,44784453.6,44928451.2,45072448.8,45216446.4,45360444.0,45504441.6,45648439.2,45792436.8,45936434.4,46080432.0,46224429.6,46368427.2,46512424.8,46656422.4,46800420.0,46944417.6,47088415.2,47232412.8,47376410.4,47520408.0,47664405.6,47808403.2,47952400.8,48096398.4,48240396.0,48384393.6,48528391.2,48672388.8,48816386.4,48960384.0,49104381.6,49248379.2,49392376.8,49536374.4,49680372.0,49824369.6,49968367.2,50112364.8,50256362.4,50400360.0,50544357.6,50688355.2,50832352.8,50976350.4,51120348.0,51264345.6,51408343.2,51552340.8,51696338.4,51840336.0,51984333.6,52128331.2,52272328.8,52416326.4,52560324.0,52704321.6,52848319.2,52992316.8,53136314.4,53280312.0,53424309.6,53568307.2,53712304.8,53856302.4,54000300.0,54144297.6,54288295.2,54432292.8,54576290.4,54720288.0,54864285.6,55008283.2,55152280.8,55296278.4,55440276.0,55584273.6,55728271.2,55872268.8,56016266.4,56160264.0,56304261.6,56448259.2,56592256.8,56736254.4,56880252.0,57024249.6,57168247.2,57312244.8,57456242.4,57600240.0,57744237.6,57888235.2,58032232.8,58176230.4,58320228.0,58464225.6,58608223.2,58752220.8,58896218.4,59040216.0,59184213.6,59328211.2,59472208.8,59616206.4,59760204.0,59904201.6,60048199.2,60192196.8,60336194.4,60480192.0,60624189.6,60768187.2,60912184.8,61056182.4,61200180.0,61344177.6,61488175.2,61632172.8,61776170.4,61920168.0,62064165.6,62208163.2,62352160.8,62496158.4,62640156.0,62784153.6,62928151.2,63072148.8,63216146.4,63360144.0,63504141.6,63648139.2,63792136.8,63936134.4,64080132.0,64224129.6,64368127.2,64512124.8,64656122.4,64800120.0,64944117.6,65088115.2,65232112.8,65376110.4,65520108.0,65664105.6,65808103.2,65952100.8,66096098.4,66240096.0,66384093.6,66528091.2,66672088.8,66816086.4,66960084.0,67104081.6,67248079.2,67392076.8,67536074.4,67680072.0,67824069.6,67968067.2,68112064.8,68256062.4,68400060.0,68544057.6,68688055.2,68832052.8,68976050.4,69120048.0,69264045.6,69408043.2,69552040.8,69696038.4,69840036.0,69984033.6,70128031.2,70272028.8,70416026.4,70560024.0,70704021.6,70848019.2,70992016.8,71136014.4,71280012.0,71424009.6,71568007.2,71712004.8,71856002.4],\"xaxis\":\"x\",\"y\":[9.465222186675668e-08,9.680679334544136e-08,9.884918374121306e-08,1.0077030459962814e-07,1.0256148167090635e-07,1.0421451997885846e-07,1.057217661638937e-07,1.0707616743777949e-07,1.0827132651551207e-07,1.0930155192611128e-07,1.1016190314896973e-07,1.108482300750221e-07,1.1135720635177146e-07,1.1168635623731249e-07,1.1183407466000873e-07,1.1179964025640188e-07,1.1158322123916488e-07,1.1118587402830876e-07,1.1060953466122838e-07,1.0985700307931926e-07,1.0893192046961566e-07,1.0783873991801446e-07,1.0658269070503021e-07,1.0516973664461144e-07,1.0360652893036117e-07,1.0190035401066664e-07,1.0005907706399692e-07,9.809108168734067e-08,9.600520644393616e-08,9.381067894074488e-08,9.151704812133755e-08,8.913411546595047e-08,8.667186578752609e-08,8.41403983008194e-08,8.154985862150497e-08,7.891037232416574e-08,7.623198065269477e-08,7.35245789347201e-08,7.079785820396128e-08,6.806125048182471e-08,6.532387811295128e-08,6.259450748980583e-08,5.988150743970181e-08,5.719281248485633e-08,5.453589112310946e-08,5.1917719214730093e-08,4.934475850012423e-08,4.682294021505907e-08,4.43576537149381e-08,4.195373996834874e-08,3.961548973310438e-08,3.734664618576749e-08,3.5150411738528605e-08,3.302945874557905e-08,3.098594377491056e-08,2.902152510086504e-08,2.7137383057705913e-08,2.5334242884877123e-08,2.3612399690257215e-08,2.1971745158338166e-08,2.0411795635535367e-08,1.893172123438371e-08,1.7530375611775915e-08,1.620632609319758e-08,1.495788383463499e-08,1.3783133735987283e-08,1.2679963843915762e-08,1.1646094007623789e-08,1.0679103577611161e-08,9.776457964536524e-09,8.935533902527351e-09,8.153643288208446e-09,7.428055493021015e-09,6.756018071760401e-09,6.134775814396498e-09,5.5615881109247926e-09,5.033744620039726e-09,4.548579251677378e-09,4.103482490837045e-09,3.6959121054934646e-09,3.323402294823195e-09,2.9835713453937313e-09,2.6741278724358918e-09,2.3928757308995787e-09,2.137717686764315e-09,1.9066579431418425e-09,1.6978036181881387e-09,1.5093652728670098e-09,1.3396565863171444e-09,1.187093275113966e-09,1.0501913502341698e-09,9.275648021716543e-10,8.179228005623686e-10,7.200664899918905e-10,6.328854585154267e-10,5.553539499396457e-10,4.865268852141902e-10,4.255357524623873e-10,3.7158441933960745e-10,3.2394491562680174e-10,2.819532283177829e-10,2.4500514600284823e-10,2.125521841386219e-10,1.8409761786498156e-10,1.591926444153313e-10,1.3743269288844726e-10,1.1845389522270708e-10,1.0192972864361114e-10,8.756783664372296e-11,7.510703269553141e-11,6.431448838271016e-11,5.498310545035919e-11,4.6929069403477977e-11,3.998958070620827e-11,3.40207583315738e-11,2.8895709360679362e-11,2.4502757509146163e-11,2.0743822844289868e-11,1.7532944526810678e-11,1.4794938143703518e-11,1.2464179073740082e-11,1.0483503323286611e-11,8.803217369709059e-12,7.380208734837184e-12,6.177149265983363e-12,5.161783412381394e-12,4.306294137637846e-12,3.5867394923235654e-12,2.982553275044015e-12,2.4761036264135672e-12,2.052303820793988e-12,1.6982699390951796e-12,1.4030205171162711e-12,1.1572136635641573e-12,9.529175266517124e-13,7.834103554749055e-13,6.430067503255121e-13,5.269070234520331e-13,4.31066897800907e-13,3.520850556617103e-13,2.8710631198400643e-13,2.3373842881354e-13,1.8998080843736601e-13,1.5416350424664126e-13,1.2489517097779037e-13,1.0101874093342409e-13,8.157376113361227e-14,6.576445925982493e-14,5.2932724891297166e-14,4.253529804848604e-14,3.4124550574708474e-14,2.733232848855731e-14,2.1856396159551952e-14,1.7449086974173945e-14,1.3907820983675706e-14,1.10671987095888e-14,8.79242261332857e-15,6.973834433656142e-15,5.522388317784899e-15,4.365907015358875e-15,3.4459919080381584e-15,2.7154777948248454e-15,2.136340577098228e-15,1.6779806726269709e-15,1.3158174758391066e-15,1.0301407735993614e-15,8.051739865463713e-16,6.283116677040557e-16,4.895000551099168e-16,3.807348197140964e-16,2.956546264351259e-16,2.2921286685928767e-16,1.774130401543759e-16,1.3709585175661903e-16,1.0576825062748015e-16,8.146640645263534e-17,6.264609851903827e-17,4.8095199410516364e-17,3.68639324380919e-17,2.820939839537498e-17,2.155153550874342e-17,1.6438222079023196e-17,1.2517675808053275e-17,9.51666511537625e-18,7.223340800959617e-18,5.473733577633251e-18,4.141154522388134e-18,3.1278898292395142e-18,2.3587053436523666e-18,1.7757759304895803e-18,1.3347344514975689e-18,1.0015988260290585e-18,7.503864347263476e-19,5.612655327652421e-19,4.1912542121467646e-19,3.124725444373462e-19,2.3257978029289657e-19,1.7283204916217497e-19,1.282238561337346e-19,9.49741945147354e-20,7.023193523867033e-20,5.1850850362438155e-20,3.8218123733368095e-20,2.812386937570677e-20,2.0662031212582807e-20,1.5155252814900605e-20,1.1098022191906517e-20,8.113723868370555e-21,5.922254806285762e-21,4.315649699582825e-21,3.1397676736979287e-21,2.2805577423530683e-21,1.6537766774683354e-21,1.197305242934849e-21,8.65416431262156e-22,6.245074451625949e-22,4.499272891431171e-22,3.236229264254261e-22,2.3239589779847476e-22,1.666133765528123e-22,1.1925689698945082e-22,8.522153950537904e-23,6.080054564926112e-23,4.330697103042304e-23,3.0796429876939915e-23,2.1864279376720115e-23,1.549751959097384e-23,1.0966838579655384e-23,7.748059361915719e-24,5.4650817000429066e-24,3.84850991095408e-24,2.705707160433594e-24,1.8991584656565517e-24,1.3308645214102504e-24,9.311051370042843e-25,6.503630047404276e-25,4.535291084023649e-25,3.157524540511021e-25,2.1947271400387187e-25,1.523023361078085e-25,1.0551758106735998e-25,7.298528691706855e-26,5.040087123003292e-26,3.47482549218905e-26,2.3917742464719828e-26,1.64361313304528e-26,1.1276420212979007e-26,7.723873121783884e-27,5.281912981149043e-27,3.60611509635491e-27,2.4579902570996084e-27,1.6726803744949085e-27,1.1364177193901123e-27,7.708240623146347e-28,5.219930983723657e-28,3.5291205190480975e-28,2.382102525955005e-28,1.6052646448282665e-28,1.0800032511421137e-28,7.254303413955713e-29,4.864728424262972e-29,3.256969684004669e-29,2.1770132026106177e-29,1.452782636867677e-29,9.679043677091267e-30,6.438081790296606e-30,4.2753607014121715e-30,2.8345313410389576e-30,1.8762123777755227e-30,1.2398666011752818e-30,8.180129086737962e-31,5.388124026760457e-31,3.5432944338123236e-31,2.326318268105181e-31,1.5248364026253772e-31,9.978599743628417e-32,6.519408363845625e-32,4.2524478756994453e-32,2.769249230759317e-32,1.8004344724168378e-32,1.1686509776180714e-32,7.573289608194303e-33,4.899779475793436e-33,3.164905409314748e-33,2.0409725616226417e-33,1.3140316592366327e-33,8.446304276101786e-34,5.420256609428092e-34,3.472683501715604e-34,2.2212773643134053e-34,1.4185106780139701e-34,9.043877243233187e-35,5.756638255464e-35,3.6582674358606427e-35,2.3209949421901127e-35,1.470161915134728e-35,9.29711864427135e-36,5.8698068329698186e-36,3.699912699306622e-36,2.3283666783161287e-36,1.4628624932286026e-36,9.1758829686173e-37,5.746249219275929e-37,3.592636524248371e-37,2.2425097243445956e-37,1.3974864970504511e-37,8.694670669006996e-38,5.40071033017054e-38,3.3491983070020613e-38,2.0735908739866017e-38,1.2817328460078279e-38,7.909776021354396e-39,4.8732993466290136e-39,2.99760375056004e-39,1.8408465543617618e-39,1.1286341464549657e-39,6.908456276848772e-40,4.221833213416267e-40,2.5758072556141446e-40,1.5689817186567923e-40,9.54145564183664e-41,5.793001207227182e-41,3.511436616346014e-41,2.1249967941434942e-41,1.2838785881468314e-41,7.744294570268129e-42,4.663715001763165e-42,2.8039765234347626e-42,1.6830963355757988e-42,1.0086391168901744e-42,6.034688680242624e-43,3.604675420332973e-43,2.1496595824776047e-43,1.279868787589589e-43,7.607701009904543e-44,4.5147494659025e-44,2.6748910994004643e-44,1.5822342713398272e-44,9.343889626602705e-45,5.509051642295828e-45,3.2427854698782575e-45,1.9056881102996164e-45,1.11809231266193e-45,6.5493127495653695e-46,3.83006398374706e-46,2.236189272512209e-46,1.3034768469397472e-46,7.585606571204368e-47,4.4072687909816385e-47,2.5564717217613804e-47,1.4804872764885605e-47,8.559740460822569e-48,4.940930500524659e-48,2.847404222248852e-48,1.638255880020857e-48,9.410367350871392e-49,5.396642512142119e-49,3.0898183944003492e-49,1.7661780762927453e-49,1.0079250894947658e-49,5.742675195632921e-50,3.266573856986695e-50,1.8550812751435975e-50,1.0517817542543674e-50,5.953612364821927e-51,3.364555586700225e-51,1.8983098099683658e-51,1.0692978841354927e-51,6.013434072511695e-52,3.376281364544865e-52,1.8925481625427893e-52,1.0591256364445713e-52,5.917527044657645e-53,3.3008459294037116e-53,1.8382411633874362e-53,1.0220495501241779e-53,5.673272536246993e-54,3.1440364597841346e-54,1.739537243892031e-54,9.608865635075572e-55,5.2991076306673814e-55,2.9175989353644683e-55,1.6037647889152284e-55,8.8013235718261e-56,4.822225689163221e-56,2.637784476382044e-56,1.4405333427006064e-56,7.854156541533287e-57,4.2753140507851015e-57,2.3234253442080636e-57,1.2606126294485058e-57,6.828523625462769e-58,3.692871620125051e-58,1.9938562077144293e-58,1.0747703841610478e-58,5.784019890639175e-59,3.1076785914013465e-59,1.666996336106802e-59,8.927408871772049e-60,4.7731868702358495e-60,2.5479076340285925e-60,1.3578479904233693e-60,7.224550960686377e-61,3.837627300149842e-61,2.0351993824642223e-61,1.077564711623368e-61,5.696026354696121e-62,3.0060268172385365e-62,1.5838204362786532e-62,8.331271074218662e-63,4.3753099013153846e-63,2.2940274192883523e-63,1.2008274880914359e-63,6.275594419972053e-64,3.274321702934511e-64,1.7056112675816254e-64,8.870150675846573e-65,4.60547224242118e-65,2.3873141499748767e-65,1.2354842300897712e-65,6.383473674605741e-66,3.2928289257791055e-66,1.6957955673798548e-66,8.719067793394168e-67,4.475678106889338e-67,2.2937171683639487e-67,1.1735811286514267e-67,5.9948538613083255e-68,3.057287741598973e-68,1.5566330982000448e-68,7.912768083395339e-69,4.0157146488485926e-69,2.0346489271497768e-69,1.0292203243444503e-69,5.1977986851999704e-70,2.6207330596399337e-70,1.3192234137485002e-70,6.6298872873491315e-71,3.3264896064148308e-71,1.6663200793098167e-71,8.333413187759669e-72,4.160826767032806e-72,2.0740947148212846e-72,1.0322140499457717e-72,5.1286513765343e-73,2.5440686260964416e-73,1.2599308121414837e-73,6.2295518192031e-74,3.0750992669082473e-74,1.5154922083418111e-74,7.456594172070921e-75,3.662853403473338e-75,1.7963493409051633e-75,8.795373598739665e-76,4.2994214155219924e-76,2.0982535678232078e-76,1.0223465982874058e-76,4.97313871861583e-77,2.4152117992101297e-77,1.1710410012109387e-77,5.668670473448094e-78,2.739570956165097e-78,1.3218315882918974e-78,6.36739702362335e-79,3.062245218246453e-79,1.470314470071358e-79,7.048110895550181e-80,3.3730863344761186e-80,1.6116636720097919e-80,7.688004120921011e-81,3.661381891767656e-81,1.7408793840384867e-81,8.263890736482317e-82,3.9164508586376384e-82,1.853075132349848e-82,8.753577991374437e-83,4.128292058659619e-83,1.9437815425773404e-83,9.137275609164574e-84,4.288231540921627e-84,2.009240668376847e-84,9.398919376828685e-85,4.3895107776256893e-85,2.046663979613791e-85,9.527286030710033e-86,4.427760205475438e-86,2.054429358573934e-86,9.516791699921679e-87,4.401311899010958e-87,2.0321977176144346e-87,9.367894771883469e-88,4.311320203915984e-88,1.98093755743359e-88,9.087062684037462e-89,4.1616781745406796e-89,1.902854987931582e-89,8.686305993550832e-90,3.958738243349867e-90,1.8012362563744305e-90,8.182326491780895e-91],\"yaxis\":\"y\",\"type\":\"scatter\"}],                        {\"barmode\":\"overlay\",\"hovermode\":\"closest\",\"legend\":{\"traceorder\":\"reversed\"},\"xaxis\":{\"anchor\":\"y2\",\"domain\":[0.0,1.0],\"zeroline\":false},\"yaxis\":{\"anchor\":\"free\",\"domain\":[0.0,1],\"position\":0.0},\"template\":{\"data\":{\"bar\":[{\"error_x\":{\"color\":\"#2a3f5f\"},\"error_y\":{\"color\":\"#2a3f5f\"},\"marker\":{\"line\":{\"color\":\"#E5ECF6\",\"width\":0.5},\"pattern\":{\"fillmode\":\"overlay\",\"size\":10,\"solidity\":0.2}},\"type\":\"bar\"}],\"barpolar\":[{\"marker\":{\"line\":{\"color\":\"#E5ECF6\",\"width\":0.5},\"pattern\":{\"fillmode\":\"overlay\",\"size\":10,\"solidity\":0.2}},\"type\":\"barpolar\"}],\"carpet\":[{\"aaxis\":{\"endlinecolor\":\"#2a3f5f\",\"gridcolor\":\"white\",\"linecolor\":\"white\",\"minorgridcolor\":\"white\",\"startlinecolor\":\"#2a3f5f\"},\"baxis\":{\"endlinecolor\":\"#2a3f5f\",\"gridcolor\":\"white\",\"linecolor\":\"white\",\"minorgridcolor\":\"white\",\"startlinecolor\":\"#2a3f5f\"},\"type\":\"carpet\"}],\"choropleth\":[{\"colorbar\":{\"outlinewidth\":0,\"ticks\":\"\"},\"type\":\"choropleth\"}],\"contour\":[{\"colorbar\":{\"outlinewidth\":0,\"ticks\":\"\"},\"colorscale\":[[0.0,\"#0d0887\"],[0.1111111111111111,\"#46039f\"],[0.2222222222222222,\"#7201a8\"],[0.3333333333333333,\"#9c179e\"],[0.4444444444444444,\"#bd3786\"],[0.5555555555555556,\"#d8576b\"],[0.6666666666666666,\"#ed7953\"],[0.7777777777777778,\"#fb9f3a\"],[0.8888888888888888,\"#fdca26\"],[1.0,\"#f0f921\"]],\"type\":\"contour\"}],\"contourcarpet\":[{\"colorbar\":{\"outlinewidth\":0,\"ticks\":\"\"},\"type\":\"contourcarpet\"}],\"heatmap\":[{\"colorbar\":{\"outlinewidth\":0,\"ticks\":\"\"},\"colorscale\":[[0.0,\"#0d0887\"],[0.1111111111111111,\"#46039f\"],[0.2222222222222222,\"#7201a8\"],[0.3333333333333333,\"#9c179e\"],[0.4444444444444444,\"#bd3786\"],[0.5555555555555556,\"#d8576b\"],[0.6666666666666666,\"#ed7953\"],[0.7777777777777778,\"#fb9f3a\"],[0.8888888888888888,\"#fdca26\"],[1.0,\"#f0f921\"]],\"type\":\"heatmap\"}],\"heatmapgl\":[{\"colorbar\":{\"outlinewidth\":0,\"ticks\":\"\"},\"colorscale\":[[0.0,\"#0d0887\"],[0.1111111111111111,\"#46039f\"],[0.2222222222222222,\"#7201a8\"],[0.3333333333333333,\"#9c179e\"],[0.4444444444444444,\"#bd3786\"],[0.5555555555555556,\"#d8576b\"],[0.6666666666666666,\"#ed7953\"],[0.7777777777777778,\"#fb9f3a\"],[0.8888888888888888,\"#fdca26\"],[1.0,\"#f0f921\"]],\"type\":\"heatmapgl\"}],\"histogram\":[{\"marker\":{\"pattern\":{\"fillmode\":\"overlay\",\"size\":10,\"solidity\":0.2}},\"type\":\"histogram\"}],\"histogram2d\":[{\"colorbar\":{\"outlinewidth\":0,\"ticks\":\"\"},\"colorscale\":[[0.0,\"#0d0887\"],[0.1111111111111111,\"#46039f\"],[0.2222222222222222,\"#7201a8\"],[0.3333333333333333,\"#9c179e\"],[0.4444444444444444,\"#bd3786\"],[0.5555555555555556,\"#d8576b\"],[0.6666666666666666,\"#ed7953\"],[0.7777777777777778,\"#fb9f3a\"],[0.8888888888888888,\"#fdca26\"],[1.0,\"#f0f921\"]],\"type\":\"histogram2d\"}],\"histogram2dcontour\":[{\"colorbar\":{\"outlinewidth\":0,\"ticks\":\"\"},\"colorscale\":[[0.0,\"#0d0887\"],[0.1111111111111111,\"#46039f\"],[0.2222222222222222,\"#7201a8\"],[0.3333333333333333,\"#9c179e\"],[0.4444444444444444,\"#bd3786\"],[0.5555555555555556,\"#d8576b\"],[0.6666666666666666,\"#ed7953\"],[0.7777777777777778,\"#fb9f3a\"],[0.8888888888888888,\"#fdca26\"],[1.0,\"#f0f921\"]],\"type\":\"histogram2dcontour\"}],\"mesh3d\":[{\"colorbar\":{\"outlinewidth\":0,\"ticks\":\"\"},\"type\":\"mesh3d\"}],\"parcoords\":[{\"line\":{\"colorbar\":{\"outlinewidth\":0,\"ticks\":\"\"}},\"type\":\"parcoords\"}],\"pie\":[{\"automargin\":true,\"type\":\"pie\"}],\"scatter\":[{\"marker\":{\"colorbar\":{\"outlinewidth\":0,\"ticks\":\"\"}},\"type\":\"scatter\"}],\"scatter3d\":[{\"line\":{\"colorbar\":{\"outlinewidth\":0,\"ticks\":\"\"}},\"marker\":{\"colorbar\":{\"outlinewidth\":0,\"ticks\":\"\"}},\"type\":\"scatter3d\"}],\"scattercarpet\":[{\"marker\":{\"colorbar\":{\"outlinewidth\":0,\"ticks\":\"\"}},\"type\":\"scattercarpet\"}],\"scattergeo\":[{\"marker\":{\"colorbar\":{\"outlinewidth\":0,\"ticks\":\"\"}},\"type\":\"scattergeo\"}],\"scattergl\":[{\"marker\":{\"colorbar\":{\"outlinewidth\":0,\"ticks\":\"\"}},\"type\":\"scattergl\"}],\"scattermapbox\":[{\"marker\":{\"colorbar\":{\"outlinewidth\":0,\"ticks\":\"\"}},\"type\":\"scattermapbox\"}],\"scatterpolar\":[{\"marker\":{\"colorbar\":{\"outlinewidth\":0,\"ticks\":\"\"}},\"type\":\"scatterpolar\"}],\"scatterpolargl\":[{\"marker\":{\"colorbar\":{\"outlinewidth\":0,\"ticks\":\"\"}},\"type\":\"scatterpolargl\"}],\"scatterternary\":[{\"marker\":{\"colorbar\":{\"outlinewidth\":0,\"ticks\":\"\"}},\"type\":\"scatterternary\"}],\"surface\":[{\"colorbar\":{\"outlinewidth\":0,\"ticks\":\"\"},\"colorscale\":[[0.0,\"#0d0887\"],[0.1111111111111111,\"#46039f\"],[0.2222222222222222,\"#7201a8\"],[0.3333333333333333,\"#9c179e\"],[0.4444444444444444,\"#bd3786\"],[0.5555555555555556,\"#d8576b\"],[0.6666666666666666,\"#ed7953\"],[0.7777777777777778,\"#fb9f3a\"],[0.8888888888888888,\"#fdca26\"],[1.0,\"#f0f921\"]],\"type\":\"surface\"}],\"table\":[{\"cells\":{\"fill\":{\"color\":\"#EBF0F8\"},\"line\":{\"color\":\"white\"}},\"header\":{\"fill\":{\"color\":\"#C8D4E3\"},\"line\":{\"color\":\"white\"}},\"type\":\"table\"}]},\"layout\":{\"annotationdefaults\":{\"arrowcolor\":\"#2a3f5f\",\"arrowhead\":0,\"arrowwidth\":1},\"autotypenumbers\":\"strict\",\"coloraxis\":{\"colorbar\":{\"outlinewidth\":0,\"ticks\":\"\"}},\"colorscale\":{\"diverging\":[[0,\"#8e0152\"],[0.1,\"#c51b7d\"],[0.2,\"#de77ae\"],[0.3,\"#f1b6da\"],[0.4,\"#fde0ef\"],[0.5,\"#f7f7f7\"],[0.6,\"#e6f5d0\"],[0.7,\"#b8e186\"],[0.8,\"#7fbc41\"],[0.9,\"#4d9221\"],[1,\"#276419\"]],\"sequential\":[[0.0,\"#0d0887\"],[0.1111111111111111,\"#46039f\"],[0.2222222222222222,\"#7201a8\"],[0.3333333333333333,\"#9c179e\"],[0.4444444444444444,\"#bd3786\"],[0.5555555555555556,\"#d8576b\"],[0.6666666666666666,\"#ed7953\"],[0.7777777777777778,\"#fb9f3a\"],[0.8888888888888888,\"#fdca26\"],[1.0,\"#f0f921\"]],\"sequentialminus\":[[0.0,\"#0d0887\"],[0.1111111111111111,\"#46039f\"],[0.2222222222222222,\"#7201a8\"],[0.3333333333333333,\"#9c179e\"],[0.4444444444444444,\"#bd3786\"],[0.5555555555555556,\"#d8576b\"],[0.6666666666666666,\"#ed7953\"],[0.7777777777777778,\"#fb9f3a\"],[0.8888888888888888,\"#fdca26\"],[1.0,\"#f0f921\"]]},\"colorway\":[\"#636efa\",\"#EF553B\",\"#00cc96\",\"#ab63fa\",\"#FFA15A\",\"#19d3f3\",\"#FF6692\",\"#B6E880\",\"#FF97FF\",\"#FECB52\"],\"font\":{\"color\":\"#2a3f5f\"},\"geo\":{\"bgcolor\":\"white\",\"lakecolor\":\"white\",\"landcolor\":\"#E5ECF6\",\"showlakes\":true,\"showland\":true,\"subunitcolor\":\"white\"},\"hoverlabel\":{\"align\":\"left\"},\"hovermode\":\"closest\",\"mapbox\":{\"style\":\"light\"},\"paper_bgcolor\":\"white\",\"plot_bgcolor\":\"#E5ECF6\",\"polar\":{\"angularaxis\":{\"gridcolor\":\"white\",\"linecolor\":\"white\",\"ticks\":\"\"},\"bgcolor\":\"#E5ECF6\",\"radialaxis\":{\"gridcolor\":\"white\",\"linecolor\":\"white\",\"ticks\":\"\"}},\"scene\":{\"xaxis\":{\"backgroundcolor\":\"#E5ECF6\",\"gridcolor\":\"white\",\"gridwidth\":2,\"linecolor\":\"white\",\"showbackground\":true,\"ticks\":\"\",\"zerolinecolor\":\"white\"},\"yaxis\":{\"backgroundcolor\":\"#E5ECF6\",\"gridcolor\":\"white\",\"gridwidth\":2,\"linecolor\":\"white\",\"showbackground\":true,\"ticks\":\"\",\"zerolinecolor\":\"white\"},\"zaxis\":{\"backgroundcolor\":\"#E5ECF6\",\"gridcolor\":\"white\",\"gridwidth\":2,\"linecolor\":\"white\",\"showbackground\":true,\"ticks\":\"\",\"zerolinecolor\":\"white\"}},\"shapedefaults\":{\"line\":{\"color\":\"#2a3f5f\"}},\"ternary\":{\"aaxis\":{\"gridcolor\":\"white\",\"linecolor\":\"white\",\"ticks\":\"\"},\"baxis\":{\"gridcolor\":\"white\",\"linecolor\":\"white\",\"ticks\":\"\"},\"bgcolor\":\"#E5ECF6\",\"caxis\":{\"gridcolor\":\"white\",\"linecolor\":\"white\",\"ticks\":\"\"}},\"title\":{\"x\":0.05},\"xaxis\":{\"automargin\":true,\"gridcolor\":\"white\",\"linecolor\":\"white\",\"ticks\":\"\",\"title\":{\"standoff\":15},\"zerolinecolor\":\"white\",\"zerolinewidth\":2},\"yaxis\":{\"automargin\":true,\"gridcolor\":\"white\",\"linecolor\":\"white\",\"ticks\":\"\",\"title\":{\"standoff\":15},\"zerolinecolor\":\"white\",\"zerolinewidth\":2}}}},                        {\"responsive\": true}                    ).then(function(){\n",
              "                            \n",
              "var gd = document.getElementById('0e6ef7ae-42fa-4666-aaf5-e30ab3d7cd5c');\n",
              "var x = new MutationObserver(function (mutations, observer) {{\n",
              "        var display = window.getComputedStyle(gd).display;\n",
              "        if (!display || display === 'none') {{\n",
              "            console.log([gd, 'removed!']);\n",
              "            Plotly.purge(gd);\n",
              "            observer.disconnect();\n",
              "        }}\n",
              "}});\n",
              "\n",
              "// Listen for the removal of the full notebook cells\n",
              "var notebookContainer = gd.closest('#notebook-container');\n",
              "if (notebookContainer) {{\n",
              "    x.observe(notebookContainer, {childList: true});\n",
              "}}\n",
              "\n",
              "// Listen for the clearing of the current output cell\n",
              "var outputEl = gd.closest('.output');\n",
              "if (outputEl) {{\n",
              "    x.observe(outputEl, {childList: true});\n",
              "}}\n",
              "\n",
              "                        })                };                            </script>        </div>\n",
              "</body>\n",
              "</html>"
            ]
          },
          "metadata": {}
        }
      ]
    },
    {
      "cell_type": "code",
      "source": [
        "hist_data = [df['likes']]\n",
        "\n",
        "group_labels = ['likes']\n",
        "\n",
        "fig = ff.create_distplot(hist_data, group_labels, show_hist=False, curve_type='normal', bin_size=0.5, show_rug=False)\n",
        "fig.show()"
      ],
      "metadata": {
        "colab": {
          "base_uri": "https://localhost:8080/",
          "height": 542
        },
        "id": "KNYHPybEb5L0",
        "outputId": "4c57e539-5b0d-40ea-e31c-340835b37ca6"
      },
      "execution_count": null,
      "outputs": [
        {
          "output_type": "display_data",
          "data": {
            "text/html": [
              "<html>\n",
              "<head><meta charset=\"utf-8\" /></head>\n",
              "<body>\n",
              "    <div>            <script src=\"https://cdnjs.cloudflare.com/ajax/libs/mathjax/2.7.5/MathJax.js?config=TeX-AMS-MML_SVG\"></script><script type=\"text/javascript\">if (window.MathJax) {MathJax.Hub.Config({SVG: {font: \"STIX-Web\"}});}</script>                <script type=\"text/javascript\">window.PlotlyConfig = {MathJaxConfig: 'local'};</script>\n",
              "        <script src=\"https://cdn.plot.ly/plotly-2.8.3.min.js\"></script>                <div id=\"a861eeea-9c7b-477c-ad52-876a1d186875\" class=\"plotly-graph-div\" style=\"height:525px; width:100%;\"></div>            <script type=\"text/javascript\">                                    window.PLOTLYENV=window.PLOTLYENV || {};                                    if (document.getElementById(\"a861eeea-9c7b-477c-ad52-876a1d186875\")) {                    Plotly.newPlot(                        \"a861eeea-9c7b-477c-ad52-876a1d186875\",                        [{\"legendgroup\":\"likes\",\"marker\":{\"color\":\"rgb(31, 119, 180)\"},\"mode\":\"lines\",\"name\":\"likes\",\"showlegend\":true,\"x\":[37.0,4236.926,8436.852,12636.778,16836.704,21036.63,25236.556,29436.482,33636.408,37836.334,42036.26,46236.186,50436.112,54636.038,58835.964,63035.89,67235.816,71435.742,75635.668,79835.594,84035.52,88235.446,92435.372,96635.298,100835.224,105035.15,109235.076,113435.002,117634.928,121834.854,126034.78,130234.706,134434.632,138634.558,142834.484,147034.41,151234.336,155434.262,159634.188,163834.114,168034.04,172233.966,176433.892,180633.818,184833.744,189033.67,193233.596,197433.522,201633.448,205833.374,210033.3,214233.226,218433.152,222633.078,226833.004,231032.93,235232.856,239432.782,243632.708,247832.634,252032.56,256232.486,260432.412,264632.338,268832.264,273032.19,277232.116,281432.042,285631.968,289831.894,294031.82,298231.746,302431.672,306631.598,310831.524,315031.45,319231.376,323431.302,327631.228,331831.154,336031.08,340231.006,344430.932,348630.858,352830.784,357030.71,361230.636,365430.562,369630.488,373830.414,378030.34,382230.266,386430.192,390630.118,394830.044,399029.97,403229.896,407429.822,411629.748,415829.674,420029.6,424229.526,428429.452,432629.378,436829.304,441029.23,445229.156,449429.082,453629.008,457828.934,462028.86,466228.786,470428.712,474628.638,478828.564,483028.49,487228.416,491428.342,495628.268,499828.194,504028.12,508228.046,512427.972,516627.898,520827.824,525027.75,529227.676,533427.602,537627.528,541827.454,546027.38,550227.306,554427.232,558627.158,562827.084,567027.01,571226.936,575426.862,579626.788,583826.714,588026.64,592226.566,596426.492,600626.418,604826.344,609026.27,613226.196,617426.122,621626.048,625825.974,630025.9,634225.826,638425.752,642625.678,646825.604,651025.53,655225.456,659425.382,663625.308,667825.234,672025.16,676225.086,680425.012,684624.938,688824.864,693024.79,697224.716,701424.642,705624.568,709824.494,714024.42,718224.346,722424.272,726624.198,730824.124,735024.05,739223.976,743423.902,747623.828,751823.754,756023.68,760223.606,764423.532,768623.458,772823.384,777023.31,781223.236,785423.162,789623.088,793823.014,798022.94,802222.866,806422.792,810622.718,814822.644,819022.57,823222.496,827422.422,831622.348,835822.274,840022.2,844222.126,848422.052,852621.978,856821.904,861021.83,865221.756,869421.682,873621.608,877821.534,882021.46,886221.386,890421.312,894621.238,898821.164,903021.09,907221.016,911420.942,915620.868,919820.794,924020.72,928220.646,932420.572,936620.498,940820.424,945020.35,949220.276,953420.202,957620.128,961820.054,966019.98,970219.906,974419.832,978619.758,982819.684,987019.61,991219.536,995419.462,999619.388,1003819.314,1008019.24,1012219.166,1016419.092,1020619.018,1024818.944,1029018.87,1033218.796,1037418.722,1041618.648,1045818.574,1050018.5,1054218.426,1058418.352,1062618.278,1066818.204,1071018.13,1075218.056,1079417.982,1083617.908,1087817.834,1092017.76,1096217.686,1100417.612,1104617.538,1108817.464,1113017.39,1117217.316,1121417.242,1125617.168,1129817.094,1134017.02,1138216.946,1142416.872,1146616.798,1150816.724,1155016.65,1159216.576,1163416.502,1167616.428,1171816.354,1176016.28,1180216.206,1184416.132,1188616.058,1192815.984,1197015.91,1201215.836,1205415.762,1209615.688,1213815.614,1218015.54,1222215.466,1226415.392,1230615.318,1234815.244,1239015.17,1243215.096,1247415.022,1251614.948,1255814.874,1260014.8,1264214.726,1268414.652,1272614.578,1276814.504,1281014.43,1285214.356,1289414.282,1293614.208,1297814.134,1302014.06,1306213.986,1310413.912,1314613.838,1318813.764,1323013.69,1327213.616,1331413.542,1335613.468,1339813.394,1344013.32,1348213.246,1352413.172,1356613.098,1360813.024,1365012.95,1369212.876,1373412.802,1377612.728,1381812.654,1386012.58,1390212.506,1394412.432,1398612.358,1402812.284,1407012.21,1411212.136,1415412.062,1419611.988,1423811.914,1428011.84,1432211.766,1436411.692,1440611.618,1444811.544,1449011.47,1453211.396,1457411.322,1461611.248,1465811.174,1470011.1,1474211.026,1478410.952,1482610.878,1486810.804,1491010.73,1495210.656,1499410.582,1503610.508,1507810.434,1512010.36,1516210.286,1520410.212,1524610.138,1528810.064,1533009.99,1537209.916,1541409.842,1545609.768,1549809.694,1554009.62,1558209.546,1562409.472,1566609.398,1570809.324,1575009.25,1579209.176,1583409.102,1587609.028,1591808.954,1596008.88,1600208.806,1604408.732,1608608.658,1612808.584,1617008.51,1621208.436,1625408.362,1629608.288,1633808.214,1638008.14,1642208.066,1646407.992,1650607.918,1654807.844,1659007.77,1663207.696,1667407.622,1671607.548,1675807.474,1680007.4,1684207.326,1688407.252,1692607.178,1696807.104,1701007.03,1705206.956,1709406.882,1713606.808,1717806.734,1722006.66,1726206.586,1730406.512,1734606.438,1738806.364,1743006.29,1747206.216,1751406.142,1755606.068,1759805.994,1764005.92,1768205.846,1772405.772,1776605.698,1780805.624,1785005.55,1789205.476,1793405.402,1797605.328,1801805.254,1806005.18,1810205.106,1814405.032,1818604.958,1822804.884,1827004.81,1831204.736,1835404.662,1839604.588,1843804.514,1848004.44,1852204.366,1856404.292,1860604.218,1864804.144,1869004.07,1873203.996,1877403.922,1881603.848,1885803.774,1890003.7,1894203.626,1898403.552,1902603.478,1906803.404,1911003.33,1915203.256,1919403.182,1923603.108,1927803.034,1932002.96,1936202.886,1940402.812,1944602.738,1948802.664,1953002.59,1957202.516,1961402.442,1965602.368,1969802.294,1974002.22,1978202.146,1982402.072,1986601.998,1990801.924,1995001.85,1999201.776,2003401.702,2007601.628,2011801.554,2016001.48,2020201.406,2024401.332,2028601.258,2032801.184,2037001.11,2041201.036,2045400.962,2049600.888,2053800.814,2058000.74,2062200.666,2066400.592,2070600.518,2074800.444,2079000.37,2083200.296,2087400.222,2091600.148,2095800.074],\"xaxis\":\"x\",\"y\":[3.129862746828167e-06,3.199235413253617e-06,3.265171260870989e-06,3.327396790839264e-06,3.3856501792117454e-06,3.4396831069428635e-06,3.4892625197436584e-06,3.5341723003707746e-06,3.5742148365817804e-06,3.6092124688533256e-06,3.6390088030294163e-06,3.6634698743330486e-06,3.6824851506205414e-06,3.695968364366138e-06,3.7038581646142413e-06,3.7061185820050325e-06,3.702739301941287e-06,3.6937357429934872e-06,3.6791489397092895e-06,3.6590452310737e-06,3.633515757929652e-06,3.602675774686766e-06,3.5666637825916214e-06,3.525640493679634e-06,3.4797876362520903e-06,3.4293066142995142e-06,3.3744170347042054e-06,3.3153551172831354e-06,3.2523720037628973e-06,3.185731982599856e-06,3.1157106471631088e-06,3.042593005180686e-06,2.966671557509579e-06,2.8882443642297697e-06,2.807613115787075e-06,2.7250812264278175e-06,2.640951966491609e-06,2.5555266492710738e-06,2.4691028871255267e-06,2.3819729303679817e-06,2.2944221011514965e-06,2.206727333183132e-06,2.11915582661389e-06,2.031963825913764e-06,1.9453955269650485e-06,1.859682118017077e-06,1.7750409575632068e-06,1.6916748906472164e-06,1.6097717036007736e-06,1.5295037157744083e-06,1.4510275054676648e-06,1.3744837660042336e-06,1.299997286746915e-06,1.2276770528153549e-06,1.1576164563643355e-06,1.0898936115073604e-06,1.024571764332739e-06,9.616997889582125e-07,9.013127602044641e-07,8.434325932346516e-07,7.880687404015524e-07,7.352189355598165e-07,6.848699762303193e-07,6.369985342378483e-07,5.91571985772454e-07,5.485492522380466e-07,5.078816437381569e-07,4.695136975966905e-07,4.333840049094251e-07,3.994260187584577e-07,3.675688383856565e-07,3.3773796430151237e-07,3.09856019992552e-07,2.83843436574083e-07,2.5961909740674644e-07,2.3710094034739918e-07,2.1620651593018674e-07,1.9685350036642376e-07,1.7896016280702355e-07,1.624457868246996e-07,1.472310465419505e-07,1.3323833825273994e-07,1.2039206875956488e-07,1.0861890197276432e-07,9.784796559575484e-08,8.801101994933128e-08,7.904259117180261e-08,7.088007117158124e-08,6.346378680742043e-08,5.6737040831624366e-08,5.064612715634875e-08,4.5140322995871574e-08,4.017186040185596e-08,3.569587964762902e-08,3.16703668348321e-08,2.8056077994855077e-08,2.4816451841565833e-08,2.1917513204118097e-08,1.9327769032050485e-08,1.7018098722231932e-08,1.496164037099427e-08,1.313367440732388e-08,1.1511505916292123e-08,1.007434681778852e-08,8.803198925616986e-09,7.680738777419217e-09,6.691204997765295e-09,5.820288835931527e-09,5.055028407003903e-09,4.383707060437587e-09,3.795756204329952e-09,3.281662826536656e-09,2.832881875342585e-09,2.4417535925435116e-09,2.1014258302476307e-09,1.8057813291333814e-09,1.549369889897877e-09,1.327345330745167e-09,1.1354070915016657e-09,9.697463187913754e-10,8.269962461246649e-10,7.041866672176632e-10,5.987022898366979e-10,5.082447504375284e-10,4.307980663466119e-10,3.645973017377839e-10,3.0810022574821425e-10,2.599617453369848e-10,2.1901090153610925e-10,1.8423022522765552e-10,1.5473725718623572e-10,1.2976804657091867e-10,1.0866245208424751e-10,9.085108041965056e-11,7.58437072025299e-11,6.321903623306243e-11,5.2615663324376705e-11,4.372412128606321e-11,3.6279892539376656e-11,3.005728539568722e-11,2.4864079129859754e-11,2.0536851596482766e-11,1.6936911243787512e-11,1.3946762963548839e-11,1.1467044270830746e-11,9.41387483874617e-12,7.716568430679074e-12,6.31566179122873e-12,5.161220097154231e-12,4.2113831536212355e-12,3.4311206740806037e-12,2.791168730571667e-12,2.2671228323505525e-12,1.8386661119198653e-12,1.4889137959782575e-12,1.2038575411072178e-12,9.7189534586915e-13,7.834346369960955e-13,6.305577908163618e-13,5.06740813929641e-13,4.066171898819493e-13,3.257800202117833e-13,2.606165662613732e-13,2.081701486384072e-13,1.660250988299997e-13,1.3221109551294943e-13,1.051237685889623e-13,8.345892770729177e-14,6.615817869890172e-14,5.236403956837418e-14,4.138296514254365e-14,3.265494294765635e-14,2.5728538367789187e-14,2.0240449889385525e-14,1.5898789870038252e-14,1.2469436808984209e-14,9.764915044796103e-15,7.635350201248165e-15,5.961126173570551e-15,4.646934260759019e-15,3.616959154055034e-15,2.810991558011524e-15,2.181294677236594e-15,1.6900828669806184e-15,1.307496454894111e-15,1.00997797287991e-15,7.789725349256758e-16,5.998894859174352e-16,4.612742551507606e-16,3.541490193136143e-16,2.7148868383096675e-16,2.078051382859338e-16,1.5881798918111106e-16,1.2119423605558962e-16,9.234281279254846e-17,7.02527119957651e-17,5.336566804832703e-17,4.047619392567311e-17,3.065323021052896e-17,2.317883943135171e-17,1.750031993505232e-17,1.3192865992726292e-17,9.930501356754513e-18,7.463491806031207e-18,5.600822468923482e-18,4.19662742827166e-18,3.1396980546052097e-18,2.3453853836158008e-18,1.749360862307537e-18,1.3028171263541553e-18,9.687826965964867e-19,7.192968341559142e-19,5.332474479971094e-19,3.9471922898076117e-19,2.9173372897069183e-19,2.1529000306817592e-19,1.5863534080057397e-19,1.1671183282674762e-19,8.573708106257354e-20,6.288706983150676e-20,4.6056707377746006e-20,3.3679316964387535e-20,2.4590792482495484e-20,1.792753734578777e-20,1.3049912753163614e-20,9.484914966090317e-21,6.883322798092817e-21,4.987715722875777e-21,3.608644581428605e-21,2.6069061032332253e-21,1.880379590838431e-21,1.3542677301303205e-21,9.738731506811768e-22,6.992606933946453e-22,5.013196198213911e-22,3.5886338396360757e-22,2.5649709793782286e-22,1.8305206174306427e-22,1.3043845769033135e-22,9.280589142604133e-23,6.593018577254365e-23,4.676618179851031e-23,3.3122140039534653e-23,2.3423065115326086e-23,1.6538949598933664e-23,1.1660333796496762e-23,8.208294003997086e-24,5.769440321610335e-24,4.049051760601561e-24,2.8373429551271424e-24,1.985222545511052e-24,1.3869008862737417e-24,9.674321456954119e-25,6.738053633199086e-25,4.685838047533283e-25,3.253710782467912e-25,2.255846164327829e-25,1.561632629077918e-25,1.0794117235537069e-25,7.449622190211651e-26,5.133578725630255e-26,3.532198211987319e-26,2.426659083736796e-26,1.6646055179083243e-26,1.1401257479129531e-26,7.79709882260512e-27,5.324173321322119e-27,3.6300298181483e-27,2.471195254624414e-27,1.6797428125709302e-27,1.1400328951502167e-27,7.72557540176924e-28,5.227368898579885e-28,3.5316229052586236e-28,2.3823433942112257e-28,1.6046239104011153e-28,1.0791480205406336e-28,7.246489026410256e-29,4.8586220923133545e-29,3.252650972597241e-29,2.1742058897169596e-29,1.4511180140696387e-29,9.670382675755259e-30,6.434628059127393e-30,4.275058853033992e-30,2.83595678435547e-30,1.8784341735642213e-30,1.242313526352964e-30,8.203615716430667e-31,5.409015977464263e-31,3.5609844845691676e-31,2.3407808717698566e-31,1.5363504769311448e-31,1.006835918786842e-31,6.588187684324446e-32,4.3043946846521276e-32,2.8079997919876174e-32,1.829030372871715e-32,1.1895525295897061e-32,7.724763527666128e-33,5.008706960280008e-33,3.24268613678697e-33,2.0961534268480657e-33,1.352944810896244e-33,8.719186284791333e-34,5.610617898918674e-34,3.60482586565885e-34,2.3125799157966855e-34,1.4813172146096376e-34,9.474106260999747e-35,6.050166050575235e-35,3.857759935508466e-35,2.456076919173615e-35,1.561304425052841e-35,9.909964040360592e-36,6.280517468411568e-36,3.97427247090162e-36,2.5110693685791928e-36,1.584158541998278e-36,9.978779769198761e-37,6.276175708016489e-37,3.94140996806869e-37,2.471422458425494e-37,1.5473238813386211e-37,9.672847243837007e-38,6.037627171650868e-38,3.7628518082608333e-38,2.3415681361770153e-38,1.4549073759698377e-38,9.026154289887966e-39,5.5912514202770754e-39,3.458232208898219e-39,2.1356896476787124e-39,1.3169248566160732e-39,8.108167440465155e-40,4.984519320005841e-40,3.059586387025564e-40,1.875171602825854e-40,1.1475144852059757e-40,7.011552601958686e-41,4.277687729571586e-41,2.6058104458411425e-41,1.5849494836089137e-41,9.625579603838732e-42,5.836832312626762e-42,3.533998854748557e-42,2.1364584624684664e-42,1.289618824892097e-42,7.772614630459127e-43,4.677478163917619e-43,2.8105755444575146e-43,1.6862331332164357e-43,1.0101336423789851e-43,6.041974856306391e-44,3.6084264125465705e-44,2.1517690363144315e-44,1.2811863878360388e-44,7.616717341088885e-45,4.5212885389117424e-45,2.6797573422913674e-45,1.585869974655223e-45,9.370840483691206e-46,5.5287681084632986e-46,3.2569948048969958e-46,1.9157755139987558e-46,1.1251515730924645e-46,6.598060699745488e-47,3.8633178681399245e-47,2.2586214077292697e-47,1.318454961596108e-47,7.684684092213662e-48,4.472245133857322e-48,2.59874725002526e-48,1.5077916942153198e-48,8.73489143975443e-49,5.052572316767905e-49,2.9181420311328403e-49,1.682825851313855e-49,9.689710130790949e-50,5.570847331646771e-50,3.197942050636936e-50,1.8329844634557325e-50,1.0490250024740899e-50,5.994483319119649e-51,3.4202396238621476e-51,1.948498937571257e-51,1.1083646701495834e-51,6.295120327095054e-52,3.569967471212963e-52,2.0214515812494845e-52,1.1428817271463058e-52,6.4517584026498645e-53,3.6365851788765423e-53,2.046672216095614e-53,1.1501161049106288e-53,6.453182345640656e-54,3.6153059044223214e-54,2.0223439734546051e-54,1.1295458419218083e-54,6.299289363086878e-55,3.507665062558063e-55,1.9502196902141652e-55,1.0826493465223016e-55,6.001101337504995e-56,3.321337158058081e-56,1.8354131092141836e-56,1.0127297209679698e-56,5.57945967563683e-57,3.0692311130348504e-57,1.685799428161405e-57,9.24530139469484e-58,5.0626173872371194e-58,2.7680122027252957e-58,1.5111227907906612e-58,8.237024775235021e-59,4.483114697297295e-59,2.436285549621867e-59,1.3219510974637284e-59,7.162117661362562e-60,3.874417114586183e-60,2.0927153447401175e-60,1.1286331557559968e-60,6.077630756895921e-61,3.267794062842682e-61,1.7543405783053017e-61,9.403986555376612e-62,5.033255207872616e-62,2.689829577940824e-62,1.435289274333715e-62,7.647033193390619e-63,4.068041479145653e-63,2.1608102481760276e-63,1.1460056285784375e-63,6.068700874240834e-64,3.20880683445793e-64,1.6940658101884745e-64,8.930090135459844e-65,4.7002425378450375e-65,2.4701513049317886e-65,1.2961811602610151e-65,6.791203037093702e-66,3.5527658536801694e-66,1.855774995046261e-66,9.678831128341702e-67,5.040334598883284e-67,2.62080485235429e-67,1.3606576317232623e-67,7.05345501563083e-68,3.6508484151109113e-68,1.8867943314341716e-68,9.736305347871757e-69,5.016521406927892e-69,2.580774240807107e-69,1.3256724228804652e-69,6.799254385282512e-70,3.481971558202602e-70,1.780442735274773e-70,9.090120949598453e-71,4.633937532080218e-71,2.3586828506754212e-71,1.1987476951526608e-71,6.083098967589995e-72,3.082200172972267e-72,1.559321475106208e-72,7.876791339940305e-73,3.972847393656635e-73,2.000752123749696e-73,1.006059233435972e-73,5.0511780499670484e-74,2.5322155104365326e-74,1.2674986726723093e-74,6.334804595311644e-75,3.161242370839456e-75,1.5751474944055186e-75,7.836524946291724e-76,3.892823160604514e-76,1.9308329066243855e-76,9.562326522350395e-77,4.728477297556539e-77,2.334629174787003e-77,1.1509418179065679e-77,5.665362356874594e-78,2.784459315059397e-78,1.3664474103453366e-78,6.695512551433424e-79,3.2757714718149744e-79,1.6002293277393253e-79,7.805302084662928e-80,3.8013343296105155e-80,1.848507771449961e-80,8.975225213936962e-81,4.351192434236859e-81,2.106250821221046e-81,1.0180069564315653e-81,4.9128133572696185e-82,2.3672746414080846e-82,1.13895322306817e-82,5.471444411191895e-83,2.6244418579795202e-83,1.2569291020824116e-83],\"yaxis\":\"y\",\"type\":\"scatter\"}],                        {\"barmode\":\"overlay\",\"hovermode\":\"closest\",\"legend\":{\"traceorder\":\"reversed\"},\"xaxis\":{\"anchor\":\"y2\",\"domain\":[0.0,1.0],\"zeroline\":false},\"yaxis\":{\"anchor\":\"free\",\"domain\":[0.0,1],\"position\":0.0},\"template\":{\"data\":{\"bar\":[{\"error_x\":{\"color\":\"#2a3f5f\"},\"error_y\":{\"color\":\"#2a3f5f\"},\"marker\":{\"line\":{\"color\":\"#E5ECF6\",\"width\":0.5},\"pattern\":{\"fillmode\":\"overlay\",\"size\":10,\"solidity\":0.2}},\"type\":\"bar\"}],\"barpolar\":[{\"marker\":{\"line\":{\"color\":\"#E5ECF6\",\"width\":0.5},\"pattern\":{\"fillmode\":\"overlay\",\"size\":10,\"solidity\":0.2}},\"type\":\"barpolar\"}],\"carpet\":[{\"aaxis\":{\"endlinecolor\":\"#2a3f5f\",\"gridcolor\":\"white\",\"linecolor\":\"white\",\"minorgridcolor\":\"white\",\"startlinecolor\":\"#2a3f5f\"},\"baxis\":{\"endlinecolor\":\"#2a3f5f\",\"gridcolor\":\"white\",\"linecolor\":\"white\",\"minorgridcolor\":\"white\",\"startlinecolor\":\"#2a3f5f\"},\"type\":\"carpet\"}],\"choropleth\":[{\"colorbar\":{\"outlinewidth\":0,\"ticks\":\"\"},\"type\":\"choropleth\"}],\"contour\":[{\"colorbar\":{\"outlinewidth\":0,\"ticks\":\"\"},\"colorscale\":[[0.0,\"#0d0887\"],[0.1111111111111111,\"#46039f\"],[0.2222222222222222,\"#7201a8\"],[0.3333333333333333,\"#9c179e\"],[0.4444444444444444,\"#bd3786\"],[0.5555555555555556,\"#d8576b\"],[0.6666666666666666,\"#ed7953\"],[0.7777777777777778,\"#fb9f3a\"],[0.8888888888888888,\"#fdca26\"],[1.0,\"#f0f921\"]],\"type\":\"contour\"}],\"contourcarpet\":[{\"colorbar\":{\"outlinewidth\":0,\"ticks\":\"\"},\"type\":\"contourcarpet\"}],\"heatmap\":[{\"colorbar\":{\"outlinewidth\":0,\"ticks\":\"\"},\"colorscale\":[[0.0,\"#0d0887\"],[0.1111111111111111,\"#46039f\"],[0.2222222222222222,\"#7201a8\"],[0.3333333333333333,\"#9c179e\"],[0.4444444444444444,\"#bd3786\"],[0.5555555555555556,\"#d8576b\"],[0.6666666666666666,\"#ed7953\"],[0.7777777777777778,\"#fb9f3a\"],[0.8888888888888888,\"#fdca26\"],[1.0,\"#f0f921\"]],\"type\":\"heatmap\"}],\"heatmapgl\":[{\"colorbar\":{\"outlinewidth\":0,\"ticks\":\"\"},\"colorscale\":[[0.0,\"#0d0887\"],[0.1111111111111111,\"#46039f\"],[0.2222222222222222,\"#7201a8\"],[0.3333333333333333,\"#9c179e\"],[0.4444444444444444,\"#bd3786\"],[0.5555555555555556,\"#d8576b\"],[0.6666666666666666,\"#ed7953\"],[0.7777777777777778,\"#fb9f3a\"],[0.8888888888888888,\"#fdca26\"],[1.0,\"#f0f921\"]],\"type\":\"heatmapgl\"}],\"histogram\":[{\"marker\":{\"pattern\":{\"fillmode\":\"overlay\",\"size\":10,\"solidity\":0.2}},\"type\":\"histogram\"}],\"histogram2d\":[{\"colorbar\":{\"outlinewidth\":0,\"ticks\":\"\"},\"colorscale\":[[0.0,\"#0d0887\"],[0.1111111111111111,\"#46039f\"],[0.2222222222222222,\"#7201a8\"],[0.3333333333333333,\"#9c179e\"],[0.4444444444444444,\"#bd3786\"],[0.5555555555555556,\"#d8576b\"],[0.6666666666666666,\"#ed7953\"],[0.7777777777777778,\"#fb9f3a\"],[0.8888888888888888,\"#fdca26\"],[1.0,\"#f0f921\"]],\"type\":\"histogram2d\"}],\"histogram2dcontour\":[{\"colorbar\":{\"outlinewidth\":0,\"ticks\":\"\"},\"colorscale\":[[0.0,\"#0d0887\"],[0.1111111111111111,\"#46039f\"],[0.2222222222222222,\"#7201a8\"],[0.3333333333333333,\"#9c179e\"],[0.4444444444444444,\"#bd3786\"],[0.5555555555555556,\"#d8576b\"],[0.6666666666666666,\"#ed7953\"],[0.7777777777777778,\"#fb9f3a\"],[0.8888888888888888,\"#fdca26\"],[1.0,\"#f0f921\"]],\"type\":\"histogram2dcontour\"}],\"mesh3d\":[{\"colorbar\":{\"outlinewidth\":0,\"ticks\":\"\"},\"type\":\"mesh3d\"}],\"parcoords\":[{\"line\":{\"colorbar\":{\"outlinewidth\":0,\"ticks\":\"\"}},\"type\":\"parcoords\"}],\"pie\":[{\"automargin\":true,\"type\":\"pie\"}],\"scatter\":[{\"marker\":{\"colorbar\":{\"outlinewidth\":0,\"ticks\":\"\"}},\"type\":\"scatter\"}],\"scatter3d\":[{\"line\":{\"colorbar\":{\"outlinewidth\":0,\"ticks\":\"\"}},\"marker\":{\"colorbar\":{\"outlinewidth\":0,\"ticks\":\"\"}},\"type\":\"scatter3d\"}],\"scattercarpet\":[{\"marker\":{\"colorbar\":{\"outlinewidth\":0,\"ticks\":\"\"}},\"type\":\"scattercarpet\"}],\"scattergeo\":[{\"marker\":{\"colorbar\":{\"outlinewidth\":0,\"ticks\":\"\"}},\"type\":\"scattergeo\"}],\"scattergl\":[{\"marker\":{\"colorbar\":{\"outlinewidth\":0,\"ticks\":\"\"}},\"type\":\"scattergl\"}],\"scattermapbox\":[{\"marker\":{\"colorbar\":{\"outlinewidth\":0,\"ticks\":\"\"}},\"type\":\"scattermapbox\"}],\"scatterpolar\":[{\"marker\":{\"colorbar\":{\"outlinewidth\":0,\"ticks\":\"\"}},\"type\":\"scatterpolar\"}],\"scatterpolargl\":[{\"marker\":{\"colorbar\":{\"outlinewidth\":0,\"ticks\":\"\"}},\"type\":\"scatterpolargl\"}],\"scatterternary\":[{\"marker\":{\"colorbar\":{\"outlinewidth\":0,\"ticks\":\"\"}},\"type\":\"scatterternary\"}],\"surface\":[{\"colorbar\":{\"outlinewidth\":0,\"ticks\":\"\"},\"colorscale\":[[0.0,\"#0d0887\"],[0.1111111111111111,\"#46039f\"],[0.2222222222222222,\"#7201a8\"],[0.3333333333333333,\"#9c179e\"],[0.4444444444444444,\"#bd3786\"],[0.5555555555555556,\"#d8576b\"],[0.6666666666666666,\"#ed7953\"],[0.7777777777777778,\"#fb9f3a\"],[0.8888888888888888,\"#fdca26\"],[1.0,\"#f0f921\"]],\"type\":\"surface\"}],\"table\":[{\"cells\":{\"fill\":{\"color\":\"#EBF0F8\"},\"line\":{\"color\":\"white\"}},\"header\":{\"fill\":{\"color\":\"#C8D4E3\"},\"line\":{\"color\":\"white\"}},\"type\":\"table\"}]},\"layout\":{\"annotationdefaults\":{\"arrowcolor\":\"#2a3f5f\",\"arrowhead\":0,\"arrowwidth\":1},\"autotypenumbers\":\"strict\",\"coloraxis\":{\"colorbar\":{\"outlinewidth\":0,\"ticks\":\"\"}},\"colorscale\":{\"diverging\":[[0,\"#8e0152\"],[0.1,\"#c51b7d\"],[0.2,\"#de77ae\"],[0.3,\"#f1b6da\"],[0.4,\"#fde0ef\"],[0.5,\"#f7f7f7\"],[0.6,\"#e6f5d0\"],[0.7,\"#b8e186\"],[0.8,\"#7fbc41\"],[0.9,\"#4d9221\"],[1,\"#276419\"]],\"sequential\":[[0.0,\"#0d0887\"],[0.1111111111111111,\"#46039f\"],[0.2222222222222222,\"#7201a8\"],[0.3333333333333333,\"#9c179e\"],[0.4444444444444444,\"#bd3786\"],[0.5555555555555556,\"#d8576b\"],[0.6666666666666666,\"#ed7953\"],[0.7777777777777778,\"#fb9f3a\"],[0.8888888888888888,\"#fdca26\"],[1.0,\"#f0f921\"]],\"sequentialminus\":[[0.0,\"#0d0887\"],[0.1111111111111111,\"#46039f\"],[0.2222222222222222,\"#7201a8\"],[0.3333333333333333,\"#9c179e\"],[0.4444444444444444,\"#bd3786\"],[0.5555555555555556,\"#d8576b\"],[0.6666666666666666,\"#ed7953\"],[0.7777777777777778,\"#fb9f3a\"],[0.8888888888888888,\"#fdca26\"],[1.0,\"#f0f921\"]]},\"colorway\":[\"#636efa\",\"#EF553B\",\"#00cc96\",\"#ab63fa\",\"#FFA15A\",\"#19d3f3\",\"#FF6692\",\"#B6E880\",\"#FF97FF\",\"#FECB52\"],\"font\":{\"color\":\"#2a3f5f\"},\"geo\":{\"bgcolor\":\"white\",\"lakecolor\":\"white\",\"landcolor\":\"#E5ECF6\",\"showlakes\":true,\"showland\":true,\"subunitcolor\":\"white\"},\"hoverlabel\":{\"align\":\"left\"},\"hovermode\":\"closest\",\"mapbox\":{\"style\":\"light\"},\"paper_bgcolor\":\"white\",\"plot_bgcolor\":\"#E5ECF6\",\"polar\":{\"angularaxis\":{\"gridcolor\":\"white\",\"linecolor\":\"white\",\"ticks\":\"\"},\"bgcolor\":\"#E5ECF6\",\"radialaxis\":{\"gridcolor\":\"white\",\"linecolor\":\"white\",\"ticks\":\"\"}},\"scene\":{\"xaxis\":{\"backgroundcolor\":\"#E5ECF6\",\"gridcolor\":\"white\",\"gridwidth\":2,\"linecolor\":\"white\",\"showbackground\":true,\"ticks\":\"\",\"zerolinecolor\":\"white\"},\"yaxis\":{\"backgroundcolor\":\"#E5ECF6\",\"gridcolor\":\"white\",\"gridwidth\":2,\"linecolor\":\"white\",\"showbackground\":true,\"ticks\":\"\",\"zerolinecolor\":\"white\"},\"zaxis\":{\"backgroundcolor\":\"#E5ECF6\",\"gridcolor\":\"white\",\"gridwidth\":2,\"linecolor\":\"white\",\"showbackground\":true,\"ticks\":\"\",\"zerolinecolor\":\"white\"}},\"shapedefaults\":{\"line\":{\"color\":\"#2a3f5f\"}},\"ternary\":{\"aaxis\":{\"gridcolor\":\"white\",\"linecolor\":\"white\",\"ticks\":\"\"},\"baxis\":{\"gridcolor\":\"white\",\"linecolor\":\"white\",\"ticks\":\"\"},\"bgcolor\":\"#E5ECF6\",\"caxis\":{\"gridcolor\":\"white\",\"linecolor\":\"white\",\"ticks\":\"\"}},\"title\":{\"x\":0.05},\"xaxis\":{\"automargin\":true,\"gridcolor\":\"white\",\"linecolor\":\"white\",\"ticks\":\"\",\"title\":{\"standoff\":15},\"zerolinecolor\":\"white\",\"zerolinewidth\":2},\"yaxis\":{\"automargin\":true,\"gridcolor\":\"white\",\"linecolor\":\"white\",\"ticks\":\"\",\"title\":{\"standoff\":15},\"zerolinecolor\":\"white\",\"zerolinewidth\":2}}}},                        {\"responsive\": true}                    ).then(function(){\n",
              "                            \n",
              "var gd = document.getElementById('a861eeea-9c7b-477c-ad52-876a1d186875');\n",
              "var x = new MutationObserver(function (mutations, observer) {{\n",
              "        var display = window.getComputedStyle(gd).display;\n",
              "        if (!display || display === 'none') {{\n",
              "            console.log([gd, 'removed!']);\n",
              "            Plotly.purge(gd);\n",
              "            observer.disconnect();\n",
              "        }}\n",
              "}});\n",
              "\n",
              "// Listen for the removal of the full notebook cells\n",
              "var notebookContainer = gd.closest('#notebook-container');\n",
              "if (notebookContainer) {{\n",
              "    x.observe(notebookContainer, {childList: true});\n",
              "}}\n",
              "\n",
              "// Listen for the clearing of the current output cell\n",
              "var outputEl = gd.closest('.output');\n",
              "if (outputEl) {{\n",
              "    x.observe(outputEl, {childList: true});\n",
              "}}\n",
              "\n",
              "                        })                };                            </script>        </div>\n",
              "</body>\n",
              "</html>"
            ]
          },
          "metadata": {}
        }
      ]
    },
    {
      "cell_type": "code",
      "source": [
        "fig = px.box(df, y=df.columns[4:])\n",
        "fig.show()"
      ],
      "metadata": {
        "colab": {
          "base_uri": "https://localhost:8080/",
          "height": 542
        },
        "id": "Sq4A9KY6Z-EO",
        "outputId": "38c1bf75-f158-42a5-b468-f6daaeb82cbc"
      },
      "execution_count": null,
      "outputs": [
        {
          "output_type": "display_data",
          "data": {
            "text/html": [
              "<html>\n",
              "<head><meta charset=\"utf-8\" /></head>\n",
              "<body>\n",
              "    <div>            <script src=\"https://cdnjs.cloudflare.com/ajax/libs/mathjax/2.7.5/MathJax.js?config=TeX-AMS-MML_SVG\"></script><script type=\"text/javascript\">if (window.MathJax) {MathJax.Hub.Config({SVG: {font: \"STIX-Web\"}});}</script>                <script type=\"text/javascript\">window.PlotlyConfig = {MathJaxConfig: 'local'};</script>\n",
              "        <script src=\"https://cdn.plot.ly/plotly-2.8.3.min.js\"></script>                <div id=\"cef03880-06e1-4d20-aaa4-b40c0757e769\" class=\"plotly-graph-div\" style=\"height:525px; width:100%;\"></div>            <script type=\"text/javascript\">                                    window.PLOTLYENV=window.PLOTLYENV || {};                                    if (document.getElementById(\"cef03880-06e1-4d20-aaa4-b40c0757e769\")) {                    Plotly.newPlot(                        \"cef03880-06e1-4d20-aaa4-b40c0757e769\",                        [{\"alignmentgroup\":\"True\",\"hovertemplate\":\"variable=%{x}<br>value=%{y}<extra></extra>\",\"legendgroup\":\"\",\"marker\":{\"color\":\"#636efa\"},\"name\":\"\",\"notched\":false,\"offsetgroup\":\"\",\"orientation\":\"v\",\"showlegend\":false,\"x\":[\"likes\",\"likes\",\"likes\",\"likes\",\"likes\",\"likes\",\"likes\",\"likes\",\"likes\",\"likes\",\"likes\",\"likes\",\"likes\",\"likes\",\"likes\",\"likes\",\"likes\",\"likes\",\"likes\",\"likes\",\"likes\",\"likes\",\"likes\",\"likes\",\"likes\",\"likes\",\"likes\",\"likes\",\"likes\",\"likes\",\"likes\",\"likes\",\"likes\",\"likes\",\"likes\",\"likes\",\"likes\",\"likes\",\"likes\",\"likes\",\"likes\",\"likes\",\"likes\",\"likes\",\"likes\",\"likes\",\"likes\",\"likes\",\"likes\",\"likes\",\"likes\",\"likes\",\"likes\",\"likes\",\"likes\",\"likes\",\"likes\",\"likes\",\"likes\",\"likes\",\"likes\",\"likes\",\"likes\",\"likes\",\"likes\",\"likes\",\"likes\",\"likes\",\"likes\",\"likes\",\"likes\",\"likes\",\"likes\",\"likes\",\"likes\",\"likes\",\"likes\",\"likes\",\"likes\",\"likes\",\"likes\",\"likes\",\"likes\",\"likes\",\"likes\",\"likes\",\"likes\",\"likes\",\"likes\",\"likes\",\"likes\",\"likes\",\"likes\",\"likes\",\"likes\",\"likes\",\"likes\",\"likes\",\"likes\",\"likes\",\"likes\",\"likes\",\"likes\",\"likes\",\"likes\",\"likes\",\"likes\",\"likes\",\"likes\",\"likes\",\"likes\",\"likes\",\"likes\",\"likes\",\"likes\",\"likes\",\"likes\",\"likes\",\"likes\",\"likes\",\"likes\",\"likes\",\"likes\",\"likes\",\"likes\",\"likes\",\"likes\",\"likes\",\"likes\",\"likes\",\"likes\",\"likes\",\"likes\",\"likes\",\"likes\",\"likes\",\"likes\",\"likes\",\"likes\",\"likes\",\"likes\",\"likes\",\"likes\",\"likes\",\"likes\",\"likes\",\"likes\",\"likes\",\"likes\",\"likes\",\"likes\",\"likes\",\"likes\",\"likes\",\"likes\",\"likes\",\"likes\",\"likes\",\"likes\",\"likes\",\"likes\",\"likes\",\"likes\",\"likes\",\"likes\",\"likes\",\"likes\",\"likes\",\"likes\",\"likes\",\"likes\",\"likes\",\"likes\",\"likes\",\"likes\",\"likes\",\"likes\",\"likes\",\"likes\",\"likes\",\"likes\",\"likes\",\"likes\",\"likes\",\"likes\",\"likes\",\"likes\",\"likes\",\"likes\",\"likes\",\"likes\",\"likes\",\"likes\",\"likes\",\"likes\",\"likes\",\"likes\",\"likes\",\"likes\",\"likes\",\"likes\",\"likes\",\"likes\",\"likes\",\"likes\",\"likes\",\"likes\",\"likes\",\"likes\",\"likes\",\"likes\",\"likes\",\"likes\",\"likes\",\"likes\",\"likes\",\"likes\",\"likes\",\"likes\",\"likes\",\"likes\",\"likes\",\"likes\",\"likes\",\"likes\",\"likes\",\"likes\",\"likes\",\"likes\",\"likes\",\"likes\",\"likes\",\"likes\",\"likes\",\"likes\",\"likes\",\"likes\",\"likes\",\"likes\",\"likes\",\"likes\",\"likes\",\"likes\",\"likes\",\"likes\",\"likes\",\"likes\",\"likes\",\"likes\",\"likes\",\"likes\",\"likes\",\"likes\",\"likes\",\"likes\",\"likes\",\"likes\",\"likes\",\"likes\",\"likes\",\"likes\",\"likes\",\"likes\",\"likes\",\"likes\",\"likes\",\"likes\",\"likes\",\"likes\",\"likes\",\"likes\",\"likes\",\"likes\",\"likes\",\"likes\",\"likes\",\"likes\",\"likes\",\"likes\",\"likes\",\"likes\",\"likes\",\"likes\",\"likes\",\"likes\",\"likes\",\"likes\",\"likes\",\"likes\",\"likes\",\"likes\",\"likes\",\"likes\",\"likes\",\"likes\",\"likes\",\"likes\",\"likes\",\"likes\",\"likes\",\"likes\",\"likes\",\"likes\",\"likes\",\"likes\",\"likes\",\"likes\",\"likes\",\"likes\",\"likes\",\"likes\",\"likes\",\"likes\",\"likes\",\"likes\",\"likes\",\"likes\",\"likes\",\"likes\",\"likes\",\"likes\",\"likes\",\"likes\",\"likes\",\"likes\",\"likes\",\"likes\",\"likes\",\"likes\",\"likes\",\"likes\",\"likes\",\"likes\",\"likes\",\"likes\",\"likes\",\"likes\",\"likes\",\"likes\",\"likes\",\"likes\",\"likes\",\"likes\",\"likes\",\"likes\",\"likes\",\"likes\",\"likes\",\"likes\",\"likes\",\"likes\",\"likes\",\"likes\",\"likes\",\"likes\",\"likes\",\"likes\",\"likes\",\"likes\",\"likes\",\"likes\",\"likes\",\"likes\",\"likes\",\"likes\",\"likes\",\"likes\",\"likes\",\"likes\",\"likes\",\"likes\",\"likes\",\"likes\",\"likes\",\"likes\",\"likes\",\"likes\",\"likes\",\"likes\",\"likes\",\"likes\",\"likes\",\"likes\",\"likes\",\"likes\",\"likes\",\"likes\",\"likes\",\"likes\",\"likes\",\"likes\",\"likes\",\"likes\",\"likes\",\"likes\",\"likes\",\"likes\",\"likes\",\"likes\",\"likes\",\"likes\",\"likes\",\"likes\",\"likes\",\"likes\",\"likes\",\"likes\",\"likes\",\"likes\",\"likes\",\"likes\",\"likes\",\"likes\",\"likes\",\"likes\",\"likes\",\"likes\",\"likes\",\"likes\",\"likes\",\"likes\",\"likes\",\"likes\",\"likes\",\"likes\",\"likes\",\"likes\",\"likes\",\"likes\",\"likes\",\"likes\",\"likes\",\"likes\",\"likes\",\"likes\",\"likes\",\"likes\",\"likes\",\"likes\",\"likes\",\"likes\",\"likes\",\"likes\",\"likes\",\"likes\",\"likes\",\"likes\",\"likes\",\"likes\",\"likes\",\"likes\",\"likes\",\"likes\",\"likes\",\"likes\",\"likes\",\"likes\",\"likes\",\"likes\",\"likes\",\"likes\",\"likes\",\"likes\",\"likes\",\"likes\",\"likes\",\"likes\",\"likes\",\"likes\",\"likes\",\"likes\",\"likes\",\"likes\",\"likes\",\"likes\",\"likes\",\"likes\",\"likes\",\"likes\",\"likes\",\"likes\",\"likes\",\"likes\",\"likes\",\"likes\",\"likes\",\"likes\",\"likes\",\"likes\",\"likes\",\"likes\",\"likes\",\"likes\",\"likes\",\"likes\",\"likes\",\"likes\",\"likes\",\"likes\",\"likes\",\"likes\",\"likes\",\"likes\",\"likes\",\"likes\",\"likes\",\"likes\",\"likes\",\"likes\",\"likes\",\"likes\",\"likes\",\"likes\",\"likes\",\"likes\",\"likes\",\"likes\",\"likes\",\"likes\",\"likes\",\"likes\",\"likes\",\"likes\",\"likes\",\"likes\",\"likes\",\"likes\",\"likes\",\"likes\",\"likes\",\"likes\",\"likes\",\"likes\",\"likes\",\"likes\",\"likes\",\"likes\",\"likes\",\"likes\",\"likes\",\"likes\",\"likes\",\"likes\",\"likes\",\"likes\",\"likes\",\"likes\",\"likes\",\"likes\",\"likes\",\"likes\",\"likes\",\"likes\",\"likes\",\"likes\",\"likes\",\"likes\",\"likes\",\"likes\",\"likes\",\"likes\",\"likes\",\"likes\",\"likes\",\"likes\",\"likes\",\"likes\",\"likes\",\"likes\",\"likes\",\"likes\",\"likes\",\"likes\",\"likes\",\"likes\",\"likes\",\"likes\",\"likes\",\"likes\",\"likes\",\"likes\",\"likes\",\"likes\",\"likes\",\"likes\",\"likes\",\"likes\",\"likes\",\"likes\",\"likes\",\"likes\",\"likes\",\"likes\",\"likes\",\"likes\",\"likes\",\"likes\",\"likes\",\"likes\",\"likes\",\"likes\",\"likes\",\"likes\",\"likes\",\"likes\",\"likes\",\"likes\",\"likes\",\"likes\",\"likes\",\"likes\",\"likes\",\"likes\",\"likes\",\"likes\",\"likes\",\"likes\",\"likes\",\"likes\",\"likes\",\"likes\",\"likes\",\"likes\",\"likes\",\"likes\",\"likes\",\"likes\",\"likes\",\"likes\",\"likes\",\"likes\",\"likes\",\"likes\",\"likes\",\"likes\",\"likes\",\"likes\",\"likes\",\"likes\",\"likes\",\"likes\",\"likes\",\"likes\",\"likes\",\"likes\",\"likes\",\"likes\",\"likes\",\"likes\",\"likes\",\"likes\",\"likes\",\"likes\",\"likes\",\"likes\",\"likes\",\"likes\",\"likes\",\"likes\",\"likes\",\"likes\",\"likes\",\"likes\",\"likes\",\"likes\",\"likes\",\"likes\",\"likes\",\"likes\",\"likes\",\"likes\",\"likes\",\"likes\",\"likes\",\"likes\",\"likes\",\"likes\",\"likes\",\"likes\",\"likes\",\"likes\",\"likes\",\"likes\",\"likes\",\"likes\",\"likes\",\"likes\",\"likes\",\"likes\",\"likes\",\"likes\",\"likes\",\"likes\",\"likes\",\"likes\",\"likes\",\"likes\",\"likes\",\"likes\",\"likes\",\"likes\",\"likes\",\"likes\",\"likes\",\"likes\",\"likes\",\"likes\",\"likes\",\"likes\",\"likes\",\"likes\",\"likes\",\"likes\",\"likes\",\"likes\",\"likes\",\"likes\",\"likes\",\"likes\",\"likes\",\"likes\",\"likes\",\"likes\",\"likes\",\"likes\",\"likes\",\"likes\",\"likes\",\"likes\",\"likes\",\"likes\",\"likes\",\"likes\",\"likes\",\"likes\",\"likes\",\"likes\",\"likes\",\"likes\",\"likes\",\"likes\",\"likes\",\"likes\",\"likes\",\"likes\",\"likes\",\"likes\",\"likes\",\"likes\",\"likes\",\"likes\",\"likes\",\"likes\",\"likes\",\"likes\",\"likes\",\"likes\",\"likes\",\"likes\",\"likes\",\"likes\",\"likes\",\"likes\",\"likes\",\"likes\",\"likes\",\"likes\",\"likes\",\"likes\",\"likes\",\"likes\",\"likes\",\"likes\",\"likes\",\"likes\",\"likes\",\"likes\",\"likes\",\"likes\",\"likes\",\"likes\",\"likes\",\"likes\",\"likes\",\"likes\",\"likes\",\"likes\",\"likes\",\"likes\",\"likes\",\"likes\",\"likes\",\"likes\",\"likes\",\"likes\",\"likes\",\"likes\",\"likes\",\"likes\",\"likes\",\"likes\",\"likes\",\"likes\",\"likes\",\"likes\",\"likes\",\"likes\",\"likes\",\"likes\",\"likes\",\"likes\",\"likes\",\"likes\",\"likes\",\"likes\",\"likes\",\"likes\",\"likes\",\"likes\",\"likes\",\"likes\",\"likes\",\"likes\",\"likes\",\"likes\",\"likes\",\"likes\",\"likes\",\"likes\",\"likes\",\"likes\",\"likes\",\"likes\",\"likes\",\"likes\",\"likes\",\"likes\",\"likes\",\"likes\",\"likes\",\"likes\",\"likes\",\"likes\",\"likes\",\"likes\",\"likes\",\"likes\",\"likes\",\"likes\",\"likes\",\"likes\",\"likes\",\"likes\",\"likes\",\"likes\",\"likes\",\"likes\",\"likes\",\"likes\",\"likes\",\"likes\",\"likes\",\"likes\",\"likes\",\"likes\",\"likes\",\"likes\",\"likes\",\"likes\",\"likes\",\"likes\",\"likes\",\"likes\",\"likes\",\"likes\",\"likes\",\"likes\",\"likes\",\"likes\",\"likes\",\"likes\",\"likes\",\"likes\",\"likes\",\"likes\",\"likes\",\"likes\",\"likes\",\"likes\",\"likes\",\"likes\",\"likes\",\"likes\",\"likes\",\"likes\",\"likes\",\"likes\",\"likes\",\"likes\",\"likes\",\"likes\",\"likes\",\"likes\",\"likes\",\"likes\",\"likes\",\"likes\",\"likes\",\"likes\",\"likes\",\"likes\",\"likes\",\"likes\",\"likes\",\"likes\",\"likes\",\"likes\",\"likes\",\"likes\",\"likes\",\"likes\",\"likes\",\"likes\",\"likes\",\"likes\",\"likes\",\"likes\",\"likes\",\"likes\",\"likes\",\"likes\",\"likes\",\"likes\",\"likes\",\"likes\",\"likes\",\"likes\",\"likes\",\"likes\",\"likes\",\"likes\",\"likes\",\"likes\",\"likes\",\"likes\",\"likes\",\"likes\",\"likes\",\"likes\",\"likes\",\"likes\",\"likes\",\"likes\",\"likes\",\"likes\",\"likes\",\"likes\",\"likes\",\"likes\",\"likes\",\"likes\",\"likes\",\"likes\",\"likes\",\"likes\",\"likes\",\"likes\",\"likes\",\"likes\",\"likes\",\"likes\",\"likes\",\"likes\",\"likes\",\"likes\",\"likes\",\"likes\",\"likes\",\"likes\",\"likes\",\"likes\",\"likes\",\"likes\",\"likes\",\"likes\",\"likes\",\"likes\",\"likes\",\"likes\",\"likes\",\"likes\",\"likes\",\"likes\",\"likes\",\"likes\",\"likes\",\"likes\",\"likes\",\"likes\",\"likes\",\"likes\",\"likes\",\"likes\",\"likes\",\"likes\",\"likes\",\"likes\",\"likes\",\"likes\",\"likes\",\"likes\",\"likes\",\"likes\",\"likes\",\"likes\",\"likes\",\"likes\",\"likes\",\"likes\",\"likes\",\"likes\",\"likes\",\"likes\",\"likes\",\"likes\",\"likes\",\"likes\",\"likes\",\"likes\",\"likes\",\"likes\",\"likes\",\"likes\",\"likes\",\"likes\",\"likes\",\"likes\",\"likes\",\"likes\",\"likes\",\"likes\",\"likes\",\"likes\",\"likes\",\"likes\",\"likes\",\"likes\",\"likes\",\"likes\",\"likes\",\"likes\",\"likes\",\"likes\",\"likes\",\"likes\",\"likes\",\"likes\",\"likes\",\"likes\",\"likes\",\"likes\",\"likes\",\"likes\",\"likes\",\"likes\",\"likes\",\"likes\",\"likes\",\"likes\",\"likes\",\"likes\",\"likes\",\"likes\",\"likes\",\"likes\",\"likes\",\"likes\",\"likes\",\"likes\",\"likes\",\"likes\",\"likes\",\"likes\",\"likes\",\"likes\",\"likes\",\"likes\",\"likes\",\"likes\",\"likes\",\"likes\",\"likes\",\"likes\",\"likes\",\"likes\",\"likes\",\"likes\",\"likes\",\"likes\",\"likes\",\"likes\",\"likes\",\"likes\",\"likes\",\"likes\",\"likes\",\"likes\",\"likes\",\"likes\",\"likes\",\"likes\",\"likes\",\"likes\",\"likes\",\"likes\",\"likes\",\"likes\",\"likes\",\"likes\",\"likes\",\"likes\",\"likes\",\"likes\",\"likes\",\"likes\",\"likes\",\"likes\",\"likes\",\"likes\",\"likes\",\"likes\",\"likes\",\"likes\",\"likes\",\"likes\",\"likes\",\"likes\",\"likes\",\"likes\",\"likes\",\"likes\",\"likes\",\"likes\",\"likes\",\"likes\",\"likes\",\"likes\",\"likes\",\"likes\",\"likes\",\"likes\",\"likes\",\"likes\",\"likes\",\"likes\",\"likes\",\"likes\",\"likes\",\"likes\",\"likes\",\"likes\",\"likes\",\"likes\",\"likes\",\"likes\",\"likes\",\"likes\",\"likes\",\"likes\",\"likes\",\"likes\",\"likes\",\"likes\",\"likes\",\"likes\",\"likes\",\"likes\",\"likes\",\"likes\",\"likes\",\"likes\",\"likes\",\"likes\",\"likes\",\"likes\",\"likes\",\"likes\",\"likes\",\"likes\",\"likes\",\"likes\",\"likes\",\"likes\",\"likes\",\"likes\",\"likes\",\"likes\",\"likes\",\"likes\",\"likes\",\"likes\",\"likes\",\"likes\",\"likes\",\"likes\",\"likes\",\"likes\",\"likes\",\"likes\",\"likes\",\"likes\",\"likes\",\"likes\",\"likes\",\"likes\",\"likes\",\"likes\",\"likes\",\"likes\",\"likes\",\"likes\",\"likes\",\"likes\",\"likes\",\"likes\",\"likes\",\"likes\",\"likes\",\"likes\",\"likes\",\"likes\",\"likes\",\"likes\",\"likes\",\"likes\",\"likes\",\"likes\",\"likes\",\"likes\",\"likes\",\"likes\",\"likes\",\"likes\",\"likes\",\"likes\",\"likes\",\"likes\",\"likes\",\"likes\",\"likes\",\"likes\",\"likes\",\"likes\",\"likes\",\"likes\",\"likes\",\"likes\",\"likes\",\"likes\",\"likes\",\"likes\",\"likes\",\"likes\",\"likes\",\"likes\",\"likes\",\"likes\",\"likes\",\"likes\",\"likes\",\"likes\",\"likes\",\"likes\",\"likes\",\"likes\",\"likes\",\"likes\",\"likes\",\"likes\",\"likes\",\"likes\",\"likes\",\"likes\",\"likes\",\"likes\",\"likes\",\"likes\",\"likes\",\"likes\",\"likes\",\"likes\",\"likes\",\"likes\",\"likes\",\"likes\",\"likes\",\"likes\",\"likes\",\"likes\",\"likes\",\"likes\",\"likes\",\"likes\",\"likes\",\"likes\",\"likes\",\"likes\",\"likes\",\"likes\",\"likes\",\"likes\",\"likes\",\"likes\",\"likes\",\"likes\",\"likes\",\"likes\",\"likes\",\"likes\",\"likes\",\"likes\",\"likes\",\"likes\",\"likes\",\"likes\",\"likes\",\"likes\",\"likes\",\"likes\",\"likes\",\"likes\",\"likes\",\"likes\",\"likes\",\"likes\",\"likes\",\"likes\",\"likes\",\"likes\",\"likes\",\"likes\",\"likes\",\"likes\",\"likes\",\"likes\",\"likes\",\"likes\",\"likes\",\"likes\",\"likes\",\"likes\",\"likes\",\"likes\",\"likes\",\"likes\",\"likes\",\"likes\",\"likes\",\"likes\",\"likes\",\"likes\",\"likes\",\"likes\",\"likes\",\"likes\",\"likes\",\"likes\",\"likes\",\"likes\",\"likes\",\"likes\",\"likes\",\"likes\",\"likes\",\"likes\",\"likes\",\"likes\",\"likes\",\"likes\",\"likes\",\"likes\",\"likes\",\"likes\",\"likes\",\"likes\",\"likes\",\"likes\",\"likes\",\"likes\",\"likes\",\"likes\",\"likes\",\"likes\",\"likes\",\"likes\",\"likes\",\"likes\",\"likes\",\"likes\",\"likes\",\"likes\",\"likes\",\"likes\",\"likes\",\"likes\",\"likes\",\"likes\",\"likes\",\"likes\",\"likes\",\"likes\",\"likes\",\"likes\",\"likes\",\"likes\",\"likes\",\"likes\",\"likes\",\"likes\",\"likes\",\"likes\",\"likes\",\"likes\",\"likes\",\"likes\",\"likes\",\"likes\",\"likes\",\"likes\",\"likes\",\"likes\",\"likes\",\"likes\",\"likes\",\"likes\",\"likes\",\"likes\",\"likes\",\"likes\",\"likes\",\"likes\",\"likes\",\"likes\",\"likes\",\"likes\",\"likes\",\"likes\",\"likes\",\"likes\",\"likes\",\"likes\",\"likes\",\"likes\",\"likes\",\"likes\",\"likes\",\"likes\",\"likes\",\"likes\",\"likes\",\"likes\",\"likes\",\"likes\",\"likes\",\"likes\",\"likes\",\"likes\",\"likes\",\"likes\",\"likes\",\"likes\",\"likes\",\"likes\",\"likes\",\"likes\",\"likes\",\"likes\",\"likes\",\"likes\",\"likes\",\"likes\",\"likes\",\"likes\",\"likes\",\"likes\",\"likes\",\"likes\",\"likes\",\"likes\",\"likes\",\"likes\",\"likes\",\"likes\",\"likes\",\"likes\",\"likes\",\"likes\",\"likes\",\"likes\",\"likes\",\"likes\",\"likes\",\"likes\",\"likes\",\"likes\",\"likes\",\"likes\",\"likes\",\"likes\",\"likes\",\"likes\",\"likes\",\"likes\",\"likes\",\"likes\",\"likes\",\"likes\",\"likes\",\"likes\",\"likes\",\"likes\",\"likes\",\"likes\",\"likes\",\"likes\",\"likes\",\"likes\",\"likes\",\"likes\",\"likes\",\"likes\",\"likes\",\"likes\",\"likes\",\"likes\",\"likes\",\"likes\",\"likes\",\"likes\",\"likes\",\"likes\",\"likes\",\"likes\",\"likes\",\"likes\",\"likes\",\"likes\",\"likes\",\"likes\",\"likes\",\"likes\",\"likes\",\"likes\",\"likes\",\"likes\",\"likes\",\"likes\",\"likes\",\"likes\",\"likes\",\"likes\",\"likes\",\"likes\",\"likes\",\"likes\",\"likes\",\"likes\",\"likes\",\"likes\",\"likes\",\"likes\",\"likes\",\"likes\",\"likes\",\"likes\",\"likes\",\"likes\",\"likes\",\"likes\",\"likes\",\"likes\",\"likes\",\"likes\",\"likes\",\"likes\",\"likes\",\"likes\",\"likes\",\"likes\",\"likes\",\"likes\",\"likes\",\"likes\",\"likes\",\"likes\",\"likes\",\"likes\",\"likes\",\"likes\",\"likes\",\"likes\",\"likes\",\"likes\",\"likes\",\"likes\",\"likes\",\"likes\",\"likes\",\"likes\",\"likes\",\"likes\",\"likes\",\"likes\",\"likes\",\"likes\",\"likes\",\"likes\",\"likes\",\"likes\",\"likes\",\"likes\",\"likes\",\"likes\",\"likes\",\"likes\",\"likes\",\"likes\",\"likes\",\"likes\",\"likes\",\"likes\",\"likes\",\"likes\",\"likes\",\"likes\",\"likes\",\"likes\",\"likes\",\"likes\",\"likes\",\"likes\",\"likes\",\"likes\",\"likes\",\"likes\",\"likes\",\"likes\",\"likes\",\"likes\",\"likes\",\"likes\",\"likes\",\"likes\",\"likes\",\"likes\",\"likes\",\"likes\",\"likes\",\"likes\",\"likes\",\"likes\",\"likes\",\"likes\",\"likes\",\"likes\",\"likes\",\"likes\",\"likes\",\"likes\",\"likes\",\"likes\",\"likes\",\"likes\",\"likes\",\"likes\",\"likes\",\"likes\",\"likes\",\"likes\",\"likes\",\"likes\",\"likes\",\"likes\",\"likes\",\"likes\",\"likes\",\"likes\",\"likes\",\"likes\",\"likes\",\"likes\",\"likes\",\"likes\",\"likes\",\"likes\",\"likes\",\"likes\",\"likes\",\"likes\",\"likes\",\"likes\",\"likes\",\"likes\",\"likes\",\"likes\",\"likes\",\"likes\",\"likes\",\"likes\",\"likes\",\"likes\",\"likes\",\"likes\",\"likes\",\"likes\",\"likes\",\"likes\",\"likes\",\"likes\",\"likes\",\"likes\",\"likes\",\"likes\",\"likes\",\"likes\",\"likes\",\"likes\",\"likes\",\"likes\",\"likes\",\"likes\",\"likes\",\"likes\",\"likes\",\"likes\",\"likes\",\"likes\",\"likes\",\"likes\",\"likes\",\"likes\",\"likes\",\"likes\",\"likes\",\"likes\",\"likes\",\"likes\",\"likes\",\"likes\",\"likes\",\"likes\",\"likes\",\"likes\",\"likes\",\"likes\",\"likes\",\"likes\",\"likes\",\"likes\",\"likes\",\"likes\",\"likes\",\"likes\",\"likes\",\"likes\",\"likes\",\"likes\",\"likes\",\"likes\",\"likes\",\"likes\",\"likes\",\"likes\",\"likes\",\"likes\",\"likes\",\"likes\",\"likes\",\"likes\",\"likes\",\"likes\",\"likes\",\"likes\",\"likes\",\"likes\",\"likes\",\"likes\",\"likes\",\"likes\",\"likes\",\"likes\",\"likes\",\"likes\",\"likes\",\"likes\",\"likes\",\"likes\",\"likes\",\"likes\",\"likes\",\"likes\",\"likes\",\"likes\",\"likes\",\"likes\",\"likes\",\"likes\",\"likes\",\"likes\",\"likes\",\"likes\",\"likes\",\"likes\",\"likes\",\"likes\",\"likes\",\"likes\",\"likes\",\"likes\",\"likes\",\"likes\",\"likes\",\"likes\",\"likes\",\"likes\",\"likes\",\"likes\",\"likes\",\"likes\",\"likes\",\"likes\",\"likes\",\"likes\",\"likes\",\"likes\",\"likes\",\"likes\",\"likes\",\"likes\",\"likes\",\"likes\",\"likes\",\"likes\",\"likes\",\"likes\",\"likes\",\"likes\",\"likes\",\"likes\",\"likes\",\"likes\",\"likes\",\"likes\",\"likes\",\"likes\",\"likes\",\"likes\",\"likes\",\"likes\",\"likes\",\"likes\",\"likes\",\"likes\",\"likes\",\"likes\",\"likes\",\"likes\",\"likes\",\"likes\",\"likes\",\"likes\",\"likes\",\"likes\",\"likes\",\"likes\",\"likes\",\"likes\",\"likes\",\"likes\",\"likes\",\"likes\",\"likes\",\"likes\",\"likes\",\"likes\",\"likes\",\"likes\",\"likes\",\"likes\",\"likes\",\"likes\",\"likes\",\"likes\",\"likes\",\"likes\",\"likes\",\"likes\",\"likes\",\"likes\",\"likes\",\"likes\",\"likes\",\"likes\",\"likes\",\"likes\",\"likes\",\"likes\",\"likes\",\"likes\",\"likes\",\"likes\",\"likes\",\"likes\",\"likes\",\"likes\",\"likes\",\"likes\",\"likes\",\"likes\",\"likes\",\"likes\",\"likes\",\"likes\",\"likes\",\"likes\",\"likes\",\"likes\",\"likes\",\"likes\",\"likes\",\"likes\",\"likes\",\"likes\",\"likes\",\"likes\",\"likes\",\"likes\",\"likes\",\"likes\",\"likes\",\"likes\",\"likes\",\"likes\",\"likes\",\"likes\",\"likes\",\"likes\",\"likes\",\"likes\",\"likes\",\"likes\",\"likes\",\"likes\",\"likes\",\"likes\",\"likes\",\"likes\",\"likes\",\"likes\",\"likes\",\"likes\",\"likes\",\"likes\",\"likes\",\"likes\",\"likes\",\"likes\",\"likes\",\"likes\",\"likes\",\"likes\",\"likes\",\"likes\",\"likes\",\"likes\",\"likes\",\"likes\",\"likes\",\"likes\",\"likes\",\"likes\",\"likes\",\"likes\",\"likes\",\"likes\",\"likes\",\"likes\",\"likes\",\"likes\",\"likes\",\"likes\",\"likes\",\"likes\",\"likes\",\"likes\",\"likes\",\"likes\",\"likes\",\"likes\",\"likes\",\"likes\",\"likes\",\"likes\",\"likes\",\"likes\",\"likes\",\"likes\",\"likes\",\"likes\",\"likes\",\"likes\",\"likes\",\"likes\",\"likes\",\"likes\",\"likes\",\"likes\",\"likes\",\"likes\",\"likes\",\"likes\",\"likes\",\"likes\",\"likes\",\"likes\",\"likes\",\"likes\",\"likes\",\"likes\",\"likes\",\"likes\",\"likes\",\"likes\",\"likes\",\"likes\",\"likes\",\"likes\",\"likes\",\"likes\",\"likes\",\"likes\",\"likes\",\"likes\",\"likes\",\"likes\",\"likes\",\"likes\",\"likes\",\"likes\",\"likes\",\"likes\",\"likes\",\"likes\",\"likes\",\"likes\",\"likes\",\"likes\",\"likes\",\"likes\",\"likes\",\"likes\",\"likes\",\"likes\",\"likes\",\"likes\",\"likes\",\"likes\",\"likes\",\"likes\",\"likes\",\"likes\",\"likes\",\"likes\",\"likes\",\"likes\",\"likes\",\"likes\",\"likes\",\"likes\",\"likes\",\"likes\",\"likes\",\"likes\",\"likes\",\"likes\",\"likes\",\"likes\",\"likes\",\"likes\",\"likes\",\"likes\",\"likes\",\"likes\",\"likes\",\"likes\",\"likes\",\"likes\",\"likes\",\"likes\",\"likes\",\"likes\",\"likes\",\"likes\",\"likes\",\"likes\",\"likes\",\"likes\",\"likes\",\"likes\",\"likes\",\"likes\",\"likes\",\"likes\",\"likes\",\"likes\",\"likes\",\"likes\",\"likes\",\"likes\",\"likes\",\"likes\",\"likes\",\"likes\",\"likes\",\"likes\",\"likes\",\"likes\",\"likes\",\"likes\",\"likes\",\"likes\",\"likes\",\"likes\",\"likes\",\"likes\",\"likes\",\"likes\",\"likes\",\"likes\",\"likes\",\"likes\",\"likes\",\"likes\",\"likes\",\"likes\",\"likes\",\"likes\",\"likes\",\"likes\",\"likes\",\"likes\",\"likes\",\"likes\",\"likes\",\"likes\",\"likes\",\"likes\",\"likes\",\"likes\",\"likes\",\"likes\",\"likes\",\"likes\",\"likes\",\"likes\",\"likes\",\"likes\",\"likes\",\"likes\",\"likes\",\"likes\",\"likes\",\"likes\",\"likes\",\"likes\",\"likes\",\"likes\",\"likes\",\"likes\",\"likes\",\"likes\",\"likes\",\"likes\",\"likes\",\"likes\",\"likes\",\"likes\",\"likes\",\"likes\",\"likes\",\"likes\",\"likes\",\"likes\",\"likes\",\"likes\",\"likes\",\"likes\",\"likes\",\"likes\",\"likes\",\"likes\",\"likes\",\"likes\",\"likes\",\"likes\",\"likes\",\"likes\",\"likes\",\"likes\",\"likes\",\"likes\",\"likes\",\"likes\",\"likes\",\"likes\",\"likes\",\"likes\",\"likes\",\"likes\",\"likes\",\"likes\",\"likes\",\"likes\",\"likes\",\"likes\",\"likes\",\"likes\",\"likes\",\"likes\",\"likes\",\"likes\",\"likes\",\"likes\",\"likes\",\"likes\",\"likes\",\"likes\",\"likes\",\"likes\",\"likes\",\"likes\",\"likes\",\"likes\",\"likes\",\"likes\",\"likes\",\"likes\",\"likes\",\"likes\",\"likes\",\"likes\",\"likes\",\"likes\",\"likes\",\"likes\",\"likes\",\"likes\",\"likes\",\"likes\",\"likes\",\"likes\",\"likes\",\"likes\",\"likes\",\"likes\",\"likes\",\"likes\",\"likes\",\"likes\",\"likes\",\"likes\",\"likes\",\"likes\",\"likes\",\"likes\",\"likes\",\"likes\",\"likes\",\"likes\",\"likes\",\"likes\",\"likes\",\"likes\",\"likes\",\"likes\",\"likes\",\"likes\",\"likes\",\"likes\",\"likes\",\"likes\",\"likes\",\"likes\",\"likes\",\"likes\",\"likes\",\"likes\",\"likes\",\"likes\",\"likes\",\"likes\",\"likes\",\"likes\",\"likes\",\"likes\",\"likes\",\"likes\",\"likes\",\"likes\",\"likes\",\"likes\",\"likes\",\"likes\",\"likes\",\"likes\",\"likes\",\"likes\",\"likes\",\"likes\",\"likes\",\"likes\",\"likes\",\"likes\",\"likes\",\"likes\",\"likes\",\"likes\",\"likes\",\"likes\",\"likes\",\"likes\",\"likes\",\"likes\",\"likes\",\"likes\",\"likes\",\"likes\",\"likes\",\"likes\",\"likes\",\"likes\",\"likes\",\"likes\",\"likes\",\"likes\",\"likes\",\"likes\",\"likes\",\"likes\",\"likes\",\"likes\",\"likes\",\"likes\",\"likes\",\"likes\",\"likes\",\"likes\",\"likes\",\"likes\",\"likes\",\"likes\",\"likes\",\"likes\",\"likes\",\"likes\",\"likes\",\"likes\",\"likes\",\"likes\",\"likes\",\"likes\",\"likes\",\"likes\",\"likes\",\"likes\",\"likes\",\"likes\",\"likes\",\"likes\",\"likes\",\"likes\",\"likes\",\"likes\",\"likes\",\"likes\",\"likes\",\"likes\",\"likes\",\"likes\",\"likes\",\"likes\",\"likes\",\"likes\",\"likes\",\"likes\",\"likes\",\"likes\",\"likes\",\"likes\",\"likes\",\"likes\",\"likes\",\"likes\",\"likes\",\"likes\",\"likes\",\"likes\",\"likes\",\"likes\",\"likes\",\"likes\",\"likes\",\"likes\",\"likes\",\"likes\",\"likes\",\"likes\",\"likes\",\"likes\",\"likes\",\"likes\",\"likes\",\"likes\",\"likes\",\"likes\",\"likes\",\"likes\",\"likes\",\"likes\",\"likes\",\"likes\",\"likes\",\"likes\",\"likes\",\"likes\",\"likes\",\"likes\",\"likes\",\"likes\",\"likes\",\"likes\",\"likes\",\"likes\",\"likes\",\"likes\",\"likes\",\"likes\",\"likes\",\"likes\",\"likes\",\"likes\",\"likes\",\"likes\",\"likes\",\"likes\",\"likes\",\"likes\",\"likes\",\"likes\",\"likes\",\"likes\",\"likes\",\"likes\",\"likes\",\"likes\",\"likes\",\"likes\",\"likes\",\"likes\",\"likes\",\"likes\",\"likes\",\"likes\",\"likes\",\"likes\",\"likes\",\"likes\",\"likes\",\"likes\",\"likes\",\"likes\",\"likes\",\"likes\",\"likes\",\"likes\",\"likes\",\"likes\",\"likes\",\"likes\",\"likes\",\"likes\",\"likes\",\"likes\",\"likes\",\"likes\",\"likes\",\"likes\",\"likes\",\"likes\",\"likes\",\"likes\",\"likes\",\"likes\",\"likes\",\"likes\",\"likes\",\"likes\",\"likes\",\"likes\",\"likes\",\"likes\",\"likes\",\"likes\",\"likes\",\"likes\",\"likes\",\"likes\",\"likes\",\"likes\",\"likes\",\"likes\",\"likes\",\"likes\",\"likes\",\"likes\",\"likes\",\"likes\",\"likes\",\"likes\",\"likes\",\"likes\",\"likes\",\"likes\",\"likes\",\"likes\",\"likes\",\"likes\",\"likes\",\"likes\",\"likes\",\"likes\",\"likes\",\"likes\",\"likes\",\"likes\",\"likes\",\"likes\",\"likes\",\"likes\",\"likes\",\"likes\",\"likes\",\"likes\",\"likes\",\"likes\",\"likes\",\"likes\",\"likes\",\"likes\",\"likes\",\"likes\",\"likes\",\"likes\",\"likes\",\"likes\",\"likes\",\"likes\",\"likes\",\"likes\",\"likes\",\"likes\",\"likes\",\"likes\",\"likes\",\"likes\",\"likes\",\"likes\",\"likes\",\"likes\",\"likes\",\"likes\",\"likes\",\"likes\",\"likes\",\"likes\",\"likes\",\"likes\",\"likes\",\"likes\",\"likes\",\"likes\",\"likes\",\"likes\",\"likes\",\"likes\",\"likes\",\"likes\",\"likes\",\"likes\",\"likes\",\"likes\",\"likes\",\"likes\",\"likes\",\"likes\",\"likes\",\"likes\",\"likes\",\"likes\",\"likes\",\"likes\",\"likes\",\"likes\",\"likes\",\"likes\",\"likes\",\"likes\",\"likes\",\"likes\",\"likes\",\"likes\",\"likes\",\"likes\",\"likes\",\"likes\",\"likes\",\"likes\",\"likes\",\"likes\",\"likes\",\"likes\",\"likes\",\"likes\",\"likes\",\"likes\",\"likes\",\"likes\",\"likes\",\"likes\",\"likes\",\"likes\",\"likes\",\"likes\",\"likes\",\"likes\",\"likes\",\"likes\",\"likes\",\"likes\",\"likes\",\"likes\",\"likes\",\"likes\",\"likes\",\"likes\",\"likes\",\"likes\",\"likes\",\"likes\",\"likes\",\"likes\",\"likes\",\"likes\",\"likes\",\"likes\",\"likes\",\"likes\",\"likes\",\"likes\",\"likes\",\"likes\",\"likes\",\"likes\",\"likes\",\"likes\",\"likes\",\"likes\",\"likes\",\"likes\",\"likes\",\"likes\",\"likes\",\"likes\",\"likes\",\"likes\",\"likes\",\"likes\",\"likes\",\"likes\",\"likes\",\"likes\",\"likes\",\"likes\",\"likes\",\"likes\",\"likes\",\"likes\",\"likes\",\"likes\",\"likes\",\"likes\",\"likes\",\"likes\",\"likes\",\"likes\",\"likes\",\"likes\",\"likes\",\"likes\",\"likes\",\"likes\",\"likes\",\"likes\",\"likes\",\"likes\",\"likes\",\"likes\",\"likes\",\"likes\",\"likes\",\"likes\",\"likes\",\"likes\",\"likes\",\"likes\",\"likes\",\"likes\",\"likes\",\"likes\",\"likes\",\"likes\",\"likes\",\"likes\",\"likes\",\"likes\",\"likes\",\"likes\",\"likes\",\"likes\",\"likes\",\"likes\",\"likes\",\"likes\",\"likes\",\"likes\",\"likes\",\"likes\",\"likes\",\"likes\",\"likes\",\"likes\",\"likes\",\"likes\",\"likes\",\"likes\",\"likes\",\"likes\",\"likes\",\"likes\",\"likes\",\"likes\",\"likes\",\"likes\",\"likes\",\"likes\",\"likes\",\"likes\",\"likes\",\"likes\",\"likes\",\"likes\",\"likes\",\"likes\",\"likes\",\"likes\",\"likes\",\"likes\",\"likes\",\"likes\",\"likes\",\"likes\",\"likes\",\"likes\",\"likes\",\"likes\",\"likes\",\"likes\",\"likes\",\"likes\",\"likes\",\"likes\",\"likes\",\"likes\",\"likes\",\"likes\",\"likes\",\"likes\",\"likes\",\"likes\",\"likes\",\"likes\",\"likes\",\"likes\",\"likes\",\"likes\",\"likes\",\"likes\",\"likes\",\"likes\",\"likes\",\"likes\",\"likes\",\"likes\",\"likes\",\"likes\",\"likes\",\"likes\",\"likes\",\"likes\",\"likes\",\"likes\",\"likes\",\"likes\",\"likes\",\"likes\",\"likes\",\"likes\",\"likes\",\"likes\",\"likes\",\"likes\",\"likes\",\"likes\",\"likes\",\"likes\",\"likes\",\"likes\",\"likes\",\"likes\",\"likes\",\"likes\",\"likes\",\"likes\",\"likes\",\"likes\",\"likes\",\"likes\",\"likes\",\"likes\",\"likes\",\"likes\",\"likes\",\"likes\",\"likes\",\"likes\",\"likes\",\"likes\",\"likes\",\"likes\",\"likes\",\"likes\",\"likes\",\"likes\",\"likes\",\"likes\",\"likes\",\"likes\",\"likes\",\"likes\",\"likes\",\"likes\",\"likes\",\"likes\",\"likes\",\"likes\",\"likes\",\"likes\",\"likes\",\"likes\",\"likes\",\"likes\",\"likes\",\"likes\",\"likes\",\"likes\",\"likes\",\"likes\",\"likes\",\"likes\",\"likes\",\"likes\",\"likes\",\"likes\",\"likes\",\"likes\",\"likes\",\"likes\",\"likes\",\"likes\",\"likes\",\"likes\",\"likes\",\"likes\",\"likes\",\"likes\",\"likes\",\"likes\",\"likes\",\"likes\",\"likes\",\"likes\",\"likes\",\"likes\",\"likes\",\"likes\",\"likes\",\"likes\",\"likes\",\"likes\",\"likes\",\"likes\",\"likes\",\"likes\",\"likes\",\"likes\",\"likes\",\"likes\",\"likes\",\"likes\",\"likes\",\"likes\",\"likes\",\"likes\",\"likes\",\"likes\",\"likes\",\"likes\",\"likes\",\"likes\",\"likes\",\"likes\",\"likes\",\"likes\",\"likes\",\"likes\",\"likes\",\"likes\",\"likes\",\"likes\",\"likes\",\"likes\",\"likes\",\"likes\",\"likes\",\"likes\",\"likes\",\"likes\",\"likes\",\"likes\",\"likes\",\"likes\",\"likes\",\"likes\",\"likes\",\"likes\",\"likes\",\"likes\",\"likes\",\"likes\",\"likes\",\"likes\",\"likes\",\"likes\",\"likes\",\"likes\",\"likes\",\"likes\",\"likes\",\"likes\",\"likes\",\"likes\",\"likes\",\"likes\",\"likes\",\"likes\",\"likes\",\"likes\",\"likes\",\"likes\",\"likes\",\"likes\",\"likes\",\"likes\",\"likes\",\"likes\",\"likes\",\"likes\",\"likes\",\"likes\",\"likes\",\"likes\",\"likes\",\"likes\",\"likes\",\"likes\",\"likes\",\"likes\",\"likes\",\"likes\",\"likes\",\"likes\",\"likes\",\"likes\",\"likes\",\"likes\",\"likes\",\"likes\",\"likes\",\"likes\",\"likes\",\"likes\",\"likes\",\"likes\",\"likes\",\"likes\",\"likes\",\"likes\",\"likes\",\"likes\",\"likes\",\"likes\",\"likes\",\"likes\",\"likes\",\"likes\",\"likes\",\"likes\",\"likes\",\"likes\",\"likes\",\"likes\",\"likes\",\"likes\",\"likes\",\"likes\",\"likes\",\"likes\",\"likes\",\"likes\",\"likes\",\"likes\",\"likes\",\"likes\",\"likes\",\"likes\",\"likes\",\"likes\",\"likes\",\"likes\",\"likes\",\"likes\",\"likes\",\"likes\",\"likes\",\"likes\",\"likes\",\"likes\",\"likes\",\"likes\",\"likes\",\"likes\",\"likes\",\"likes\",\"likes\",\"likes\",\"likes\",\"likes\",\"likes\",\"likes\",\"likes\",\"likes\",\"likes\",\"likes\",\"likes\",\"likes\",\"likes\",\"likes\",\"likes\",\"likes\",\"likes\",\"likes\",\"likes\",\"likes\",\"likes\",\"likes\",\"likes\",\"likes\",\"likes\",\"likes\",\"likes\",\"likes\",\"likes\",\"likes\",\"likes\",\"likes\",\"likes\",\"likes\",\"likes\",\"likes\",\"likes\",\"likes\",\"likes\",\"likes\",\"likes\",\"likes\",\"likes\",\"likes\",\"likes\",\"likes\",\"likes\",\"likes\",\"likes\",\"likes\",\"likes\",\"likes\",\"likes\",\"likes\",\"likes\",\"likes\",\"likes\",\"likes\",\"likes\",\"likes\",\"likes\",\"likes\",\"likes\",\"likes\",\"likes\",\"likes\",\"likes\",\"likes\",\"likes\",\"likes\",\"likes\",\"likes\",\"likes\",\"likes\",\"likes\",\"likes\",\"likes\",\"likes\",\"likes\",\"likes\",\"likes\",\"likes\",\"likes\",\"likes\",\"likes\",\"likes\",\"likes\",\"likes\",\"likes\",\"likes\",\"likes\",\"likes\",\"likes\",\"likes\",\"likes\",\"likes\",\"likes\",\"likes\",\"likes\",\"likes\",\"likes\",\"likes\",\"likes\",\"likes\",\"likes\",\"likes\",\"likes\",\"likes\",\"likes\",\"likes\",\"likes\",\"likes\",\"likes\",\"likes\",\"likes\",\"likes\",\"likes\",\"likes\",\"likes\",\"likes\",\"likes\",\"likes\",\"likes\",\"likes\",\"likes\",\"likes\",\"likes\",\"likes\",\"likes\",\"likes\",\"likes\",\"likes\",\"likes\",\"likes\",\"likes\",\"likes\",\"likes\",\"likes\",\"likes\",\"likes\",\"likes\",\"likes\",\"likes\",\"likes\",\"likes\",\"likes\",\"likes\",\"likes\",\"likes\",\"likes\",\"likes\",\"likes\",\"likes\",\"likes\",\"likes\",\"likes\",\"likes\",\"likes\",\"likes\",\"likes\",\"likes\",\"likes\",\"likes\",\"likes\",\"likes\",\"likes\",\"likes\",\"likes\",\"likes\",\"likes\",\"likes\",\"likes\",\"likes\",\"likes\",\"likes\",\"likes\",\"likes\",\"likes\",\"likes\",\"likes\",\"likes\",\"likes\",\"likes\",\"likes\",\"likes\",\"likes\",\"likes\",\"likes\",\"likes\",\"likes\",\"likes\",\"likes\",\"likes\",\"likes\",\"likes\",\"likes\",\"likes\",\"likes\",\"likes\",\"likes\",\"likes\",\"likes\",\"likes\",\"likes\",\"likes\",\"likes\",\"likes\",\"likes\",\"likes\",\"likes\",\"likes\",\"likes\",\"likes\",\"likes\",\"likes\",\"likes\",\"likes\",\"likes\",\"likes\",\"likes\",\"likes\",\"likes\",\"likes\",\"likes\",\"likes\",\"likes\",\"likes\",\"likes\",\"likes\",\"likes\",\"likes\",\"likes\",\"likes\",\"likes\",\"likes\",\"likes\",\"likes\",\"likes\",\"likes\",\"likes\",\"likes\",\"likes\",\"likes\",\"likes\",\"likes\",\"likes\",\"likes\",\"likes\",\"likes\",\"likes\",\"likes\",\"likes\",\"likes\",\"likes\",\"likes\",\"likes\",\"likes\",\"likes\",\"likes\",\"likes\",\"likes\",\"likes\",\"likes\",\"likes\",\"likes\",\"likes\",\"likes\",\"likes\",\"likes\",\"likes\",\"likes\",\"likes\",\"likes\",\"likes\",\"likes\",\"likes\",\"likes\",\"likes\",\"likes\",\"likes\",\"likes\",\"likes\",\"likes\",\"likes\",\"likes\",\"likes\",\"likes\",\"likes\",\"likes\",\"likes\",\"likes\",\"likes\",\"likes\",\"likes\",\"likes\",\"likes\",\"likes\",\"likes\",\"likes\",\"likes\",\"likes\",\"likes\",\"likes\",\"likes\",\"likes\",\"likes\",\"likes\",\"likes\",\"likes\",\"likes\",\"likes\",\"likes\",\"likes\",\"likes\",\"likes\",\"likes\",\"likes\",\"likes\",\"likes\",\"likes\",\"likes\",\"likes\",\"likes\",\"likes\",\"likes\",\"likes\",\"likes\",\"likes\",\"likes\",\"likes\",\"likes\",\"likes\",\"likes\",\"likes\",\"likes\",\"likes\",\"likes\",\"likes\",\"likes\",\"likes\",\"likes\",\"likes\",\"likes\",\"likes\",\"likes\",\"likes\",\"likes\",\"likes\",\"likes\",\"likes\",\"likes\",\"likes\",\"likes\",\"likes\",\"likes\",\"likes\",\"likes\",\"likes\",\"likes\",\"likes\",\"likes\",\"likes\",\"likes\",\"likes\",\"likes\",\"likes\",\"likes\",\"likes\",\"likes\",\"likes\",\"likes\",\"likes\",\"likes\",\"likes\",\"likes\",\"likes\",\"likes\",\"likes\",\"likes\",\"likes\",\"likes\",\"likes\",\"likes\",\"likes\",\"likes\",\"likes\",\"likes\",\"likes\",\"likes\",\"likes\",\"likes\",\"likes\",\"likes\",\"likes\",\"likes\",\"likes\",\"likes\",\"likes\",\"likes\",\"likes\",\"likes\",\"likes\",\"likes\",\"likes\",\"likes\",\"likes\",\"likes\",\"likes\",\"likes\",\"likes\",\"likes\",\"likes\",\"likes\",\"likes\",\"likes\",\"likes\",\"likes\",\"likes\",\"likes\",\"likes\",\"likes\",\"likes\",\"likes\",\"likes\",\"likes\",\"likes\",\"likes\",\"likes\",\"likes\",\"likes\",\"likes\",\"likes\",\"likes\",\"likes\",\"likes\",\"likes\",\"likes\",\"likes\",\"likes\",\"likes\",\"likes\",\"likes\",\"likes\",\"likes\",\"likes\",\"likes\",\"likes\",\"likes\",\"likes\",\"likes\",\"likes\",\"likes\",\"likes\",\"likes\",\"likes\",\"likes\",\"likes\",\"likes\",\"likes\",\"likes\",\"likes\",\"likes\",\"likes\",\"likes\",\"likes\",\"likes\",\"likes\",\"likes\",\"likes\",\"likes\",\"likes\",\"likes\",\"likes\",\"likes\",\"likes\",\"likes\",\"likes\",\"likes\",\"likes\",\"likes\",\"likes\",\"likes\",\"likes\",\"likes\",\"likes\",\"likes\",\"likes\",\"likes\",\"likes\",\"likes\",\"likes\",\"likes\",\"likes\",\"likes\",\"likes\",\"likes\",\"likes\",\"likes\",\"likes\",\"likes\",\"likes\",\"likes\",\"likes\",\"likes\",\"likes\",\"likes\",\"likes\",\"likes\",\"likes\",\"likes\",\"likes\",\"likes\",\"likes\",\"likes\",\"likes\",\"likes\",\"likes\",\"likes\",\"likes\",\"likes\",\"likes\",\"likes\",\"likes\",\"likes\",\"likes\",\"likes\",\"likes\",\"likes\",\"likes\",\"likes\",\"likes\",\"likes\",\"likes\",\"likes\",\"likes\",\"likes\",\"likes\",\"likes\",\"likes\",\"likes\",\"likes\",\"likes\",\"likes\",\"likes\",\"likes\",\"likes\",\"likes\",\"likes\",\"likes\",\"likes\",\"likes\",\"likes\",\"likes\",\"likes\",\"likes\",\"likes\",\"likes\",\"likes\",\"likes\",\"likes\",\"likes\",\"likes\",\"likes\",\"likes\",\"likes\",\"likes\",\"likes\",\"likes\",\"likes\",\"likes\",\"likes\",\"likes\",\"likes\",\"likes\",\"likes\",\"likes\",\"likes\",\"likes\",\"likes\",\"likes\",\"likes\",\"likes\",\"likes\",\"likes\",\"likes\",\"likes\",\"likes\",\"likes\",\"likes\",\"likes\",\"likes\",\"likes\",\"likes\",\"likes\",\"likes\",\"likes\",\"likes\",\"likes\",\"likes\",\"likes\",\"likes\",\"likes\",\"likes\",\"likes\",\"likes\",\"likes\",\"likes\",\"likes\",\"likes\",\"likes\",\"likes\",\"likes\",\"likes\",\"likes\",\"likes\",\"likes\",\"likes\",\"likes\",\"likes\",\"likes\",\"likes\",\"likes\",\"likes\",\"likes\",\"likes\",\"likes\",\"likes\",\"likes\",\"likes\",\"likes\",\"likes\",\"likes\",\"likes\",\"likes\",\"likes\",\"likes\",\"likes\",\"likes\",\"likes\",\"likes\",\"likes\",\"likes\",\"likes\",\"likes\",\"likes\",\"likes\",\"likes\",\"likes\",\"likes\",\"likes\",\"likes\",\"likes\",\"likes\",\"likes\",\"likes\",\"likes\",\"likes\",\"likes\",\"likes\",\"likes\",\"likes\",\"likes\",\"likes\",\"likes\",\"likes\",\"likes\",\"likes\",\"likes\",\"likes\",\"likes\",\"likes\",\"likes\",\"likes\",\"likes\",\"likes\",\"likes\",\"likes\",\"likes\",\"likes\",\"likes\",\"likes\",\"likes\",\"likes\",\"likes\",\"likes\",\"likes\",\"likes\",\"likes\",\"likes\",\"likes\",\"likes\",\"likes\",\"likes\",\"likes\",\"likes\",\"likes\",\"likes\",\"likes\",\"likes\",\"likes\",\"likes\",\"likes\",\"likes\",\"likes\",\"likes\",\"likes\",\"likes\",\"likes\",\"likes\",\"likes\",\"likes\",\"likes\",\"likes\",\"likes\",\"likes\",\"likes\",\"likes\",\"likes\",\"likes\",\"likes\",\"likes\",\"likes\",\"likes\",\"likes\",\"likes\",\"likes\",\"likes\",\"likes\",\"likes\",\"likes\",\"likes\",\"likes\",\"likes\",\"likes\",\"likes\",\"likes\",\"likes\",\"likes\",\"likes\",\"likes\",\"likes\",\"likes\",\"likes\",\"likes\",\"likes\",\"likes\",\"likes\",\"likes\",\"likes\",\"likes\",\"likes\",\"likes\",\"likes\",\"likes\",\"likes\",\"likes\",\"likes\",\"likes\",\"likes\",\"likes\",\"likes\",\"likes\",\"likes\",\"likes\",\"likes\",\"likes\",\"likes\",\"likes\",\"likes\",\"likes\",\"likes\",\"likes\",\"likes\",\"likes\",\"likes\",\"likes\",\"likes\",\"likes\",\"likes\",\"likes\",\"likes\",\"likes\",\"likes\",\"likes\",\"likes\",\"likes\",\"likes\",\"likes\",\"likes\",\"likes\",\"likes\",\"likes\",\"likes\",\"likes\",\"likes\",\"likes\",\"likes\",\"likes\",\"likes\",\"likes\",\"likes\",\"likes\",\"likes\",\"likes\",\"likes\",\"likes\",\"likes\",\"likes\",\"likes\",\"likes\",\"likes\",\"likes\",\"likes\",\"likes\",\"likes\",\"likes\",\"likes\",\"likes\",\"likes\",\"likes\",\"likes\",\"likes\",\"likes\",\"likes\",\"likes\",\"likes\",\"likes\",\"likes\",\"likes\",\"likes\",\"likes\",\"likes\",\"likes\",\"likes\",\"likes\",\"likes\",\"likes\",\"likes\",\"likes\",\"likes\",\"likes\",\"likes\",\"likes\",\"likes\",\"likes\",\"likes\",\"likes\",\"likes\",\"likes\",\"likes\",\"likes\",\"likes\",\"likes\",\"likes\",\"likes\",\"likes\",\"likes\",\"likes\",\"likes\",\"likes\",\"likes\",\"likes\",\"likes\",\"likes\",\"likes\",\"likes\",\"likes\",\"likes\",\"likes\",\"likes\",\"likes\",\"likes\",\"likes\",\"likes\",\"likes\",\"likes\",\"likes\",\"likes\",\"likes\",\"likes\",\"likes\",\"likes\",\"likes\",\"likes\",\"likes\",\"likes\",\"likes\",\"likes\",\"likes\",\"likes\",\"likes\",\"likes\",\"likes\",\"likes\",\"likes\",\"likes\",\"likes\",\"likes\",\"likes\",\"likes\",\"likes\",\"likes\",\"likes\",\"likes\",\"likes\",\"likes\",\"likes\",\"likes\",\"likes\",\"likes\",\"likes\",\"likes\",\"likes\",\"likes\",\"likes\",\"likes\",\"likes\",\"likes\",\"likes\",\"likes\",\"likes\",\"likes\",\"likes\",\"likes\",\"likes\",\"likes\",\"likes\",\"likes\",\"likes\",\"likes\",\"likes\",\"likes\",\"likes\",\"likes\",\"likes\",\"likes\",\"likes\",\"likes\",\"likes\",\"likes\",\"likes\",\"likes\",\"likes\",\"likes\",\"likes\",\"likes\",\"likes\",\"likes\",\"likes\",\"likes\",\"likes\",\"likes\",\"likes\",\"likes\",\"likes\",\"likes\",\"likes\",\"likes\",\"likes\",\"likes\",\"likes\",\"likes\",\"likes\",\"likes\",\"likes\",\"likes\",\"likes\",\"likes\",\"likes\",\"likes\",\"likes\",\"likes\",\"likes\",\"likes\",\"likes\",\"likes\",\"likes\",\"likes\",\"likes\",\"likes\",\"likes\",\"likes\",\"likes\",\"likes\",\"likes\",\"likes\",\"likes\",\"likes\",\"likes\",\"likes\",\"likes\",\"likes\",\"likes\",\"likes\",\"likes\",\"likes\",\"likes\",\"likes\",\"likes\",\"likes\",\"likes\",\"likes\",\"likes\",\"likes\",\"likes\",\"likes\",\"likes\",\"likes\",\"likes\",\"likes\",\"likes\",\"likes\",\"likes\",\"likes\",\"likes\",\"likes\",\"likes\",\"likes\",\"likes\",\"likes\",\"likes\",\"likes\",\"likes\",\"likes\",\"likes\",\"likes\",\"likes\",\"likes\",\"likes\",\"likes\",\"likes\",\"likes\",\"likes\",\"likes\",\"likes\",\"likes\",\"likes\",\"likes\",\"likes\",\"likes\",\"likes\",\"likes\",\"likes\",\"likes\",\"likes\",\"likes\",\"likes\",\"likes\",\"likes\",\"likes\",\"likes\",\"likes\",\"likes\",\"likes\",\"likes\",\"likes\",\"likes\",\"likes\",\"likes\",\"likes\",\"likes\",\"likes\",\"likes\",\"likes\",\"likes\",\"likes\",\"likes\",\"likes\",\"likes\",\"likes\",\"likes\",\"likes\",\"likes\",\"likes\",\"likes\",\"likes\",\"likes\",\"likes\",\"likes\",\"likes\",\"likes\",\"likes\",\"likes\",\"likes\",\"likes\",\"likes\",\"likes\",\"likes\",\"likes\",\"likes\",\"likes\",\"likes\",\"likes\",\"likes\",\"likes\",\"likes\",\"likes\",\"likes\",\"likes\",\"likes\",\"likes\",\"likes\",\"likes\",\"likes\",\"likes\",\"likes\",\"likes\",\"likes\",\"likes\",\"likes\",\"likes\",\"likes\",\"likes\",\"likes\",\"likes\",\"likes\",\"likes\",\"likes\",\"likes\",\"likes\",\"likes\",\"likes\",\"likes\",\"likes\",\"likes\",\"likes\",\"likes\",\"likes\",\"likes\",\"likes\",\"likes\",\"likes\",\"likes\",\"likes\",\"likes\",\"likes\",\"likes\",\"likes\",\"likes\",\"likes\",\"likes\",\"likes\",\"likes\",\"likes\",\"likes\",\"likes\",\"likes\",\"likes\",\"likes\",\"likes\",\"likes\",\"likes\",\"likes\",\"likes\",\"likes\",\"likes\",\"likes\",\"likes\",\"likes\",\"likes\",\"likes\",\"likes\",\"likes\",\"likes\",\"likes\",\"likes\",\"likes\",\"likes\",\"likes\",\"likes\",\"likes\",\"likes\",\"likes\",\"likes\",\"likes\",\"likes\",\"likes\",\"likes\",\"likes\",\"likes\",\"likes\",\"likes\",\"likes\",\"likes\",\"likes\",\"likes\",\"likes\",\"likes\",\"likes\",\"likes\",\"likes\",\"likes\",\"likes\",\"likes\",\"likes\",\"likes\",\"likes\",\"likes\",\"likes\",\"likes\",\"likes\",\"likes\",\"likes\",\"likes\",\"likes\",\"likes\",\"likes\",\"likes\",\"likes\",\"likes\",\"likes\",\"likes\",\"likes\",\"likes\",\"likes\",\"likes\",\"likes\",\"likes\",\"likes\",\"likes\",\"likes\",\"likes\",\"likes\",\"likes\",\"likes\",\"likes\",\"likes\",\"likes\",\"likes\",\"likes\",\"likes\",\"likes\",\"likes\",\"likes\",\"likes\",\"likes\",\"likes\",\"likes\",\"likes\",\"likes\",\"likes\",\"likes\",\"likes\",\"likes\",\"likes\",\"likes\",\"likes\",\"likes\",\"likes\",\"likes\",\"likes\",\"likes\",\"likes\",\"likes\",\"likes\",\"likes\",\"likes\",\"likes\",\"likes\",\"likes\",\"likes\",\"likes\",\"likes\",\"likes\",\"likes\",\"likes\",\"likes\",\"likes\",\"likes\",\"likes\",\"likes\",\"likes\",\"likes\",\"likes\",\"likes\",\"likes\",\"likes\",\"likes\",\"likes\",\"likes\",\"likes\",\"likes\",\"likes\",\"likes\",\"likes\",\"likes\",\"likes\",\"likes\",\"likes\",\"likes\",\"likes\",\"likes\",\"likes\",\"likes\",\"likes\",\"likes\",\"likes\",\"likes\",\"likes\",\"likes\",\"likes\",\"likes\",\"likes\",\"likes\",\"likes\",\"likes\",\"likes\",\"likes\",\"likes\",\"likes\",\"likes\",\"likes\",\"likes\",\"likes\",\"likes\",\"likes\",\"likes\",\"likes\",\"likes\",\"likes\",\"likes\",\"likes\",\"likes\",\"likes\",\"likes\",\"likes\",\"likes\",\"likes\",\"likes\",\"likes\",\"likes\",\"likes\",\"likes\",\"likes\",\"likes\",\"likes\",\"likes\",\"likes\",\"likes\",\"likes\",\"likes\",\"likes\",\"likes\",\"likes\",\"likes\",\"likes\",\"likes\",\"likes\",\"likes\",\"likes\",\"likes\",\"likes\",\"likes\",\"likes\",\"likes\",\"likes\",\"likes\",\"likes\",\"likes\",\"likes\",\"likes\",\"likes\",\"likes\",\"likes\",\"likes\",\"likes\",\"likes\",\"likes\",\"likes\",\"likes\",\"likes\",\"likes\",\"likes\",\"likes\",\"likes\",\"likes\",\"likes\",\"likes\",\"likes\",\"likes\",\"likes\",\"likes\",\"likes\",\"likes\",\"likes\",\"likes\",\"likes\",\"likes\",\"likes\",\"likes\",\"likes\",\"likes\",\"likes\",\"likes\",\"likes\",\"likes\",\"likes\",\"likes\",\"likes\",\"likes\",\"likes\",\"likes\",\"likes\",\"likes\",\"likes\",\"likes\",\"likes\",\"likes\",\"likes\",\"likes\",\"likes\",\"likes\",\"likes\",\"likes\",\"likes\",\"likes\",\"likes\",\"likes\",\"likes\",\"likes\",\"likes\",\"likes\",\"likes\",\"likes\",\"likes\",\"likes\",\"likes\",\"likes\",\"likes\",\"likes\",\"likes\",\"likes\",\"likes\",\"likes\",\"likes\",\"likes\",\"likes\",\"likes\",\"likes\",\"likes\",\"likes\",\"likes\",\"likes\",\"likes\",\"likes\",\"likes\",\"likes\",\"likes\",\"likes\",\"likes\",\"likes\",\"likes\",\"likes\",\"likes\",\"likes\",\"likes\",\"likes\",\"likes\",\"likes\",\"likes\",\"likes\",\"likes\",\"likes\",\"likes\",\"likes\",\"likes\",\"likes\",\"likes\",\"likes\",\"likes\",\"likes\",\"likes\",\"likes\",\"likes\",\"likes\",\"likes\",\"likes\",\"likes\",\"likes\",\"likes\",\"likes\",\"likes\",\"likes\",\"likes\",\"likes\",\"likes\",\"likes\",\"likes\",\"likes\",\"likes\",\"likes\",\"likes\",\"likes\",\"likes\",\"likes\",\"likes\",\"likes\",\"likes\",\"likes\",\"likes\",\"likes\",\"likes\",\"likes\",\"likes\",\"likes\",\"likes\",\"likes\",\"likes\",\"likes\",\"likes\",\"likes\",\"likes\",\"likes\",\"likes\",\"likes\",\"likes\",\"likes\",\"likes\",\"likes\",\"likes\",\"likes\",\"likes\",\"likes\",\"likes\",\"likes\",\"likes\",\"likes\",\"likes\",\"likes\",\"likes\",\"likes\",\"likes\",\"likes\",\"likes\",\"likes\",\"likes\",\"likes\",\"likes\",\"likes\",\"likes\",\"likes\",\"likes\",\"likes\",\"likes\",\"likes\",\"likes\",\"likes\",\"likes\",\"likes\",\"likes\",\"likes\",\"likes\",\"likes\",\"likes\",\"likes\",\"likes\",\"likes\",\"likes\",\"likes\",\"likes\",\"likes\",\"likes\",\"likes\",\"likes\",\"likes\",\"likes\",\"likes\",\"likes\",\"likes\",\"likes\",\"likes\",\"likes\",\"likes\",\"likes\",\"likes\",\"likes\",\"likes\",\"likes\",\"likes\",\"likes\",\"likes\",\"likes\",\"likes\",\"likes\",\"likes\",\"likes\",\"likes\",\"likes\",\"likes\",\"likes\",\"likes\",\"likes\",\"likes\",\"likes\",\"likes\",\"likes\",\"likes\",\"likes\",\"likes\",\"likes\",\"likes\",\"likes\",\"likes\",\"likes\",\"likes\",\"likes\",\"likes\",\"likes\",\"likes\",\"likes\",\"likes\",\"likes\",\"likes\",\"likes\",\"likes\",\"likes\",\"likes\",\"likes\",\"likes\",\"likes\",\"likes\",\"likes\",\"likes\",\"likes\",\"likes\",\"likes\",\"likes\",\"likes\",\"likes\",\"likes\",\"likes\",\"likes\",\"likes\",\"likes\",\"likes\",\"likes\",\"likes\",\"likes\",\"likes\",\"likes\",\"likes\",\"likes\",\"likes\",\"likes\",\"likes\",\"likes\",\"likes\",\"likes\",\"likes\",\"likes\",\"likes\",\"likes\",\"likes\",\"likes\",\"likes\",\"likes\",\"likes\",\"likes\",\"likes\",\"likes\",\"likes\",\"likes\",\"likes\",\"likes\",\"likes\",\"likes\",\"likes\",\"likes\",\"likes\",\"likes\",\"likes\",\"likes\",\"likes\",\"likes\",\"likes\",\"likes\",\"likes\",\"likes\",\"likes\",\"likes\",\"likes\",\"likes\",\"likes\",\"likes\",\"likes\",\"likes\",\"likes\",\"likes\",\"likes\",\"likes\",\"likes\",\"likes\",\"likes\",\"likes\",\"likes\",\"likes\",\"likes\",\"likes\",\"likes\",\"likes\",\"likes\",\"likes\",\"likes\",\"likes\",\"likes\",\"likes\",\"likes\",\"likes\",\"likes\",\"likes\",\"likes\",\"likes\",\"likes\",\"likes\",\"likes\",\"likes\",\"likes\",\"likes\",\"likes\",\"likes\",\"likes\",\"likes\",\"likes\",\"likes\",\"likes\",\"likes\",\"likes\",\"likes\",\"likes\",\"likes\",\"likes\",\"likes\",\"likes\",\"likes\",\"likes\",\"likes\",\"likes\",\"likes\",\"likes\",\"likes\",\"likes\",\"likes\",\"likes\",\"likes\",\"likes\",\"likes\",\"likes\",\"likes\",\"likes\",\"likes\",\"likes\",\"likes\",\"likes\",\"likes\",\"likes\",\"likes\",\"likes\",\"likes\",\"likes\",\"likes\",\"likes\",\"likes\",\"likes\",\"likes\",\"likes\",\"likes\",\"likes\",\"likes\",\"likes\",\"likes\",\"likes\",\"likes\",\"likes\",\"likes\",\"likes\",\"likes\",\"likes\",\"likes\",\"likes\",\"likes\",\"likes\",\"likes\",\"likes\",\"likes\",\"likes\",\"likes\",\"likes\",\"likes\",\"likes\",\"likes\",\"likes\",\"likes\",\"likes\",\"likes\",\"likes\",\"likes\",\"likes\",\"likes\",\"likes\",\"likes\",\"likes\",\"likes\",\"likes\",\"likes\",\"likes\",\"likes\",\"likes\",\"likes\",\"likes\",\"likes\",\"likes\",\"likes\",\"likes\",\"likes\",\"likes\",\"likes\",\"likes\",\"likes\",\"likes\",\"likes\",\"likes\",\"likes\",\"likes\",\"likes\",\"likes\",\"likes\",\"likes\",\"likes\",\"likes\",\"likes\",\"likes\",\"likes\",\"likes\",\"likes\",\"likes\",\"likes\",\"likes\",\"likes\",\"likes\",\"likes\",\"likes\",\"likes\",\"likes\",\"likes\",\"likes\",\"likes\",\"likes\",\"likes\",\"likes\",\"likes\",\"likes\",\"likes\",\"likes\",\"likes\",\"likes\",\"likes\",\"likes\",\"likes\",\"likes\",\"likes\",\"likes\",\"likes\",\"likes\",\"likes\",\"likes\",\"likes\",\"likes\",\"likes\",\"likes\",\"likes\",\"likes\",\"likes\",\"likes\",\"likes\",\"likes\",\"likes\",\"likes\",\"likes\",\"likes\",\"likes\",\"likes\",\"likes\",\"likes\",\"likes\",\"likes\",\"likes\",\"likes\",\"likes\",\"likes\",\"likes\",\"likes\",\"likes\",\"likes\",\"likes\",\"likes\",\"likes\",\"likes\",\"likes\",\"likes\",\"likes\",\"likes\",\"likes\",\"likes\",\"likes\",\"likes\",\"likes\",\"likes\",\"likes\",\"likes\",\"likes\",\"likes\",\"likes\",\"likes\",\"likes\",\"likes\",\"likes\",\"likes\",\"likes\",\"likes\",\"likes\",\"likes\",\"likes\",\"likes\",\"likes\",\"likes\",\"likes\",\"likes\",\"likes\",\"likes\",\"likes\",\"likes\",\"likes\",\"likes\",\"likes\",\"likes\",\"likes\",\"likes\",\"likes\",\"likes\",\"likes\",\"likes\",\"likes\",\"likes\",\"likes\",\"likes\",\"likes\",\"likes\",\"likes\",\"likes\",\"likes\",\"likes\",\"likes\",\"likes\",\"likes\",\"likes\",\"likes\",\"likes\",\"likes\",\"likes\",\"likes\",\"likes\",\"likes\",\"likes\",\"likes\",\"likes\",\"likes\",\"likes\",\"likes\",\"likes\",\"likes\",\"likes\",\"likes\",\"likes\",\"likes\",\"likes\",\"likes\",\"likes\",\"likes\",\"likes\",\"likes\",\"likes\",\"likes\",\"likes\",\"likes\",\"likes\",\"likes\",\"likes\",\"likes\",\"likes\",\"likes\",\"likes\",\"likes\",\"likes\",\"likes\",\"likes\",\"likes\",\"likes\",\"likes\",\"likes\",\"likes\",\"likes\",\"likes\",\"likes\",\"likes\",\"likes\",\"likes\",\"likes\",\"likes\",\"likes\",\"likes\",\"likes\",\"likes\",\"likes\",\"likes\",\"likes\",\"likes\",\"likes\",\"likes\",\"likes\",\"likes\",\"likes\",\"likes\",\"likes\",\"likes\",\"likes\",\"likes\",\"likes\",\"likes\",\"likes\",\"likes\",\"likes\",\"likes\",\"likes\",\"likes\",\"likes\",\"likes\",\"likes\",\"likes\",\"likes\",\"likes\",\"likes\",\"likes\",\"likes\",\"likes\",\"likes\",\"likes\",\"likes\",\"likes\",\"likes\",\"likes\",\"likes\",\"likes\",\"likes\",\"likes\",\"likes\",\"likes\",\"likes\",\"likes\",\"likes\",\"likes\",\"likes\",\"likes\",\"likes\",\"likes\",\"likes\",\"likes\",\"likes\",\"likes\",\"likes\",\"likes\",\"likes\",\"likes\",\"likes\",\"likes\",\"likes\",\"likes\",\"likes\",\"likes\",\"likes\",\"likes\",\"likes\",\"likes\",\"likes\",\"likes\",\"likes\",\"likes\",\"likes\",\"likes\",\"likes\",\"likes\",\"likes\",\"likes\",\"likes\",\"likes\",\"likes\",\"likes\",\"likes\",\"likes\",\"likes\",\"likes\",\"likes\",\"likes\",\"likes\",\"likes\",\"likes\",\"likes\",\"likes\",\"likes\",\"likes\",\"likes\",\"likes\",\"likes\",\"likes\",\"likes\",\"likes\",\"likes\",\"likes\",\"likes\",\"likes\",\"likes\",\"likes\",\"likes\",\"likes\",\"likes\",\"likes\",\"likes\",\"likes\",\"likes\",\"likes\",\"likes\",\"likes\",\"likes\",\"likes\",\"likes\",\"likes\",\"likes\",\"likes\",\"likes\",\"likes\",\"likes\",\"likes\",\"likes\",\"likes\",\"likes\",\"likes\",\"likes\",\"likes\",\"likes\",\"likes\",\"likes\",\"likes\",\"likes\",\"likes\",\"likes\",\"likes\",\"likes\",\"likes\",\"likes\",\"likes\",\"likes\",\"likes\",\"likes\",\"likes\",\"likes\",\"likes\",\"likes\",\"likes\",\"likes\",\"likes\",\"likes\",\"likes\",\"likes\",\"likes\",\"likes\",\"likes\",\"likes\",\"likes\",\"likes\",\"likes\",\"likes\",\"likes\",\"likes\",\"likes\",\"likes\",\"likes\",\"likes\",\"likes\",\"likes\",\"likes\",\"likes\",\"likes\",\"likes\",\"likes\",\"likes\",\"likes\",\"likes\",\"likes\",\"likes\",\"likes\",\"likes\",\"likes\",\"likes\",\"likes\",\"likes\",\"likes\",\"likes\",\"likes\",\"likes\",\"likes\",\"likes\",\"likes\",\"likes\",\"likes\",\"likes\",\"likes\",\"likes\",\"likes\",\"likes\",\"likes\",\"likes\",\"likes\",\"likes\",\"likes\",\"likes\",\"likes\",\"likes\",\"likes\",\"likes\",\"likes\",\"likes\",\"likes\",\"likes\",\"likes\",\"likes\",\"likes\",\"likes\",\"likes\",\"likes\",\"likes\",\"likes\",\"likes\",\"likes\",\"likes\",\"likes\",\"likes\",\"likes\",\"likes\",\"likes\",\"likes\",\"likes\",\"likes\",\"likes\",\"likes\",\"likes\",\"likes\",\"likes\",\"likes\",\"likes\",\"likes\",\"likes\",\"likes\",\"likes\",\"likes\",\"likes\",\"likes\",\"likes\",\"likes\",\"likes\",\"likes\",\"likes\",\"likes\",\"likes\",\"likes\",\"likes\",\"likes\",\"likes\",\"likes\",\"likes\",\"likes\",\"likes\",\"likes\",\"likes\",\"likes\",\"likes\",\"likes\",\"likes\",\"likes\",\"likes\",\"likes\",\"likes\",\"likes\",\"likes\",\"likes\",\"likes\",\"likes\",\"likes\",\"likes\",\"likes\",\"likes\",\"likes\",\"likes\",\"likes\",\"likes\",\"likes\",\"likes\",\"likes\",\"likes\",\"likes\",\"likes\",\"likes\",\"likes\",\"likes\",\"likes\",\"likes\",\"likes\",\"likes\",\"likes\",\"likes\",\"likes\",\"likes\",\"likes\",\"likes\",\"likes\",\"likes\",\"likes\",\"likes\",\"likes\",\"likes\",\"likes\",\"likes\",\"likes\",\"likes\",\"likes\",\"likes\",\"likes\",\"likes\",\"likes\",\"likes\",\"likes\",\"likes\",\"likes\",\"likes\",\"likes\",\"likes\",\"likes\",\"likes\",\"likes\",\"likes\",\"likes\",\"likes\",\"likes\",\"likes\",\"likes\",\"likes\",\"likes\",\"likes\",\"likes\",\"likes\",\"likes\",\"likes\",\"likes\",\"likes\",\"likes\",\"likes\",\"likes\",\"likes\"],\"x0\":\" \",\"xaxis\":\"x\",\"y\":[12000,6400,12000,12000,72,12000,12000,13000,1900,17000,2600,6400,18000,15000,690,18000,13000,15000,2900,135,49,20000,13000,18000,2900,18000,10000,19000,4000,18000,24000,12000,21000,20000,913,22000,20000,23000,23000,24000,18000,21000,22000,29000,23000,32000,606,70000,32000,312,26000,47000,580,24000,2700,26000,25000,28000,22000,29000,25000,342,33000,25000,33000,332,21000,8800,40000,33000,29000,30000,29000,25000,15000,32000,32000,9300,37000,30000,115,33000,31000,32000,31000,29000,6000,76,147,34000,19000,32000,120,32000,33000,9400,21000,36000,38000,32000,44000,44000,14000,41000,12000,9400,8300,36000,10000,7800,9900,16000,32000,7100,36000,36000,13000,214,40000,13000,37000,36000,14000,186,91,10000,37000,6800,57000,39000,39000,25000,36000,6100,32000,32000,30000,6600,47000,13000,12000,38000,8200,39000,36000,42000,14000,39000,42000,11000,47000,14000,10000,42000,7700,183000,8000,33000,41000,46000,42000,45000,38000,41000,161,11000,39000,4600,854,33000,34000,43000,36000,12000,43000,8500,42000,17000,51000,9300,3900,86000,34000,32000,46000,1800,9300,39000,51000,41000,45000,50000,14000,181,46000,55000,21000,43000,52000,47000,52000,52000,44000,8900,52000,46000,47000,25000,79000,55000,22000,62000,47000,34000,49000,50000,56000,63000,60000,48000,53000,17000,47000,55000,19000,53000,54000,14000,80000,14000,64000,12000,48000,15000,47000,48000,13000,9400,19000,41000,8200,50000,46000,67000,56000,48000,55000,23000,55000,55000,14000,63000,50000,49000,12000,46000,21000,49000,110000,27000,43000,177000,61000,48000,48000,55000,23000,55000,30000,48000,52000,33000,82000,47000,38000,58000,53000,52000,21000,1400,49000,45000,54000,8600,36000,47000,55000,101000,30000,45000,100000,48000,51000,59000,48000,10000,21000,45000,47000,86000,46000,46000,18000,48000,44000,36000,13000,22000,43000,11000,44000,44000,22000,40000,43000,138000,9200,58000,38000,79000,37000,43000,7100,46000,41000,40000,39000,12000,36000,57000,44000,66000,40000,34000,38000,36000,47000,85000,35000,30000,72000,56000,36000,6200,5000,8700,40000,52000,21000,37000,40000,10000,38000,42000,39000,118000,48000,10000,21000,34000,11000,37000,74,30000,13000,37000,64000,23000,37000,16000,38000,35000,66000,105000,37000,38000,65000,34000,99000,39000,28000,22000,39000,44000,55000,38000,24000,40000,34000,8000,41000,16000,41000,15000,35000,5500,33000,28000,38000,39000,24000,40000,13000,53000,36000,78000,49000,72000,11000,38000,7400,40000,38000,52000,12000,41000,39000,11000,34000,43000,742,37000,7600,37000,42000,15000,18000,46000,61000,43000,36000,38000,40000,37000,7500,33000,45000,19000,50000,731,349,47000,59000,9100,37000,8900,42000,50000,11000,48000,98000,6500,42000,39000,11000,46000,315000,14000,45000,50000,50000,48000,9400,7000,9900,39000,49000,43000,53000,178,33000,16000,7200,48000,9000,40000,22000,42000,47,40000,24000,48000,48000,4300,43000,16000,40000,2900,89,42000,54000,117000,45000,13000,39000,39000,48000,43000,44000,3000,23000,69000,41000,60000,14000,41000,34000,45000,28000,20000,36000,57000,41000,9500,41000,8400,47000,40000,42000,8200,43000,49000,24000,44000,47000,55000,40000,18000,68000,48000,11000,406,16000,47000,45000,59000,43000,48000,48000,44000,6500,65,10000,53000,13000,18000,43000,8400,48000,48000,46000,48000,39,26000,45000,17000,9000,40000,49000,26000,48000,187,483,20000,50000,56000,68000,44000,8000,935,48000,10000,52000,9100,67000,46000,11000,50000,252,42000,44000,20000,41000,9300,6600,82000,49000,25000,207000,6100,17000,10000,45000,48000,38000,50000,20000,5400,5500,112000,41000,46000,13000,45000,15000,43000,54000,46000,344,163,182,264,722,37,28000,58000,48000,65000,48000,52000,54000,51000,23000,3300,488,4800,3200,37000,3900,2200,1600,5500,6300,41000,8000,5300,3100,7200,6400,7500,4700,75,5600,91000,46000,50000,8700,30000,7700,50000,190000,8800,66000,11000,47000,7300,49000,123,10000,8500,57000,55000,66000,56000,67000,17000,51000,98,219000,11000,16000,49000,11000,45000,63000,59000,88,67000,53000,52000,49000,57000,57000,17000,53000,1300,59000,53000,50000,70000,23000,5200,89,56000,113000,9000,53000,26000,14000,63000,19000,56000,13000,1400,56000,14000,55000,13000,18000,4300,28000,1200,172000,51000,147,196,11000,1500,30000,11000,59000,19000,50000,93000,42000,12000,52000,11000,30000,34000,51000,49000,76000,22000,4000,46000,1800,25000,5700,57000,17000,112000,7600,6400,49000,727,673,6600,30000,51000,30000,7000,79000,53000,6800,1600,55000,77000,52000,62000,46000,22000,53000,23000,49000,6000,38000,57000,117,61000,7400,5700,17000,61000,56000,6000,6700,134000,6800,463,449,70000,69000,8300,128000,26000,36000,54000,7800,138000,7900,63000,74000,7600,56000,58000,262,18000,81000,70000,20000,62000,55000,7900,9600,61000,34000,12000,3100,16000,17000,103000,15000,95000,68000,12000,12000,9400,5900,83000,316,34000,151000,716,261,65000,60000,25000,66000,86000,57000,8900,29000,5300,5400,37000,3800,10000,7200,73000,12000,21000,75000,41000,265,9900,8700,10000,56000,211000,1300,67000,281,263,12000,61000,17000,66000,15000,56000,64000,21000,66000,63000,70000,9000,59000,8900,57000,70000,3800,19000,105000,23000,64000,42000,75000,33000,57000,305,92000,25000,56000,66000,62000,63000,79000,148000,56000,58000,146000,8500,11000,10000,60000,55000,30000,68000,50000,8300,15000,86000,66000,60000,62000,10000,16000,65000,1600,12000,3000,17000,74000,14000,102000,14000,13000,13000,30000,7500,223,70000,224000,7700,87000,10000,61000,45000,65000,45000,65000,63000,87000,933,58000,66000,74000,10000,33000,47000,10000,59000,10000,85000,139,951,473,19000,37000,73000,212000,91000,259000,60000,102000,10000,84000,19000,47000,71000,35000,55000,63000,13000,10000,59000,108000,30000,27000,54000,68000,13000,2100,193000,66000,45000,41000,80000,108000,44000,14000,58000,49000,10000,73000,60000,11000,70000,42000,91000,60000,65000,105000,13000,59000,64000,90000,69000,24000,64000,36000,64000,36000,9900,843,20000,98000,19000,14000,47000,48000,41000,9600,11000,20000,59000,10000,10000,10000,13000,67000,955,14000,92000,50000,72000,36000,69000,31000,848,6800,20000,22000,8400,20000,43000,24000,19000,32000,1400,303,56000,73000,14000,70000,12000,16000,10000,12000,69000,1800,12000,12000,9700,70000,15000,55000,80000,23000,76000,2300,644,57000,97,40,88,143,249,384,908,362,359,530,107000,62000,48000,64000,75000,28000,9700,2200,91000,39000,122000,68000,3700,1600,59000,59000,80000,12000,70000,18000,66000,107000,71000,92000,13000,66000,6800,27000,70000,73000,45000,141000,62000,74000,122000,105000,60000,76000,296,329,65000,72000,116000,66000,6800,75000,460,101000,51000,79000,74000,65000,11000,73000,62000,57000,713,69000,15000,1000,73000,110000,70000,61000,139000,69000,60000,57000,221000,10000,69000,101000,14000,55000,8400,6100,86000,208000,67000,267,65000,59000,122000,100000,7800,15000,46000,428,120000,74000,605,1500,63000,64000,81000,15000,5900,298,67000,13000,76000,8500,54000,53000,14000,63000,12000,61000,287,150,239,62000,70000,41000,7000,1800,15000,36000,46000,77000,158000,114000,66000,63000,259,909,58000,61000,58000,70000,14000,1500,782,865,1100,61000,273,576,708,12000,1600,61000,78000,54000,60000,61000,95000,86000,59000,1800,34000,11000,12000,1100,10000,10000,61000,55000,839,42000,1300,62000,55000,54000,18000,66000,179,141,1600,8800,41000,73000,53000,60000,37000,87000,49000,56000,15000,90000,52000,2400,63000,48000,5500,112000,43000,32000,58000,58000,42000,9800,66000,7600,18000,134000,56000,58000,17000,100000,51000,94000,53000,97000,18000,72000,74000,416000,57000,42000,15000,68000,74000,10000,148000,50000,209000,3800,83000,101000,129000,11000,58000,7200,67000,7200,77000,1000,68000,14000,98000,42000,58000,1600,60000,139000,78000,110000,127000,57000,50000,74000,25000,67000,17000,68000,77000,1100,34000,61000,42000,199000,8000,10000,131,2300,23000,39000,12000,48000,34000,24000,43000,102000,112000,28000,100000,2500,973,1600,130,6300,58000,74000,114000,115000,62000,103000,13000,110000,3700,58000,913,66000,11000,80000,59000,69000,58000,34000,58000,10000,71000,73000,60000,23000,21000,121000,6700,104000,1600,112000,55000,54000,25000,1100,63000,19000,3500,13000,1500,58000,2800,58000,120000,92000,38000,367,66000,24000,76000,219,22000,97000,15000,11000,139000,63000,70000,15000,64000,63000,1600,94000,1300,13000,2300,268,252,37000,53000,184,430,246,100000,347,75000,25000,62000,5400,80000,57000,23000,88000,13000,143000,19000,219000,14000,19000,766,842,1200,36000,9200,27000,67000,7600,17000,56000,160000,533,400,288,302,1300,435,288,210,85,272,377,242,13000,70000,9900,1000,66000,60000,326,91000,23000,1200,1700,276,43000,18000,129000,72000,13000,19000,49000,195000,281000,51000,22000,82000,86000,21000,13000,20000,450000,490,52000,135000,66000,73000,154000,58000,462,22000,33000,18000,9900,1000,20000,64000,22000,75000,56000,95000,182000,123000,79000,103000,58000,24000,138000,27000,39000,78000,70000,55000,61000,108000,70000,1200,60000,129000,16000,35000,61000,677,59000,58000,52000,71000,54000,202,182000,23000,91000,1400,1300,60000,13000,54000,578,11000,156000,70000,13000,53000,60000,9000,42000,59000,1500,58000,79000,438,801,478,533,71000,66000,15000,27000,42000,74000,57000,8100,10000,174000,57000,68000,5300,38000,90000,57000,115000,93000,6700,684,14000,4100,13000,142000,57000,17000,44000,9600,651,60000,57000,194000,1100,66000,12000,48000,7200,772,2400,3700,73000,27000,54000,435,52000,103000,52000,10000,151,49000,117000,12000,65000,53000,36000,68000,9900,62000,60000,65000,9100,3600,382,11000,3800,5800,63000,15000,99000,172,56000,29000,947,58000,66000,36000,706,48000,16000,67000,70000,60000,27000,76000,31000,2200,42000,57000,109000,9000,31000,8700,7800,19000,53000,55000,55000,82000,633,43000,254,61000,181000,80000,73000,72000,160000,5300,28000,18000,11000,19000,46000,78000,57000,828,1000,24000,55000,5700,66000,58000,55000,59000,200000,57000,263,119,830,272,480,236,75,273,148,40,385,117000,21000,19000,93000,2000,139000,89000,78000,1600,57000,49000,49000,69000,366000,50000,109000,3300,403000,198000,79000,34000,13000,71000,57000,98000,78000,62000,3500,13000,49000,18000,7800,138,51000,111,143000,17000,97000,118000,358000,7700,53000,139000,52000,3800,41000,82000,10000,45000,208,75000,218,56000,40000,24000,1200,866,233,366,73000,81000,197000,30000,68000,74000,58000,37000,389,44000,67000,68000,58000,23000,52000,56000,12000,22000,53000,66000,177000,1600,108,1000,259,2300,583,49000,31000,52000,52000,2200,10000,322,1800,184000,49000,100000,56000,315,53000,93000,1300,54000,50000,51000,18000,60000,117,69000,56000,52000,46000,142000,1100,757,1600,60000,134000,161000,1300,47000,66000,94,57000,1400,32000,90000,8400,96000,45000,55000,56000,194000,50000,1100,44000,52000,53000,55000,55000,54000,43000,49000,90000,25000,5500,45000,123000,50000,80000,54000,53000,68000,57000,337000,403,56000,6100,18000,22000,77000,96000,22000,52000,2400,1900,1400,248,174000,30000,47000,19000,107000,13000,16000,7200,52000,182000,42000,60000,28000,23000,53000,7800,46000,35000,73000,53000,44000,48000,1200,71000,142000,77000,6100,122000,50000,435000,53000,5700,68000,9400,69000,122,366,171,181,909,212,1600,335,4700,44000,153000,149000,113000,59000,39000,26000,15000,19000,262000,105000,51000,543000,35000,44000,6600,22000,70000,46000,62000,45000,57000,47000,8800,76000,39000,20000,626,11000,252,762,47000,67000,12000,63000,94000,48000,57000,77000,124000,14000,42000,42000,25000,113000,69000,926,64000,40000,20000,50000,49000,7700,44000,55000,86000,40000,43000,95000,69000,42000,121000,76000,104000,48000,56000,51000,92000,2000,99000,44000,64000,74000,455,49000,41000,63000,9300,1100,17000,163000,185000,1400,172000,3900,6000,952,3500,1000,739,601,45000,43000,30000,527,64000,52000,2000,56000,1800,1300,53000,42000,21000,59000,29000,48000,46000,45000,42000,37000,58000,70000,11000,56000,108000,43000,46000,187000,4600,382000,16000,45000,49000,34000,80000,112000,422,271000,2600,7700,37000,56000,43000,71000,44000,207000,41000,3500,47000,65000,44000,23000,1100,51000,110000,82000,19000,129000,38000,255,133000,45000,44000,51000,49000,68000,90000,20000,19000,12000,13000,31000,39000,214000,43000,1800,40000,598,39000,85000,2700,52000,39000,38000,65000,43000,40000,185,66000,47000,38000,44000,45000,383,4500,130000,154,1200,85000,76000,36000,553,1000,37000,87000,135000,14000,36000,39000,40000,36000,26000,131000,88000,8300,42000,126000,35000,2100,29000,47000,239,163000,121000,36000,36000,34000,40000,132000,106000,5500,40000,29000,48000,30000,33000,105000,74000,123000,38000,44000,42000,33000,421,202,374,378,79000,104000,31000,507000,32000,37000,37000,38000,43000,579,452,826,1400,614,41000,37000,10000,39000,134000,36000,38000,28000,1100000,131000,1300000,273000,855000,569000,30000,35000,37000,46000,155000,10000,30000,48000,28000,37000,29000,30000,35000,42000,16000,40000,126000,80000,13000,17000,17000,24000,17000,21000,41000,39000,48000,4900,42000,34000,8300,53000,1400,39000,34000,79000,38000,48000,31000,41000,57000,29000,43000,30000,264,426000,29000,126000,38000,77000,48000,28000,43000,32000,139000,36000,68000,37000,68,1100,413,261,398,1300,320,1200,3400,383,27000,92000,51000,95000,114,2600,824,388,323,220,818,79,199,233,292,280,317,206,2800,497,1000,102,363,1100,607,738,409,4100,353,228,2100,223,33000,72,2000,756,565,398,449,316,2600,163,596,673,375,190,246,174,964,1900,97000,6900,28000,35000,1600,33000,30000,77000,405000,36000,31000,42000,29000,672,107000,137,467,807,95,594,93,130,222,31000,288000,37000,49000,36000,63000,15000,41000,248,46000,40000,34000,107000,63000,71000,35000,42000,39000,39000,40000,122000,30000,784,29000,32000,31000,1600,596,28000,659,401,488,241,2500,493,230,1100,35000,110000,35000,827,38000,193000,32000,155000,84000,31000,44000,30000,35000,113000,136000,873,4500,33000,131000,19000,1600,112000,57000,40000,35000,38000,41000,386,38000,17000,3800,229,39000,38000,46000,45000,16000,131000,244,976,735,1200,1000,241000,241000,29000,49000,40000,45000,5200,1400,38000,66000,1200,49000,48000,1000,38000,94000,37000,97000,30000,2300,1600,115000,38000,30000,33000,54000,43000,242,37000,39000,54000,283000,532,129000,42000,19000,33000,51000,51000,146000,33000,37000,49000,40000,98000,30000,101000,59000,32000,35000,44000,38000,15000,47000,30000,49000,45000,147000,72000,181000,54000,60000,34000,128000,38000,50000,53000,78000,38000,51000,16000,81000,135000,35000,42000,35000,39000,77000,45000,138000,39000,36000,36000,35000,39000,36000,53000,55000,4700,486,281,624,461,205,594,865,37000,55000,357000,36000,75000,43000,21000,120000,38000,35000,43000,30000,39000,50000,36000,27000,39000,30000,48000,44000,35000,37000,46000,38000,92000,41000,92000,41000,27000,186000,39000,45000,9800,64000,52000,89000,64000,80000,38000,29000,54000,144000,41000,53000,53000,94000,45000,73000,45000,64000,56000,382000,39000,127000,44000,21000,64000,44000,74000,54000,44000,46000,45000,55000,53000,59000,41000,42000,70000,325000,140000,195000,102000,96000,22000,46000,57000,430000,58000,47000,42000,37000,56000,262000,48000,73000,33000,242000,38000,27000,114000,42000,67000,104000,48000,74000,164000,46000,110000,338000,38000,55000,69000,44000,37000,79000,80000,45000,274000,849000,180000,78000,113000,32000,162000,44000,86000,154000,195000,89000,53000,41000,43000,181000,146000,30000,35000,42000,181000,77000,40000,52000,16000,170000,32000,105000,316000,33000,25000,48000,52000,44000,44000,63000,35000,146000,29000,210000,51000,134000,32000,67000,22000,18000,240000,129000,44000,40000,210000,58000,45000,38000,62000,316000,64000,37000,31000,54000,44000,29000,362000,36000,34000,42000,31000,341000,107000,88000,35000,39000,49000,90000,198000,30000,32000,180000,72000,32000,185000,216000,64000,395000,123000,61000,31000,37000,43000,212000,51000,52000,121000,50000,86000,30000,59000,67000,101000,44000,139000,41000,37000,52000,86000,78000,54000,30000,276000,241000,72000,49000,28000,43000,39000,38000,71000,55000,20000,373000,43000,52000,55000,30000,23000,36000,61000,272000,34000,50000,52000,27000,180000,50000,42000,9300,36000,104000,214000,96000,29000,48000,112000,49000,60000,44000,133000,150000,34000,38000,38000,66000,62000,32000,23000,50000,34000,56000,188000,49000,61000,30000,46000,511,790,391,662,202,1400,1200,620,1000,43000,31000,123000,128000,126000,27000,72000,54000,45000,60000,138000,22000,92000,32000,58000,39000,153000,29000,249000,104000,34000,31000,67000,288000,68000,171000,20000,55000,47000,87000,35000,36000,42000,80000,65000,40000,30000,71000,52000,52000,192000,75000,47000,48000,87000,59000,132000,30000,96000,39000,68000,27000,48000,198000,21000,43000,63000,17000,31000,36000,58000,43000,59000,30000,57000,70000,85000,81000,155000,165000,47000,33000,29000,44000,92000,108000,613,255,576,2700,119,651,450,44000,126000,45000,261000,51000,56000,111000,33000,63000,29000,38000,224000,51000,62000,29000,50000,465000,49000,376000,381000,30000,29000,61000,33000,28000,40000,31000,42000,44000,69000,41000,91000,47000,35000,64000,62000,35000,34000,158000,32000,362000,37000,48000,103000,123000,45000,66000,86000,39000,43000,22000,400000,63000,28000,37000,81000,94000,63000,44000,31000,62000,32000,47000,60000,38000,34000,356000,40000,53000,121000,55000,64000,100000,57000,209000,123000,43000,36000,85000,49000,66000,209000,59000,200000,33000,234000,98000,38000,32000,588000,19000,66000,54000,533000,40000,319000,83000,116000,33000,99000,75000,108000,54000,40000,46000,263000,1800000,56000,83000,67000,153000,32000,55000,176000,58000,30000,54000,44000,35000,52000,38000,58000,333000,245000,68000,302000,83000,157000,88000,789000,102000,43000,165000,39000,25000,47000,49000,36000,136000,49000,526000,67000,287000,64000,53000,62000,34000,34000,75000,99000,54000,56000,27000,49000,59000,34000,82000,53000,37000,147000,122000,36000,54000,50000,81000,1200000,17000,53000,43000,36000,127000,46000,604000,71000,49000,143000,211000,58000,50000,58000,63000,34000,148000,43000,47000,28000,349000,103000,138000,54000,260000,75000,34000,89000,40000,69000,26000,387000,46000,48000,169000,81000,46000,85000,44000,501000,730,176,775,643,313,1800,4200,401,199,6800,98,52000,30000,159,1300,2300,644,543,1500,2000,599,295,1000,2400,1100,568000,66000,30000,61000,55000,11000,25000,47000,168000,52000,112000,395000,147000,36000,40000,52000,59000,70000,33000,210000,360000,82000,49000,723000,39000,247000,83000,80000,39000,99000,76000,32000,74000,46000,134000,38000,48000,218000,169000,127000,76000,74000,59000,39000,32000,442000,108000,1000,1600,385,1400,1000,3300,326,6400,1500,417,172,3900,51000,109000,171000,590000,44000,44000,67000,35000,93000,34000,75000,70000,71000,55000,60000,61000,38000,26000,89000,84000,67000,295000,245000,49000,149000,150000,130000,47000,139000,35000,72000,57000,105000,63000,50000,567000,42000,85000,36000,53000,52000,64000,80000,58000,415000,62000,59000,78000,40000,55000,406000,116000,100000,51000,49000,118000,53000,170000,70000,40000,104000,60000,289000,50000,46000,76000,35000,66000,575000,34000,257000,46000,205000,46000,43000,203000,175000,174000,83000,40000,76000,41000,43000,143000,45000,26000,60000,64000,131000,387000,24000,153000,32000,134000,119000,50000,146000,48000,58000,39000,62000,168000,43000,31000,41000,61000,60000,170000,1300000,45000,120000,76000,47000,40000,67000,39000,77000,55000,87000,617000,14000,125000,99000,47000,83000,36000,117000,80000,59000,47000,120000,37000,36000,234000,56000,51000,43000,32000,25000,67000,32000,23000,37000,65000,41000,35000,29000,282000,371000,166000,56000,132000,110000,35000,39000,109000,96000,274000,36000,64000,41000,44000,25000,40000,24000,43000,99000,31000,51000,70000,24000,30000,32000,59000,29000,39000,25000,47000,74000,82000,166000,45000,12000,63000,285000,2900,232,2800,250,1200,3600,63000,10000,1600,345,849,167,219,1000,361,561,305,1200,279,32000,40000,402000,79000,132000,41000,133000,60000,72000,22000,25000,28000,53000,60000,35000,642000,35000,102000,122000,50000,88000,56000,32000,702,187,434,746,283,2000,1300,2400,2500,5500,606,6100,222,209,59000,79000,33000,242000,66000,68000,39000,158000,33000,58000,66000,78000,91000,27000,46000,266000,34000,47000,38000,65000,35000,47000,39000,40000,43000,65000,42000,35000,42000,40000,200000,40000,126000,164000,79000,44000,40000,51000,31000,43000,40000,25000,128000,24000,55000,65000,45000,56000,26000,36000,80000,888,591,222,2000,1200,426,107,360,222,289,608,61000,132000,38000,63000,47000,184000,29000,195000,28000,41000,115000,42000,273000,49000,47000,32000,124000,22000,39000,31000,59000,52000,46000,23000,36000,182000,74000,68000,28000,35000,80000,56000,62000,28000,37000,54000,192000,369000,46000,157000,16000,39000,25000,41000,98000,52000,188000,45000,49000,56000,63000,70000,104000,40000,220000,86000,31000,34000,1400000,37000,45000,48000,97000,51000,55000,19000,154000,269000,61000,57000,39000,35000,34000,82000,117000,24000,39000,43000,208000,75000,112000,80000,31000,48000,35000,125000,60000,40000,222000,104000,39000,490000,63000,44000,201000,20000,45000,48000,146000,190000,119000,32000,102000,138000,51000,25000,40000,37000,20000,279000,15000,128000,169000,228000,33000,83000,40000,88000,37000,43000,42000,77000,152000,87000,34000,26000,284000,89000,78000,45000,34000,75000,151000,57000,24000,38000,108000,489000,46000,31000,57000,33000,83000,81000,38000,19000,29000,341000,171000,26000,29000,34000,79000,46000,67000,125000,43000,69000,25000,27000,53000,31000,37000,42000,196000,24000,15000,27000,46000,86000,69000,180000,59000,39000,136000,29000,35000,43000,29000,34000,64000,22000,27000,39000,52000,118000,31000,32000,34000,55000,47000,83000,118000,293,832,592,142,988,253,1800,227,37000,73000,92000,671000,36000,88000,33000,41000,53000,41000,194000,37000,154000,401000,29000,47000,349000,87000,53000,185000,114000,46000,34000,376000,46000,27000,49000,38000,78000,21000,32000,54000,28000,40000,63000,51000,373000,29000,257000,101000,35000,77000,32000,38000,94000,24000,20000,37000,27000,33000,33000,79000,247000,68000,52000,221,443,183,152,432,171,557,244,30000,17000,53000,75000,76000,3000,35000,40000,20000,31000,32000,67000,73000,39000,38000,90000,44000,49000,38000,23000,39000,31000,25000,24000,45000,31000,70000,78000,49000,58000,249000,88000,55000,26000,236000,142000,85000,138000,53000,78000,131000,168000,26000,22000,42000,34000,93000,53000,933000,60000,39000,22000,40000,24000,47000,36000,85000,13000,69000,855000,22000,68000,125000,3100,122000,159000,86000,35000,41000,256000,55000,57000,48000,163000,24000,54000,53000,81000,26000,32000,34000,34000,55000,28000,40000,38000,22000,25000,45000,1000000,159000,106000,40000,170000,36000,67000,67000,150000,39000,23000,69000,43000,79000,78000,6300,268000,56000,23000,71000,98000,43000,42000,65000,157000,64000,57000,43000,18000,39000,41000,18000,138000,83000,52000,64000,42000,94000,20000,47000,51000,58000,24000,421000,46000,151000,30000,48000,45000,37000,164000,182000,15000,34000,4800,78000,10000,30000,141000,49000,83000,49000,84000,57000,64000,6300,64000,44000,64000,41000,274000,37000,374000,351000,773000,72000,46000,36000,98000,135000,176000,13000,87000,47000,16000,408000,25000,56000,62000,27000,77000,108000,156000,28000,24000,41000,37000,96000,462000,45000,47000,46000,104000,54000,79000,39000,35000,11000,213000,33000,35000,33000,42000,88000,49000,57000,43000,20000,47000,248,2800,248,175,1400,354,318,500,335,188,157,197,307,244,115,86000,5100,49000,32000,37000,28000,4500,690000,236000,42000,35000,26000,59000,53000,64000,91000,47000,157000,221000,77000,82000,125000,154000,13000,238000,381000,23000,111000,43000,1500,52000,56000,25000,29000,59000,40000,63000,577000,36000,86000,32000,36000,20000,32000,1500,61000,59000,16000,31000,47000,93000,39000,80000,34000,211000,15000,51000,34000,183000,38000,36000,1100000,98000,40000,28000,393000,17000,32000,33000,74000,56000,20000,23000,31000,77000,64000,24000,47000,24000,41000,19000,32000,57000,64000,34000,583000,44000,13000,43000,39000,50000,40000,244000,53000,22000,82000,36000,52000,34000,41000,109000,177000,141000,66000,76000,81000,40000,262000,21000,33000,24000,118000,37000,54000,64000,43000,12000,27000,35000,17000,104000,43000,259000,176000,22000,16000,15000,336000,30000,62000,61000,38000,29000,23000,21000,30000,22000,32000,32000,50000,17000,50000,23000,82000,90000,36000,32000,21000,33000,25000,38000,1900000,36000,22000,35000,80000,68000,39000,34000,23000,33000,45000,33000,19000,49000,41000,111000,56000,18000,35000,29000,49000,58000,37000,42000,37000,33000,16000,29000,27000,62000,33000,838000,29000,22000,55000,89000,47000,43000,41000,133000,38000,27000,170000,26000,85000,43000,52000,7500,27000,28000,169000,44000,52000,23000,19000,38000,99000,81000,27000,85000,18000,34000,24000,24000,54000,21000,43000,24000,27000,228000,161000,27000,26000,53000,31000,82000,138000,34000,63000,23000,41000,30000,25000,103000,22000,37000,55000,21000,127000,10000,89000,51000,37000,30000,40000,24000,21000,51000,36000,30000,127000,143000,61000,7400,29000,49000,20000,20000,32000,11000,17000,385000,17000,23000,98000,40000,29000,7700,9500,40000,29000,176000,40000,79000,10000,5500,56000,187000,27000,22000,55000,6100,57000,93000,68000,21000,38000,51000,21000,17000,116000,33000,27000,217000,100000,152000,135000,213000,22000,45000,24000,33000,65000,31000,43000,41000,161000,102000,29000,11000,50000,31000,79000,212000,54000,6800,11000,44000,39000,42000,53000,73000,47000,81000,35000,9500,42000,113000,28000,21000,5600,6100,504000,97000,42000,94000,35000,782000,28000,213000,11000,102000,29000,48000,150000,238000,915000,161000,45000,52000,8200,10000,98000,29000,39000,42000,57000,19000,23000,37000,9300,26000,12000,18000,10000,7400,203000,18000,11000,174000,128000,85000,24000,16000,46000,90000,7600,35000,20000,12000,732000,21000,127000,10000,19000,21000,52000,24000,54000,48000,8600,136000,89000,47000,32000,95000,13000,3400,19000,11000,97000,12000,32000,15000,5900,5600,21000,35000,85000,65000,31000,18000,81000,14000,70000,9700,14000,12000,29000,24000,37000,21000,10000,11000,24000,26000,28000,54000,11000,44000,5800,74000,22000,17000,82000,45000,65000,77000,43000,18000,73000,27000,21000,25000,32000,384000,262000,252000,7100,11000,97000,41000,19000,30000,26000,10000,8700,35000,63000,30000,55000,27000,30000,18000,71000,22000,110000,24000,29000,17000,35000,133000,53000,953000,19000,34000,151000,17000,36000,297000,168000,19000,64000,27000,91000,13000,24000,57000,48000,17000,28000,64000,55000,9400,24000,32000,30000,45000,34000,31000,23000,20000,27000,60000,33000,27000,47000,42000,188000,38000,28000,13000,32000,47000,76000,19000,55000,82000,39000,307000,30000,66000,48000,25000,264000,128000,100000,57000,18000,65000,25000,25000,17000,24000,33000,49000,425000,27000,21000,68000,57000,30000,24000,72000,27000,30000,27000,36000,21000,49000,31000,59000,38000,15000,73000,107000,25000,49000,46000,57000,29000,7800,27000,39000,24000,22000,54000,11000,238000,48000,63000,54000,34000,44000,22000,183000,24000,76000,74000,55000,49000,22000,30000,178000,55000,53000,30000,30000,33000,247000,17000,48000,157000,56000,21000,57000,39000,59000,380000,21000,73000,31000,76000,31000,100000,30000,148000,100000,62000,49000,72000,14000,44000,48000,31000,102000,461000,19000,107000,40000,43000,20000,90000,179000,35000,95000,63000,35000,101000,29000,26000,14000,16000,20000,29000,25000,23000,33000,121000,25000,84000,63000,14000,37000,154000,25000,120000,47000,25000,12000,15000,15000,44000,18000,137000,27000,17000,20000,18000,32000,42000,48000,46000,60000,26000,102000,31000,42000,71000,168000,36000,1700000,43000,335000,29000,73000,43000,77000,70000,33000,50000,99000,21000,29000,19000,50000,81000,73000,41000,185000,18000,16000,12000,36000,19000,78000,54000,43000,21000,57000,11000,32000,44000,22000,16000,18000,40000,28000,13000,19000,38000,22000,23000,27000,29000,54000,47000,9500,67000,14000,11000,46000,43000,130000,28000,11000,34000,39000,36000,13000,36000,33000,3600,57000,29000,16000,8700,163000,40000,26000,21000,100000,57000,19000,32000,17000,12000,14000,99000,53000,221000,31000,51000,77000,50000,18000,15000,18000,19000,106000,28000,214000,36000,25000,10000,37000,15000,37000,103000,11000,23000,7200,115000,17000,84000,39000,29000,86000,75000,26000,77000,25000,137000,17000,24000,47000,50000,62000,13000,23000,32000,36000,33000,28000,21000,101000,26000,57000,16000,29000,88000,52000,51000,38000,13000,47000,36000,61000,54000,50000,57000,13000,18000,21000,36000,38000,302000,40000,21000,13000,88000,163000,41000,115000,87000,12000,29000,55000,18000,23000,26000,1700000,45000,77000,21000,21000,59000,18000,18000,212000,9900,177000,20000,19000,23000,27000,41000,69000,31000,14000,69000,18000,51000,14000,202000,290000,24000,37000,34000,6100,42000,24000,30000,11000,210000,27000,26000,185000,15000,13000,24000,25000,37000,74000,19000,23000,34000,123000,69000,20000,23000,31000,200000,103000,26000,28000,188000,24000,22000,21000,245000,80000,23000,56000,309000,26000,15000,25000,16000,18000,18000,47000,120000,29000,45000,27000,30000,23000,9800,17000,59000,15000,857000,34000,1600,12000,51000,14000,4800,19000,19000,24000,15000,133000,58000,71000,27000,5000,14000,14000,25000,18000,31000,19000,71000,18000,23000,20000,11000,28000,36000,148000,18000,37000,28000,20000,72000,18000,22000,29000,66000,28000,71000,40000,14000,577000,18000,17000,31000,13000,43000,32000,35000,40000,41000,44000,37000,21000,119000,27000,26000,65000,46000,103000,34000,88000,28000,226000,909000,53000,39000,108000,20000,30000,64000,48000,17000,54000,93000,15000,29000,33000,284000,37000,80000,34000,14000,104000,26000,33000,19000,32000,11000,26000,26000,13000,59000,68000,843000,30000,48000,21000,149000,23000,43000,25000,258000,36000,42000,95000,16000,21000,24000,24000,22000,38000,24000,33000,40000,82000,11000,15000,14000,56000,27000,26000,39000,60000,36000,138000,22000,65000,20000,12000,17000,10000,27000,31000,20000,36000,20000,151000,41000,122000,19000,33000,1100000,231000,36000,58000,32000,37000,13000,75000,30000,35000,40000,28000,31000,45000,24000,77000,47000,28000,10000,15000,14000,18000,46000,26000,122000,22000,16000,40000,42000,80000,88000,34000,12000,53000,10000,57000,35000,9100,54000,210000,28000,44000,22000,118000,15000,59000,115000,116000,53000,69000,142000,343000,64000,25000,293000,16000,26000,14000,39000,27000,13000,43000,33000,44000,101000,87000,34000,109000,134000,58000,14000,619000,156000,22000,47000,15000,41000,35000,42000,17000,14000,7400,29000,20000,39000,30000,38000,13000,13000,14000,26000,9200,20000,50000,12000,24000,21000,69000,172000,16000,23000,15000,18000,16000,20000,18000,23000,30000,15000,47000,17000,67000,8400,35000,8800,47000,19000,18000,9600,20000,71000,32000,16000,13000,9600,11000,18000,7900,14000,6800,12000,13000,58000,88000,14000,205000,7100,71000,49000,12000,12000,61000,26000,12000,62000,41000,14000,24000,13000,31000,21000,49000,14000,88000,231000,19000,43000,39000,125000,49000,6700,34000,16000,24000,32000,35000,8800,17000,24000,93000,12000,58000,11000,25000,38000,179000,44000,49000,13000,84000,22000,56000,9800,27000,26000,29000,10000,199000,559000,90000,116000,212000,34000,43000,41000,37000,11000,15000,12000,42000,17000,7100,26000,14000,462000,32000,29000,34000,55000,61000,30000,30000,65000,3000,19000,27000,49000,8300,30000,40000,52000,149000,68000,82000,32000,19000,216000,10000,13000,127000,193000,106000,13000,27000,18000,210000,68000,401000,16000,12000,41000,9500,99000,62000,26000,19000,60000,51000,21000,844000,33000,36000,26000,34000,13000,7100,26000,16000,19000,25000,67000,38000,56000,23000,23000,16000,11000,22000,20000,66000,22000,16000,33000,21000,490000,129000,37000,32000,156000,160000,23000,78000,298000,32000,44000,71000,54000,28000,16000,45000,44000,14000,73000,305000,66000,24000,162000,24000,25000,45000,58000,58000,93000,26000,59000,47000,36000,17000,101000,79000,163000,41000,41000,57000,25000,18000,22000,47000,23000,58000,15000,107000,21000,23000,19000,69000,128000,43000,28000,35000,55000,61000,66000,117000,10000,13000,41000,13000,69000,51000,45000,35000,180000,43000,52000,35000,35000,66000,21000,57000,25000,32000,14000,21000,192000,21000,17000,17000,25000,65000,60000,193000,132000,15000,21000,19000,13000,54000,43000,66000,214000,65000,26000,69000,88000,25000,20000,30000,53000,61000,30000,24000,29000,75000,78000,51000,28000,50000,98000,27000,17000,132000,39000,29000,55000,59000,91000,32000,139000,53000,27000,70000,479000,84000,30000,89000,67000,236000,40000,25000,16000,42000,30000,76000,20000,32000,18000,33000,35000,138000,598000,501000,276000,127000,80000,125000,361000,41000,17000,220000,34000,43000,39000,54000,56000,100000,145000,14000,41000,14000,42000,124000,127000,144000,37000,458000,2100000,88000,60000,109000],\"y0\":\" \",\"yaxis\":\"y\",\"type\":\"box\"}],                        {\"template\":{\"data\":{\"bar\":[{\"error_x\":{\"color\":\"#2a3f5f\"},\"error_y\":{\"color\":\"#2a3f5f\"},\"marker\":{\"line\":{\"color\":\"#E5ECF6\",\"width\":0.5},\"pattern\":{\"fillmode\":\"overlay\",\"size\":10,\"solidity\":0.2}},\"type\":\"bar\"}],\"barpolar\":[{\"marker\":{\"line\":{\"color\":\"#E5ECF6\",\"width\":0.5},\"pattern\":{\"fillmode\":\"overlay\",\"size\":10,\"solidity\":0.2}},\"type\":\"barpolar\"}],\"carpet\":[{\"aaxis\":{\"endlinecolor\":\"#2a3f5f\",\"gridcolor\":\"white\",\"linecolor\":\"white\",\"minorgridcolor\":\"white\",\"startlinecolor\":\"#2a3f5f\"},\"baxis\":{\"endlinecolor\":\"#2a3f5f\",\"gridcolor\":\"white\",\"linecolor\":\"white\",\"minorgridcolor\":\"white\",\"startlinecolor\":\"#2a3f5f\"},\"type\":\"carpet\"}],\"choropleth\":[{\"colorbar\":{\"outlinewidth\":0,\"ticks\":\"\"},\"type\":\"choropleth\"}],\"contour\":[{\"colorbar\":{\"outlinewidth\":0,\"ticks\":\"\"},\"colorscale\":[[0.0,\"#0d0887\"],[0.1111111111111111,\"#46039f\"],[0.2222222222222222,\"#7201a8\"],[0.3333333333333333,\"#9c179e\"],[0.4444444444444444,\"#bd3786\"],[0.5555555555555556,\"#d8576b\"],[0.6666666666666666,\"#ed7953\"],[0.7777777777777778,\"#fb9f3a\"],[0.8888888888888888,\"#fdca26\"],[1.0,\"#f0f921\"]],\"type\":\"contour\"}],\"contourcarpet\":[{\"colorbar\":{\"outlinewidth\":0,\"ticks\":\"\"},\"type\":\"contourcarpet\"}],\"heatmap\":[{\"colorbar\":{\"outlinewidth\":0,\"ticks\":\"\"},\"colorscale\":[[0.0,\"#0d0887\"],[0.1111111111111111,\"#46039f\"],[0.2222222222222222,\"#7201a8\"],[0.3333333333333333,\"#9c179e\"],[0.4444444444444444,\"#bd3786\"],[0.5555555555555556,\"#d8576b\"],[0.6666666666666666,\"#ed7953\"],[0.7777777777777778,\"#fb9f3a\"],[0.8888888888888888,\"#fdca26\"],[1.0,\"#f0f921\"]],\"type\":\"heatmap\"}],\"heatmapgl\":[{\"colorbar\":{\"outlinewidth\":0,\"ticks\":\"\"},\"colorscale\":[[0.0,\"#0d0887\"],[0.1111111111111111,\"#46039f\"],[0.2222222222222222,\"#7201a8\"],[0.3333333333333333,\"#9c179e\"],[0.4444444444444444,\"#bd3786\"],[0.5555555555555556,\"#d8576b\"],[0.6666666666666666,\"#ed7953\"],[0.7777777777777778,\"#fb9f3a\"],[0.8888888888888888,\"#fdca26\"],[1.0,\"#f0f921\"]],\"type\":\"heatmapgl\"}],\"histogram\":[{\"marker\":{\"pattern\":{\"fillmode\":\"overlay\",\"size\":10,\"solidity\":0.2}},\"type\":\"histogram\"}],\"histogram2d\":[{\"colorbar\":{\"outlinewidth\":0,\"ticks\":\"\"},\"colorscale\":[[0.0,\"#0d0887\"],[0.1111111111111111,\"#46039f\"],[0.2222222222222222,\"#7201a8\"],[0.3333333333333333,\"#9c179e\"],[0.4444444444444444,\"#bd3786\"],[0.5555555555555556,\"#d8576b\"],[0.6666666666666666,\"#ed7953\"],[0.7777777777777778,\"#fb9f3a\"],[0.8888888888888888,\"#fdca26\"],[1.0,\"#f0f921\"]],\"type\":\"histogram2d\"}],\"histogram2dcontour\":[{\"colorbar\":{\"outlinewidth\":0,\"ticks\":\"\"},\"colorscale\":[[0.0,\"#0d0887\"],[0.1111111111111111,\"#46039f\"],[0.2222222222222222,\"#7201a8\"],[0.3333333333333333,\"#9c179e\"],[0.4444444444444444,\"#bd3786\"],[0.5555555555555556,\"#d8576b\"],[0.6666666666666666,\"#ed7953\"],[0.7777777777777778,\"#fb9f3a\"],[0.8888888888888888,\"#fdca26\"],[1.0,\"#f0f921\"]],\"type\":\"histogram2dcontour\"}],\"mesh3d\":[{\"colorbar\":{\"outlinewidth\":0,\"ticks\":\"\"},\"type\":\"mesh3d\"}],\"parcoords\":[{\"line\":{\"colorbar\":{\"outlinewidth\":0,\"ticks\":\"\"}},\"type\":\"parcoords\"}],\"pie\":[{\"automargin\":true,\"type\":\"pie\"}],\"scatter\":[{\"marker\":{\"colorbar\":{\"outlinewidth\":0,\"ticks\":\"\"}},\"type\":\"scatter\"}],\"scatter3d\":[{\"line\":{\"colorbar\":{\"outlinewidth\":0,\"ticks\":\"\"}},\"marker\":{\"colorbar\":{\"outlinewidth\":0,\"ticks\":\"\"}},\"type\":\"scatter3d\"}],\"scattercarpet\":[{\"marker\":{\"colorbar\":{\"outlinewidth\":0,\"ticks\":\"\"}},\"type\":\"scattercarpet\"}],\"scattergeo\":[{\"marker\":{\"colorbar\":{\"outlinewidth\":0,\"ticks\":\"\"}},\"type\":\"scattergeo\"}],\"scattergl\":[{\"marker\":{\"colorbar\":{\"outlinewidth\":0,\"ticks\":\"\"}},\"type\":\"scattergl\"}],\"scattermapbox\":[{\"marker\":{\"colorbar\":{\"outlinewidth\":0,\"ticks\":\"\"}},\"type\":\"scattermapbox\"}],\"scatterpolar\":[{\"marker\":{\"colorbar\":{\"outlinewidth\":0,\"ticks\":\"\"}},\"type\":\"scatterpolar\"}],\"scatterpolargl\":[{\"marker\":{\"colorbar\":{\"outlinewidth\":0,\"ticks\":\"\"}},\"type\":\"scatterpolargl\"}],\"scatterternary\":[{\"marker\":{\"colorbar\":{\"outlinewidth\":0,\"ticks\":\"\"}},\"type\":\"scatterternary\"}],\"surface\":[{\"colorbar\":{\"outlinewidth\":0,\"ticks\":\"\"},\"colorscale\":[[0.0,\"#0d0887\"],[0.1111111111111111,\"#46039f\"],[0.2222222222222222,\"#7201a8\"],[0.3333333333333333,\"#9c179e\"],[0.4444444444444444,\"#bd3786\"],[0.5555555555555556,\"#d8576b\"],[0.6666666666666666,\"#ed7953\"],[0.7777777777777778,\"#fb9f3a\"],[0.8888888888888888,\"#fdca26\"],[1.0,\"#f0f921\"]],\"type\":\"surface\"}],\"table\":[{\"cells\":{\"fill\":{\"color\":\"#EBF0F8\"},\"line\":{\"color\":\"white\"}},\"header\":{\"fill\":{\"color\":\"#C8D4E3\"},\"line\":{\"color\":\"white\"}},\"type\":\"table\"}]},\"layout\":{\"annotationdefaults\":{\"arrowcolor\":\"#2a3f5f\",\"arrowhead\":0,\"arrowwidth\":1},\"autotypenumbers\":\"strict\",\"coloraxis\":{\"colorbar\":{\"outlinewidth\":0,\"ticks\":\"\"}},\"colorscale\":{\"diverging\":[[0,\"#8e0152\"],[0.1,\"#c51b7d\"],[0.2,\"#de77ae\"],[0.3,\"#f1b6da\"],[0.4,\"#fde0ef\"],[0.5,\"#f7f7f7\"],[0.6,\"#e6f5d0\"],[0.7,\"#b8e186\"],[0.8,\"#7fbc41\"],[0.9,\"#4d9221\"],[1,\"#276419\"]],\"sequential\":[[0.0,\"#0d0887\"],[0.1111111111111111,\"#46039f\"],[0.2222222222222222,\"#7201a8\"],[0.3333333333333333,\"#9c179e\"],[0.4444444444444444,\"#bd3786\"],[0.5555555555555556,\"#d8576b\"],[0.6666666666666666,\"#ed7953\"],[0.7777777777777778,\"#fb9f3a\"],[0.8888888888888888,\"#fdca26\"],[1.0,\"#f0f921\"]],\"sequentialminus\":[[0.0,\"#0d0887\"],[0.1111111111111111,\"#46039f\"],[0.2222222222222222,\"#7201a8\"],[0.3333333333333333,\"#9c179e\"],[0.4444444444444444,\"#bd3786\"],[0.5555555555555556,\"#d8576b\"],[0.6666666666666666,\"#ed7953\"],[0.7777777777777778,\"#fb9f3a\"],[0.8888888888888888,\"#fdca26\"],[1.0,\"#f0f921\"]]},\"colorway\":[\"#636efa\",\"#EF553B\",\"#00cc96\",\"#ab63fa\",\"#FFA15A\",\"#19d3f3\",\"#FF6692\",\"#B6E880\",\"#FF97FF\",\"#FECB52\"],\"font\":{\"color\":\"#2a3f5f\"},\"geo\":{\"bgcolor\":\"white\",\"lakecolor\":\"white\",\"landcolor\":\"#E5ECF6\",\"showlakes\":true,\"showland\":true,\"subunitcolor\":\"white\"},\"hoverlabel\":{\"align\":\"left\"},\"hovermode\":\"closest\",\"mapbox\":{\"style\":\"light\"},\"paper_bgcolor\":\"white\",\"plot_bgcolor\":\"#E5ECF6\",\"polar\":{\"angularaxis\":{\"gridcolor\":\"white\",\"linecolor\":\"white\",\"ticks\":\"\"},\"bgcolor\":\"#E5ECF6\",\"radialaxis\":{\"gridcolor\":\"white\",\"linecolor\":\"white\",\"ticks\":\"\"}},\"scene\":{\"xaxis\":{\"backgroundcolor\":\"#E5ECF6\",\"gridcolor\":\"white\",\"gridwidth\":2,\"linecolor\":\"white\",\"showbackground\":true,\"ticks\":\"\",\"zerolinecolor\":\"white\"},\"yaxis\":{\"backgroundcolor\":\"#E5ECF6\",\"gridcolor\":\"white\",\"gridwidth\":2,\"linecolor\":\"white\",\"showbackground\":true,\"ticks\":\"\",\"zerolinecolor\":\"white\"},\"zaxis\":{\"backgroundcolor\":\"#E5ECF6\",\"gridcolor\":\"white\",\"gridwidth\":2,\"linecolor\":\"white\",\"showbackground\":true,\"ticks\":\"\",\"zerolinecolor\":\"white\"}},\"shapedefaults\":{\"line\":{\"color\":\"#2a3f5f\"}},\"ternary\":{\"aaxis\":{\"gridcolor\":\"white\",\"linecolor\":\"white\",\"ticks\":\"\"},\"baxis\":{\"gridcolor\":\"white\",\"linecolor\":\"white\",\"ticks\":\"\"},\"bgcolor\":\"#E5ECF6\",\"caxis\":{\"gridcolor\":\"white\",\"linecolor\":\"white\",\"ticks\":\"\"}},\"title\":{\"x\":0.05},\"xaxis\":{\"automargin\":true,\"gridcolor\":\"white\",\"linecolor\":\"white\",\"ticks\":\"\",\"title\":{\"standoff\":15},\"zerolinecolor\":\"white\",\"zerolinewidth\":2},\"yaxis\":{\"automargin\":true,\"gridcolor\":\"white\",\"linecolor\":\"white\",\"ticks\":\"\",\"title\":{\"standoff\":15},\"zerolinecolor\":\"white\",\"zerolinewidth\":2}}},\"xaxis\":{\"anchor\":\"y\",\"domain\":[0.0,1.0],\"title\":{\"text\":\"variable\"}},\"yaxis\":{\"anchor\":\"x\",\"domain\":[0.0,1.0],\"title\":{\"text\":\"value\"}},\"legend\":{\"tracegroupgap\":0},\"margin\":{\"t\":60},\"boxmode\":\"group\"},                        {\"responsive\": true}                    ).then(function(){\n",
              "                            \n",
              "var gd = document.getElementById('cef03880-06e1-4d20-aaa4-b40c0757e769');\n",
              "var x = new MutationObserver(function (mutations, observer) {{\n",
              "        var display = window.getComputedStyle(gd).display;\n",
              "        if (!display || display === 'none') {{\n",
              "            console.log([gd, 'removed!']);\n",
              "            Plotly.purge(gd);\n",
              "            observer.disconnect();\n",
              "        }}\n",
              "}});\n",
              "\n",
              "// Listen for the removal of the full notebook cells\n",
              "var notebookContainer = gd.closest('#notebook-container');\n",
              "if (notebookContainer) {{\n",
              "    x.observe(notebookContainer, {childList: true});\n",
              "}}\n",
              "\n",
              "// Listen for the clearing of the current output cell\n",
              "var outputEl = gd.closest('.output');\n",
              "if (outputEl) {{\n",
              "    x.observe(outputEl, {childList: true});\n",
              "}}\n",
              "\n",
              "                        })                };                            </script>        </div>\n",
              "</body>\n",
              "</html>"
            ]
          },
          "metadata": {}
        }
      ]
    },
    {
      "cell_type": "code",
      "source": [
        "df.corr()"
      ],
      "metadata": {
        "colab": {
          "base_uri": "https://localhost:8080/",
          "height": 112
        },
        "id": "VFQYcR6VcZA3",
        "outputId": "343c8631-552c-47c7-fa73-144793f1cf1b"
      },
      "execution_count": null,
      "outputs": [
        {
          "output_type": "execute_result",
          "data": {
            "text/html": [
              "\n",
              "  <div id=\"df-33d004b6-0f7c-452c-b0bf-2430e88d8cc0\">\n",
              "    <div class=\"colab-df-container\">\n",
              "      <div>\n",
              "<style scoped>\n",
              "    .dataframe tbody tr th:only-of-type {\n",
              "        vertical-align: middle;\n",
              "    }\n",
              "\n",
              "    .dataframe tbody tr th {\n",
              "        vertical-align: top;\n",
              "    }\n",
              "\n",
              "    .dataframe thead th {\n",
              "        text-align: right;\n",
              "    }\n",
              "</style>\n",
              "<table border=\"1\" class=\"dataframe\">\n",
              "  <thead>\n",
              "    <tr style=\"text-align: right;\">\n",
              "      <th></th>\n",
              "      <th>views</th>\n",
              "      <th>likes</th>\n",
              "    </tr>\n",
              "  </thead>\n",
              "  <tbody>\n",
              "    <tr>\n",
              "      <th>views</th>\n",
              "      <td>1.000000</td>\n",
              "      <td>0.999661</td>\n",
              "    </tr>\n",
              "    <tr>\n",
              "      <th>likes</th>\n",
              "      <td>0.999661</td>\n",
              "      <td>1.000000</td>\n",
              "    </tr>\n",
              "  </tbody>\n",
              "</table>\n",
              "</div>\n",
              "      <button class=\"colab-df-convert\" onclick=\"convertToInteractive('df-33d004b6-0f7c-452c-b0bf-2430e88d8cc0')\"\n",
              "              title=\"Convert this dataframe to an interactive table.\"\n",
              "              style=\"display:none;\">\n",
              "        \n",
              "  <svg xmlns=\"http://www.w3.org/2000/svg\" height=\"24px\"viewBox=\"0 0 24 24\"\n",
              "       width=\"24px\">\n",
              "    <path d=\"M0 0h24v24H0V0z\" fill=\"none\"/>\n",
              "    <path d=\"M18.56 5.44l.94 2.06.94-2.06 2.06-.94-2.06-.94-.94-2.06-.94 2.06-2.06.94zm-11 1L8.5 8.5l.94-2.06 2.06-.94-2.06-.94L8.5 2.5l-.94 2.06-2.06.94zm10 10l.94 2.06.94-2.06 2.06-.94-2.06-.94-.94-2.06-.94 2.06-2.06.94z\"/><path d=\"M17.41 7.96l-1.37-1.37c-.4-.4-.92-.59-1.43-.59-.52 0-1.04.2-1.43.59L10.3 9.45l-7.72 7.72c-.78.78-.78 2.05 0 2.83L4 21.41c.39.39.9.59 1.41.59.51 0 1.02-.2 1.41-.59l7.78-7.78 2.81-2.81c.8-.78.8-2.07 0-2.86zM5.41 20L4 18.59l7.72-7.72 1.47 1.35L5.41 20z\"/>\n",
              "  </svg>\n",
              "      </button>\n",
              "      \n",
              "  <style>\n",
              "    .colab-df-container {\n",
              "      display:flex;\n",
              "      flex-wrap:wrap;\n",
              "      gap: 12px;\n",
              "    }\n",
              "\n",
              "    .colab-df-convert {\n",
              "      background-color: #E8F0FE;\n",
              "      border: none;\n",
              "      border-radius: 50%;\n",
              "      cursor: pointer;\n",
              "      display: none;\n",
              "      fill: #1967D2;\n",
              "      height: 32px;\n",
              "      padding: 0 0 0 0;\n",
              "      width: 32px;\n",
              "    }\n",
              "\n",
              "    .colab-df-convert:hover {\n",
              "      background-color: #E2EBFA;\n",
              "      box-shadow: 0px 1px 2px rgba(60, 64, 67, 0.3), 0px 1px 3px 1px rgba(60, 64, 67, 0.15);\n",
              "      fill: #174EA6;\n",
              "    }\n",
              "\n",
              "    [theme=dark] .colab-df-convert {\n",
              "      background-color: #3B4455;\n",
              "      fill: #D2E3FC;\n",
              "    }\n",
              "\n",
              "    [theme=dark] .colab-df-convert:hover {\n",
              "      background-color: #434B5C;\n",
              "      box-shadow: 0px 1px 3px 1px rgba(0, 0, 0, 0.15);\n",
              "      filter: drop-shadow(0px 1px 2px rgba(0, 0, 0, 0.3));\n",
              "      fill: #FFFFFF;\n",
              "    }\n",
              "  </style>\n",
              "\n",
              "      <script>\n",
              "        const buttonEl =\n",
              "          document.querySelector('#df-33d004b6-0f7c-452c-b0bf-2430e88d8cc0 button.colab-df-convert');\n",
              "        buttonEl.style.display =\n",
              "          google.colab.kernel.accessAllowed ? 'block' : 'none';\n",
              "\n",
              "        async function convertToInteractive(key) {\n",
              "          const element = document.querySelector('#df-33d004b6-0f7c-452c-b0bf-2430e88d8cc0');\n",
              "          const dataTable =\n",
              "            await google.colab.kernel.invokeFunction('convertToInteractive',\n",
              "                                                     [key], {});\n",
              "          if (!dataTable) return;\n",
              "\n",
              "          const docLinkHtml = 'Like what you see? Visit the ' +\n",
              "            '<a target=\"_blank\" href=https://colab.research.google.com/notebooks/data_table.ipynb>data table notebook</a>'\n",
              "            + ' to learn more about interactive tables.';\n",
              "          element.innerHTML = '';\n",
              "          dataTable['output_type'] = 'display_data';\n",
              "          await google.colab.output.renderOutput(dataTable, element);\n",
              "          const docLink = document.createElement('div');\n",
              "          docLink.innerHTML = docLinkHtml;\n",
              "          element.appendChild(docLink);\n",
              "        }\n",
              "      </script>\n",
              "    </div>\n",
              "  </div>\n",
              "  "
            ],
            "text/plain": [
              "          views     likes\n",
              "views  1.000000  0.999661\n",
              "likes  0.999661  1.000000"
            ]
          },
          "metadata": {},
          "execution_count": 20
        }
      ]
    },
    {
      "cell_type": "code",
      "source": [
        "print('\\nviews\\n', df['views'].mode())\n",
        "print('\\nlikes\\n', df['likes'].mode())"
      ],
      "metadata": {
        "colab": {
          "base_uri": "https://localhost:8080/"
        },
        "id": "0ugU8o_icnXT",
        "outputId": "9fd5391a-bef3-46f0-b0b4-e6481bdfe01d"
      },
      "execution_count": null,
      "outputs": [
        {
          "output_type": "stream",
          "name": "stdout",
          "text": [
            "\n",
            "views\n",
            " 0    1300000\n",
            "dtype: int64\n",
            "\n",
            "likes\n",
            " 0    39000\n",
            "1    43000\n",
            "dtype: int64\n"
          ]
        }
      ]
    },
    {
      "cell_type": "code",
      "source": [
        "df.describe()"
      ],
      "metadata": {
        "colab": {
          "base_uri": "https://localhost:8080/",
          "height": 279
        },
        "id": "UfsImgfLdKF_",
        "outputId": "8d156f34-21d1-4d03-c7be-e43b732dce98"
      },
      "execution_count": null,
      "outputs": [
        {
          "output_type": "execute_result",
          "data": {
            "text/html": [
              "\n",
              "  <div id=\"df-b7adddc7-372e-4ed0-ab00-1d1d42bb739f\">\n",
              "    <div class=\"colab-df-container\">\n",
              "      <div>\n",
              "<style scoped>\n",
              "    .dataframe tbody tr th:only-of-type {\n",
              "        vertical-align: middle;\n",
              "    }\n",
              "\n",
              "    .dataframe tbody tr th {\n",
              "        vertical-align: top;\n",
              "    }\n",
              "\n",
              "    .dataframe thead th {\n",
              "        text-align: right;\n",
              "    }\n",
              "</style>\n",
              "<table border=\"1\" class=\"dataframe\">\n",
              "  <thead>\n",
              "    <tr style=\"text-align: right;\">\n",
              "      <th></th>\n",
              "      <th>views</th>\n",
              "      <th>likes</th>\n",
              "    </tr>\n",
              "  </thead>\n",
              "  <tbody>\n",
              "    <tr>\n",
              "      <th>count</th>\n",
              "      <td>5.439000e+03</td>\n",
              "      <td>5.439000e+03</td>\n",
              "    </tr>\n",
              "    <tr>\n",
              "      <th>mean</th>\n",
              "      <td>2.061955e+06</td>\n",
              "      <td>6.261912e+04</td>\n",
              "    </tr>\n",
              "    <tr>\n",
              "      <th>std</th>\n",
              "      <td>3.567316e+06</td>\n",
              "      <td>1.076533e+05</td>\n",
              "    </tr>\n",
              "    <tr>\n",
              "      <th>min</th>\n",
              "      <td>1.200000e+03</td>\n",
              "      <td>3.700000e+01</td>\n",
              "    </tr>\n",
              "    <tr>\n",
              "      <th>25%</th>\n",
              "      <td>6.710000e+05</td>\n",
              "      <td>2.000000e+04</td>\n",
              "    </tr>\n",
              "    <tr>\n",
              "      <th>50%</th>\n",
              "      <td>1.300000e+06</td>\n",
              "      <td>4.100000e+04</td>\n",
              "    </tr>\n",
              "    <tr>\n",
              "      <th>75%</th>\n",
              "      <td>2.100000e+06</td>\n",
              "      <td>6.500000e+04</td>\n",
              "    </tr>\n",
              "    <tr>\n",
              "      <th>max</th>\n",
              "      <td>7.200000e+07</td>\n",
              "      <td>2.100000e+06</td>\n",
              "    </tr>\n",
              "  </tbody>\n",
              "</table>\n",
              "</div>\n",
              "      <button class=\"colab-df-convert\" onclick=\"convertToInteractive('df-b7adddc7-372e-4ed0-ab00-1d1d42bb739f')\"\n",
              "              title=\"Convert this dataframe to an interactive table.\"\n",
              "              style=\"display:none;\">\n",
              "        \n",
              "  <svg xmlns=\"http://www.w3.org/2000/svg\" height=\"24px\"viewBox=\"0 0 24 24\"\n",
              "       width=\"24px\">\n",
              "    <path d=\"M0 0h24v24H0V0z\" fill=\"none\"/>\n",
              "    <path d=\"M18.56 5.44l.94 2.06.94-2.06 2.06-.94-2.06-.94-.94-2.06-.94 2.06-2.06.94zm-11 1L8.5 8.5l.94-2.06 2.06-.94-2.06-.94L8.5 2.5l-.94 2.06-2.06.94zm10 10l.94 2.06.94-2.06 2.06-.94-2.06-.94-.94-2.06-.94 2.06-2.06.94z\"/><path d=\"M17.41 7.96l-1.37-1.37c-.4-.4-.92-.59-1.43-.59-.52 0-1.04.2-1.43.59L10.3 9.45l-7.72 7.72c-.78.78-.78 2.05 0 2.83L4 21.41c.39.39.9.59 1.41.59.51 0 1.02-.2 1.41-.59l7.78-7.78 2.81-2.81c.8-.78.8-2.07 0-2.86zM5.41 20L4 18.59l7.72-7.72 1.47 1.35L5.41 20z\"/>\n",
              "  </svg>\n",
              "      </button>\n",
              "      \n",
              "  <style>\n",
              "    .colab-df-container {\n",
              "      display:flex;\n",
              "      flex-wrap:wrap;\n",
              "      gap: 12px;\n",
              "    }\n",
              "\n",
              "    .colab-df-convert {\n",
              "      background-color: #E8F0FE;\n",
              "      border: none;\n",
              "      border-radius: 50%;\n",
              "      cursor: pointer;\n",
              "      display: none;\n",
              "      fill: #1967D2;\n",
              "      height: 32px;\n",
              "      padding: 0 0 0 0;\n",
              "      width: 32px;\n",
              "    }\n",
              "\n",
              "    .colab-df-convert:hover {\n",
              "      background-color: #E2EBFA;\n",
              "      box-shadow: 0px 1px 2px rgba(60, 64, 67, 0.3), 0px 1px 3px 1px rgba(60, 64, 67, 0.15);\n",
              "      fill: #174EA6;\n",
              "    }\n",
              "\n",
              "    [theme=dark] .colab-df-convert {\n",
              "      background-color: #3B4455;\n",
              "      fill: #D2E3FC;\n",
              "    }\n",
              "\n",
              "    [theme=dark] .colab-df-convert:hover {\n",
              "      background-color: #434B5C;\n",
              "      box-shadow: 0px 1px 3px 1px rgba(0, 0, 0, 0.15);\n",
              "      filter: drop-shadow(0px 1px 2px rgba(0, 0, 0, 0.3));\n",
              "      fill: #FFFFFF;\n",
              "    }\n",
              "  </style>\n",
              "\n",
              "      <script>\n",
              "        const buttonEl =\n",
              "          document.querySelector('#df-b7adddc7-372e-4ed0-ab00-1d1d42bb739f button.colab-df-convert');\n",
              "        buttonEl.style.display =\n",
              "          google.colab.kernel.accessAllowed ? 'block' : 'none';\n",
              "\n",
              "        async function convertToInteractive(key) {\n",
              "          const element = document.querySelector('#df-b7adddc7-372e-4ed0-ab00-1d1d42bb739f');\n",
              "          const dataTable =\n",
              "            await google.colab.kernel.invokeFunction('convertToInteractive',\n",
              "                                                     [key], {});\n",
              "          if (!dataTable) return;\n",
              "\n",
              "          const docLinkHtml = 'Like what you see? Visit the ' +\n",
              "            '<a target=\"_blank\" href=https://colab.research.google.com/notebooks/data_table.ipynb>data table notebook</a>'\n",
              "            + ' to learn more about interactive tables.';\n",
              "          element.innerHTML = '';\n",
              "          dataTable['output_type'] = 'display_data';\n",
              "          await google.colab.output.renderOutput(dataTable, element);\n",
              "          const docLink = document.createElement('div');\n",
              "          docLink.innerHTML = docLinkHtml;\n",
              "          element.appendChild(docLink);\n",
              "        }\n",
              "      </script>\n",
              "    </div>\n",
              "  </div>\n",
              "  "
            ],
            "text/plain": [
              "              views         likes\n",
              "count  5.439000e+03  5.439000e+03\n",
              "mean   2.061955e+06  6.261912e+04\n",
              "std    3.567316e+06  1.076533e+05\n",
              "min    1.200000e+03  3.700000e+01\n",
              "25%    6.710000e+05  2.000000e+04\n",
              "50%    1.300000e+06  4.100000e+04\n",
              "75%    2.100000e+06  6.500000e+04\n",
              "max    7.200000e+07  2.100000e+06"
            ]
          },
          "metadata": {},
          "execution_count": 23
        }
      ]
    }
  ]
}